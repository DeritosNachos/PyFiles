{
 "cells": [
  {
   "cell_type": "raw",
   "metadata": {},
   "source": [
    "a) A full class\n",
    "George has the same number of male classmates as female classmates. His classmate Sandra has three-fourths as many female classmates as male classmates.\n",
    "\n",
    "How many students are in the class? Try to use loops to check plausible combinations, and stop when you found the answer. "
   ]
  },
  {
   "cell_type": "code",
   "execution_count": 1,
   "metadata": {},
   "outputs": [
    {
     "name": "stdout",
     "output_type": "stream",
     "text": [
      "7\n",
      "8\n"
     ]
    }
   ],
   "source": [
    "for i in range(0,20):\n",
    "    totalmales = 1 + i\n",
    "    totalfems = totalmales - 1\n",
    "    ratio = (totalfems - 1) / (totalmales)\n",
    "    if ratio == .75:\n",
    "        print(totalfems)\n",
    "        print(totalmales)"
   ]
  },
  {
   "cell_type": "code",
   "execution_count": null,
   "outputs": [],
   "source": [],
   "metadata": {
    "collapsed": false
   }
  }
 ],
 "metadata": {
  "kernelspec": {
   "display_name": "Python 3",
   "language": "python",
   "name": "python3"
  },
  "language_info": {
   "codemirror_mode": {
    "name": "ipython",
    "version": 3
   },
   "file_extension": ".py",
   "mimetype": "text/x-python",
   "name": "python",
   "nbconvert_exporter": "python",
   "pygments_lexer": "ipython3",
   "version": "3.7.3"
  }
 },
 "nbformat": 4,
 "nbformat_minor": 2
}
