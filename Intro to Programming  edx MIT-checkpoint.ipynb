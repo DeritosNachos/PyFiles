{
 "cells": [
  {
   "cell_type": "raw",
   "metadata": {},
   "source": [
    "What does a computer do? \n",
    "\n",
    "Fundamentally performs calculations\n",
    "and Remember results\n",
    "Memory, RAM\n",
    "Abstract, encapsulate, and treat them as primitives\n",
    "45 billion pages with 100 words per page, 10 operations to find a word on a page, you need 5.2 days to find word\n",
    "some problems are still too complex to solve w/ a computer\n",
    "works in favor in terms of encryption \n",
    "Turing halting problem can take as input any other program and tell whether or not the programn will always work, or break/stop/halt with an answer "
   ]
  },
  {
   "cell_type": "raw",
   "metadata": {},
   "source": [
    "Knowledge\n",
    "\n",
    "declarative knowledge: statements of fact, or truth \n",
    "ex. square root of a number x is y such that y*y = x\n",
    "imperative knowledge: sequence of how-to steps to do something\n",
    "ex.\n",
    "1) Start with a guess g \n",
    "2) If g*g is close enough to x, stop and say g is the answer\n",
    "3) Otherwise make a new guess by averaging g and x/g \n",
    "4) Using the new guess, repeat process until close enough\n",
    "\n",
    "Recipe\n",
    "sequence of steps\n",
    "flow of control that specifies when each step is executed\n",
    "means of when to stop"
   ]
  },
  {
   "cell_type": "raw",
   "metadata": {},
   "source": [
    "Machines\n",
    "\n",
    "Fixed program\n",
    "can only compute one thing\n",
    "\n",
    "Stored program\n",
    "the machine stores and executes instructions \n",
    "*has interpreter is a special program walk through each of those sequence of instructions in turn doing the computation that I want\n",
    "\n",
    "Parts of computer\n",
    "Memory: data or the sequence of instructions\n",
    "Arithmetic Logic Unit: does primitive logic operations \n",
    "Control Unit: Program counter points to location of first instruction \n",
    "Does test, then value in program counter changes\n",
    "\n",
    "Stored program computer is sequence of instructions stored inside a computer\n",
    "1) arithmetic and logic\n",
    "2) simple tests\n",
    "3) moving data\n",
    "\n",
    "Alan Turing said compute anything using 6 primitives\n",
    "Turing complete anything computable in one language is computable in any other programming language"
   ]
  },
  {
   "cell_type": "raw",
   "metadata": {},
   "source": [
    "Languages\n",
    "\n",
    "any legal expression is associated a value\n",
    "value is the meaning of the expression\n",
    "\n",
    "programming language is: \n",
    "a set of primitives\n",
    "a means of combination (a way of putting primitives together to create new expressions)\n",
    "a means of abstraction (taking complex expression and treating as primitives)\n",
    "\n",
    "what are primitives:\n",
    "analogy: in english primitive constructs are words\n",
    "in programming language, they are numbers, strings, and simple operations\n",
    "\n",
    "requires syntax \n",
    "3'hi' --> invalid syntax       ie grammar\n",
    "3 + 2.5 --> valid syntax\n",
    "\n",
    "semantic errors: the meaning of the expression, what does it evaluate to\n",
    "\n",
    "Static semantics: \n",
    "3 + 'hi' --> invalid static semantic but valid syntax (adding int and str)\n",
    "3.2 * 3 --> valid syntax\n",
    "\n",
    "Semantics is the meaning associated with a syntactically correct string of symbols with no static semantic errors\n",
    "*any syntactically correct and static semantically correct expression in a programming language will only have one meaning\n",
    "However it may not be what the programmer intended\n",
    "\n",
    "Syntactic Errors: common and easily caught\n",
    "\n",
    "Static Semantic Errors: some languages check for these before running program, can cause unpredictable behavior\n",
    "\n",
    "No semantic errors but different meaning than what programmer intended \n",
    "Program crashes, stops running \n",
    "Program runs forevers\n",
    "Program outputs different results than expected\n",
    "\n",
    "Determines whether a string is legal: syntax\n",
    "Determines whether a string has meaning: static semantics\n",
    "Assigns a meaning to a legal sentence: semantics\n"
   ]
  },
  {
   "cell_type": "raw",
   "metadata": {},
   "source": [
    "Programs \n",
    "\n",
    "A sequence of definitions and commands:\n",
    "definitions evaluated (a way of assigning names to values)\n",
    "commands executed by Python interpreter in a shell\n",
    "SHELL:\n",
    "A shell is simply a window into which I can type expressions. They get passed into the Python interpreter, it follws the set of instructions to figure out what's the semantics -- what's the meaning associated with that expression? And then it prints out the result.\n",
    "\n",
    "Commands: \n",
    "Statements that instruct the interpreter to do something. \n",
    "\n",
    "You can type directly into the shell, something the interpreter is directly listening to \n",
    "\n",
    "First, assign names to values, or creating procedures that we're going to treat as if they're primitives.\n",
    "Commands are simpler expressions that we can execute directly within Python\n",
    "Commands are statements that instruct the interpreter to do something\n",
    "\n",
    "Every object has a type associated, will tell a program whether it should act on it or not\n",
    "\n",
    "Scalar objects:\n",
    "int\n",
    "float\n",
    "bool\n",
    "Nonetype- special has one value, None\n",
    "\n",
    "Operators ON ints and floats\n",
    "i + j --> the sum\n",
    "i - j --> the difference\n",
    "i * j --> the product\n",
    "i / j --> division\n",
    "i // j --> truncated division              #produces an int\n",
    "i % j --> remainder when i is divided by j \n",
    "i ** j --> i to the power of j\n",
    "\n",
    "if i and j are ints, the result is an int \n",
    "if i and j are floats, the result will also be a float\n",
    "\n",
    "if you do 3.0 plus 2, you will get 5.0\n",
    "\n",
    "Comparison Operators ON int and float\n",
    "\n",
    "i > j --> greater than\n",
    "i < j --> less than\n",
    "i <= j --> less than or equal\n",
    "i >= j --> greater than or equal\n",
    "i == j --> equal\n",
    "i != j --> does not equal\n",
    "\n",
    "Logic operators ON bool\n",
    "\n",
    "not a --> True if a is False, or False if a is True\n",
    "a and b --> True only if both are True\n",
    "a or b --> True if either or both are True"
   ]
  },
  {
   "cell_type": "code",
   "execution_count": 2,
   "metadata": {},
   "outputs": [
    {
     "name": "stdout",
     "output_type": "stream",
     "text": [
      "<class 'NoneType'>\n",
      "5.0\n",
      "3\n"
     ]
    }
   ],
   "source": [
    "print(type(None))\n",
    "print(float(5))\n",
    "print(int(3.9))"
   ]
  },
  {
   "cell_type": "code",
   "execution_count": 4,
   "metadata": {},
   "outputs": [
    {
     "data": {
      "text/plain": [
       "4"
      ]
     },
     "execution_count": 4,
     "metadata": {},
     "output_type": "execute_result"
    }
   ],
   "source": [
    "2/2*3*3/2        #order of operations is from left to right\n",
    "--4              #use PEMDAS"
   ]
  },
  {
   "cell_type": "code",
   "execution_count": null,
   "metadata": {},
   "outputs": [],
   "source": [
    "#Variables\n",
    "\n",
    "pi = 3.14159\n",
    "pi_approx = 22 / 7\n",
    "\n",
    "#allows you to re-use the name, the name can be informative \n",
    "#easier to change the code later\n",
    "\n",
    "radius = 2.2\n",
    "area = pi * (radius**2)\n",
    "\n",
    "radius += 1"
   ]
  },
  {
   "cell_type": "code",
   "execution_count": 7,
   "metadata": {},
   "outputs": [
    {
     "name": "stdout",
     "output_type": "stream",
     "text": [
      "Enter an integer: 523\n",
      "\n",
      "Odd\n",
      "Done with conditional\n"
     ]
    }
   ],
   "source": [
    "x = int(input('Enter an integer: '))\n",
    "if x % 2 == 0:\n",
    "    print('')\n",
    "    print('Even')\n",
    "else:\n",
    "    print('')\n",
    "    print('Odd')\n",
    "print('Done with conditional')"
   ]
  },
  {
   "cell_type": "code",
   "execution_count": 10,
   "metadata": {},
   "outputs": [
    {
     "name": "stdout",
     "output_type": "stream",
     "text": [
      "Enter an integer: 9\n",
      "Divisible by 3 but not by 2\n"
     ]
    }
   ],
   "source": [
    "x = int(input('Enter an integer: '))                                    ###Nested conditionals\n",
    "if x % 2 == 0:\n",
    "    if x % 3 == 0:\n",
    "        print('Divisible by 2 and 3')\n",
    "    else:\n",
    "        print('Divisible by 2 and not by 3')\n",
    "    print('')\n",
    "    print('Even')\n",
    "elif x % 3 == 0:\n",
    "    print('Divisible by 3 but not by 2')\n",
    "else:\n",
    "    print('')\n",
    "    print('Odd')"
   ]
  },
  {
   "cell_type": "code",
   "execution_count": null,
   "metadata": {},
   "outputs": [],
   "source": [
    "#compound bool\n",
    "\n",
    "if x < y and x < z:\n",
    "    print('x is least')\n",
    "elif y < z:\n",
    "    print('y is least')\n",
    "else:\n",
    "    print('z is least')"
   ]
  },
  {
   "cell_type": "raw",
   "metadata": {},
   "source": [
    "You can have if statements without an else \n",
    "You can have if statements that end with an else\n",
    "You can have if statements with elif in the middle but must end in else"
   ]
  },
  {
   "cell_type": "code",
   "execution_count": 12,
   "metadata": {},
   "outputs": [
    {
     "name": "stdout",
     "output_type": "stream",
     "text": [
      "x> 9\n",
      "y> 9\n",
      "x and y are equal\n",
      "Therefore, x/y is 1\n",
      "Thanks\n"
     ]
    }
   ],
   "source": [
    "#indentation matters in Python\n",
    "\n",
    "x = float(input('x> '))\n",
    "y = float(input('y> '))\n",
    "\n",
    "if x == y:\n",
    "    print('x and y are equal')\n",
    "    if y != 0:\n",
    "        print('Therefore, x/y is', int(x/y))\n",
    "elif x < y:\n",
    "    print('x is smaller')\n",
    "else:\n",
    "    print('y is smaller')\n",
    "print('Thanks')"
   ]
  },
  {
   "cell_type": "raw",
   "metadata": {},
   "source": [
    "Variables\n",
    " name:\n",
    " descriptive\n",
    " meaningful \n",
    " helps re-read code\n",
    "Reserved Words:\n",
    " words reserved by python for specific function\n",
    "\n",
    "Value:\n",
    "x = 2 \n",
    "x = x*x\n",
    "x += 1\n"
   ]
  },
  {
   "cell_type": "code",
   "execution_count": 13,
   "metadata": {},
   "outputs": [
    {
     "name": "stdout",
     "output_type": "stream",
     "text": [
      "a is 1\n",
      "b is 2\n",
      "\n",
      "a is 2\n",
      "b is 1\n"
     ]
    }
   ],
   "source": [
    "#swapping assigned values\n",
    "\n",
    "a = 1\n",
    "b = 2\n",
    "print('a is', a)\n",
    "print('b is', b)\n",
    "print('')\n",
    "c = a\n",
    "a = b\n",
    "b = c \n",
    "print('a is', a)\n",
    "print('b is', b)\n"
   ]
  },
  {
   "cell_type": "code",
   "execution_count": 15,
   "metadata": {},
   "outputs": [
    {
     "name": "stdout",
     "output_type": "stream",
     "text": [
      "hello there, Derik\n"
     ]
    }
   ],
   "source": [
    "#strings can be concatenated (added together)\n",
    "hi = 'hello there'\n",
    "name = 'Derik'\n",
    "\n",
    "greet = hi + ', ' + name\n",
    "print(greet)"
   ]
  },
  {
   "cell_type": "code",
   "execution_count": 1,
   "metadata": {},
   "outputs": [
    {
     "name": "stdout",
     "output_type": "stream",
     "text": [
      "DerikDerikDerik\n",
      "15\n",
      "Der\n",
      "kDerikDerik\n",
      "DerikDerikDerik\n"
     ]
    }
   ],
   "source": [
    "#overloading \n",
    "\n",
    "a = 3 * 'Derik'\n",
    "print(a)\n",
    "print(len(a))\n",
    "print('Derik'[0:3])\n",
    "print(a[4:])\n",
    "print(a[:])                                     #gives a copy of the string"
   ]
  },
  {
   "cell_type": "code",
   "execution_count": 29,
   "metadata": {},
   "outputs": [
    {
     "name": "stdout",
     "output_type": "stream",
     "text": [
      "my fav num is 1. x = 1\n",
      "my fav num is 1. x = 1\n",
      "my fav num is 1. x = 1\n"
     ]
    }
   ],
   "source": [
    "x = 1\n",
    "x_str = str(x)\n",
    "\n",
    "print('my fav num is', str(x) + \".\", 'x =', x)\n",
    "print('my fav num is ' + x_str + \". \" + 'x = ' + x_str)     #notice how only values converted to strings will compute\n",
    "print(f'my fav num is {x_str}. x = {x_str}')"
   ]
  },
  {
   "cell_type": "raw",
   "metadata": {},
   "source": [
    "inputs\n",
    "\n",
    "prints whatever is in the quotes\n",
    "user types in something and hits enter\n",
    "returns entered sequence\n",
    "can bind that value to a variable so can reference\n",
    "\n",
    "ex\n",
    "text = input('Type anything')\n",
    "print(5 * text)\n"
   ]
  },
  {
   "cell_type": "code",
   "execution_count": 33,
   "metadata": {
    "scrolled": true
   },
   "outputs": [
    {
     "name": "stdout",
     "output_type": "stream",
     "text": [
      "Enter215\n",
      "215\n"
     ]
    }
   ],
   "source": [
    "a = input('Enter')\n",
    "b = int(a)\n",
    "print(b)"
   ]
  },
  {
   "cell_type": "raw",
   "metadata": {},
   "source": [
    "While Loops \n",
    "here's a condition, check condition, if true, then perform operation, will continue until the condition is no longer true\n",
    "uses boolean logic"
   ]
  },
  {
   "cell_type": "code",
   "execution_count": 35,
   "metadata": {},
   "outputs": [
    {
     "name": "stdout",
     "output_type": "stream",
     "text": [
      "You are in the Lost Forest. Go left or right? right\n",
      "You are in the Lost Forest. Go left or right? right\n",
      "You are in the Lost Forest. Go left or right? left\n",
      "You managed to get out!\n"
     ]
    }
   ],
   "source": [
    "n = input('You are in the Lost Forest. Go left or right? ')\n",
    "while n == 'right':\n",
    "    n = input('You are in the Lost Forest. Go left or right? ')\n",
    "print('You managed to get out!')"
   ]
  },
  {
   "cell_type": "code",
   "execution_count": 36,
   "metadata": {},
   "outputs": [
    {
     "name": "stdout",
     "output_type": "stream",
     "text": [
      "0\n",
      "1\n",
      "2\n",
      "3\n",
      "4\n"
     ]
    }
   ],
   "source": [
    "n = 0\n",
    "while n < 5:\n",
    "    print(n)\n",
    "    n += 1"
   ]
  },
  {
   "cell_type": "code",
   "execution_count": 37,
   "metadata": {},
   "outputs": [
    {
     "name": "stdout",
     "output_type": "stream",
     "text": [
      "0\n",
      "1\n",
      "2\n",
      "3\n",
      "4\n"
     ]
    }
   ],
   "source": [
    "#shortcuts: for loops\n",
    "for i in range(5):\n",
    "    print(i)"
   ]
  },
  {
   "cell_type": "raw",
   "metadata": {},
   "source": [
    "for i in range(0, 5, 1):                        (means to start from 0 and run through to 5, going in increments of 1)\n",
    "for i in range(10, 1, -2):                      (means start from 10 and run through to 1, going down in increments of 2)"
   ]
  },
  {
   "cell_type": "code",
   "execution_count": 3,
   "metadata": {},
   "outputs": [
    {
     "name": "stdout",
     "output_type": "stream",
     "text": [
      "0\n",
      "1\n",
      "2\n",
      "3\n",
      "4\n",
      "5\n",
      "\n",
      "10\n",
      "8\n",
      "6\n",
      "4\n",
      "2\n",
      "0\n",
      "-2\n"
     ]
    }
   ],
   "source": [
    "for i in range(0, 6, 1):   #does not include 6\n",
    "    print(i)\n",
    "print('')\n",
    "for i in range(10, -4, -2): #does not include -4\n",
    "    print(i)"
   ]
  },
  {
   "cell_type": "raw",
   "metadata": {},
   "source": [
    "For vs. While LOOPS\n",
    "\n",
    "for loops:\n",
    "*know # of iterations\n",
    "*can end early via a break\n",
    "*uses a counter\n",
    "*can rewrite a for loop using a while loop                         (this is always true)\n",
    "\n",
    "while loops:\n",
    "*unbounded number of iterations\n",
    "*can end early via break\n",
    "*can use a counter but must initialize before loop and increment it inside loop\n",
    "*may not be able to rewrite a while loop using a for loop"
   ]
  },
  {
   "cell_type": "code",
   "execution_count": 1,
   "metadata": {
    "collapsed": true
   },
   "outputs": [
    {
     "name": "stdout",
     "output_type": "stream",
     "text": [
      "Enter an integer: 25\n",
      "25 * 25 = 625\n",
      "Enter an integer: 10\n",
      "10 * 10 = 100\n",
      "Enter an integer: 2\n",
      "2 * 2 = 4\n",
      "Enter an integer: 2\n",
      "2 * 2 = 4\n",
      "Enter an integer: 2\n",
      "2 * 2 = 4\n",
      "Enter an integer: 2\n",
      "2 * 2 = 4\n",
      "Enter an integer: 2\n",
      "2 * 2 = 4\n",
      "Enter an integer: 2\n",
      "2 * 2 = 4\n",
      "Enter an integer: 2\n",
      "2 * 2 = 4\n",
      "Enter an integer: 2\n",
      "2 * 2 = 4\n"
     ]
    }
   ],
   "source": [
    "#Finding squares\n",
    "def square():                                                   #defines the function\n",
    "    \n",
    "    z = 0                                                       #loops 5 times\n",
    "    while z < 5:\n",
    "        z += 1\n",
    "        \n",
    "        x = int(input('Enter an integer: '))\n",
    "        ans = 0\n",
    "        itersLeft = x                                           #iterations left ha\n",
    "        while (itersLeft != 0):                                 #works without parenthesis \n",
    "            ans += x\n",
    "            itersLeft -= 1\n",
    "        print(f'{str(x)} * {str(x)} = {str(ans)}')\n",
    "\n",
    "square()                                                        #calls the function"
   ]
  },
  {
   "cell_type": "raw",
   "metadata": {},
   "source": [
    "Branching Structures (conditionals) let us jump to different pieces of code based on a test\n",
    "\n",
    "Looping Structures (while loops) let us repeat pieces of code until a condition is satisfied \n",
    "*programs now take time on the values of variable, as well as the length of the program"
   ]
  },
  {
   "cell_type": "raw",
   "metadata": {},
   "source": [
    "Algorithms \n",
    "Iterative algos allow us to do more complex things than simple arithmetic\n",
    "\n",
    "We can repeat a sequence of steps multiple times based on some decision; leads to new classes or algos\n",
    "ex. 'check and guess' method"
   ]
  },
  {
   "cell_type": "code",
   "execution_count": 1,
   "metadata": {
    "collapsed": true
   },
   "outputs": [
    {
     "name": "stdout",
     "output_type": "stream",
     "text": [
      "Enter an integer: 8\n",
      "Cube root of 8 is 2\n",
      "Enter an integer: 8\n",
      "Cube root of 8 is 2\n",
      "Enter an integer: 8008\n",
      "8008 is not a perfect cube\n"
     ]
    }
   ],
   "source": [
    "#find cubed root\n",
    "while True:\n",
    "    \n",
    "    x = int(input('Enter an integer: '))\n",
    "    ans = 0\n",
    "    while (ans ** 3 < x):\n",
    "        ans += 1\n",
    "    if ans ** 3 != x:\n",
    "        print(f'{str(x)} is not a perfect cube')\n",
    "    else:\n",
    "        print(f'Cube root of {str(x)} is {str(ans)}')\n",
    "    if x == 8008:                                                    #ends loop \n",
    "        break"
   ]
  },
  {
   "cell_type": "raw",
   "metadata": {},
   "source": [
    "For while loops\n",
    "Always set up the variable ahead of time (outside the loop)\n",
    "Make sure you are cahgning the variable (inside the loop)\n",
    "This is the only way the program will terminate"
   ]
  },
  {
   "cell_type": "raw",
   "metadata": {},
   "source": [
    "Finding Cube Root of Integer\n",
    "\n",
    "one way to use this idea of generating guesses in order to find a cube root of x is to first try 0**3, then 1**3, then 2**3, and so on\n",
    "can stop when reach k such that k**3 > x \n",
    "*only a finite number of cases to try"
   ]
  },
  {
   "cell_type": "code",
   "execution_count": 19,
   "metadata": {},
   "outputs": [
    {
     "name": "stdout",
     "output_type": "stream",
     "text": [
      "Enter an integer: 81\n",
      "The square root of 81 is 9\n",
      "Enter an integer: 95\n",
      "95 has no square root\n",
      "Enter an integer: 56\n",
      "56 has no square root\n"
     ]
    }
   ],
   "source": [
    "#more squares\n",
    "guess = 0                      \n",
    "while guess < 3:\n",
    "    guess += 1\n",
    "    \n",
    "    x = int(input('Enter an integer: '))\n",
    "    a = 0\n",
    "    while a**2 < x:\n",
    "        a += 1\n",
    "    if a == (x**(1/2)):\n",
    "        print(f'The square root of {x} is {a}')\n",
    "    elif a != (x**(1/2)):\n",
    "        print(x, 'has no square root')\n"
   ]
  },
  {
   "cell_type": "code",
   "execution_count": 8,
   "metadata": {},
   "outputs": [
    {
     "name": "stdout",
     "output_type": "stream",
     "text": [
      "Enter an integer: 81\n",
      "81 is not a perfect cube\n",
      "Enter an integer: 8\n",
      "Cube root of 8 is 2\n",
      "Enter an integer: 9\n",
      "9 is not a perfect cube\n",
      "Enter an integer: 256\n",
      "256 is not a perfect cube\n",
      "Enter an integer: 963\n",
      "963 is not a perfect cube\n"
     ]
    }
   ],
   "source": [
    "#Some code not yours\n",
    "g = 0\n",
    "while g < 3:\n",
    "    g += 1\n",
    "    \n",
    "    \n",
    "    x = int(input('Enter an integer: '))\n",
    "    ans = 0\n",
    "    while ans**3 < abs(x):\n",
    "        ans += 1\n",
    "    if ans**3 != abs(x):\n",
    "        print(f'{str(x)} is not a perfect cube')\n",
    "    else:                                                      #else if statement \n",
    "        if x < 0:\n",
    "            ans = - ans\n",
    "        print(f'Cube root of {str(x)} is {str(ans)}')"
   ]
  },
  {
   "cell_type": "code",
   "execution_count": 18,
   "metadata": {},
   "outputs": [
    {
     "name": "stdout",
     "output_type": "stream",
     "text": [
      "Cube root of 27 is 3\n"
     ]
    }
   ],
   "source": [
    "cube = 27                                                                          #study this code\n",
    "for guess in range(cube + 1):\n",
    "    if guess ** 3 >= abs(cube):\n",
    "        break\n",
    "if guess ** 3 != abs(cube):\n",
    "    print(f'{cube} is not a perfect cube')\n",
    "else:\n",
    "        \n",
    "    if cube < 0:\n",
    "            \n",
    "        guess = - guess\n",
    "        \n",
    "    print(f'Cube root of {cube} is {guess}')"
   ]
  },
  {
   "cell_type": "raw",
   "metadata": {},
   "source": [
    "When you write code, run on things your not expecting\n",
    "#Expect the unexpected "
   ]
  },
  {
   "cell_type": "code",
   "execution_count": null,
   "metadata": {},
   "outputs": [],
   "source": []
  },
  {
   "cell_type": "code",
   "execution_count": null,
   "metadata": {},
   "outputs": [],
   "source": []
  }
 ],
 "metadata": {
  "kernelspec": {
   "display_name": "Python 3",
   "language": "python",
   "name": "python3"
  },
  "language_info": {
   "codemirror_mode": {
    "name": "ipython",
    "version": 3
   },
   "file_extension": ".py",
   "mimetype": "text/x-python",
   "name": "python",
   "nbconvert_exporter": "python",
   "pygments_lexer": "ipython3",
   "version": "3.7.3"
  }
 },
 "nbformat": 4,
 "nbformat_minor": 2
}
