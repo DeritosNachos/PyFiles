{
 "cells": [
  {
   "cell_type": "markdown",
   "metadata": {},
   "source": [
    "Literal Values"
   ]
  },
  {
   "cell_type": "code",
   "execution_count": 1,
   "metadata": {},
   "outputs": [
    {
     "name": "stdout",
     "output_type": "stream",
     "text": [
      "1.5\n",
      "1\n",
      "1.6666666666666667\n",
      "1\n"
     ]
    }
   ],
   "source": [
    "# Floats versus ints (more later)\n",
    "print(1.5)  # float\n",
    "print(1)    # int\n",
    "print(5 / 3)\n",
    "print(5 // 3) #truncated division returns a rounded down int"
   ]
  },
  {
   "cell_type": "code",
   "execution_count": 1,
   "metadata": {},
   "outputs": [
    {
     "name": "stdout",
     "output_type": "stream",
     "text": [
      "Meet me at dusk\n"
     ]
    }
   ],
   "source": [
    "from re import sub\n",
    "\n",
    "message = 'Meet me at dawn'\n",
    "message_altered = sub(r'dawn', 'dusk', message)\n",
    "print(message_altered)"
   ]
  },
  {
   "cell_type": "code",
   "execution_count": 3,
   "metadata": {},
   "outputs": [
    {
     "name": "stdout",
     "output_type": "stream",
     "text": [
      "€\n",
      "3\n"
     ]
    }
   ],
   "source": [
    "'Nice human (unicode) text'  # String\n",
    "b'\\xef\\xbb\\xbf'              # Bytes\n",
    "27                           # Integer\n",
    "3.14                         # Float\n",
    "9.8 + 3j                     # Complex\n",
    "True                         # Boolean\n",
    "\n",
    "print(b'\\xE2\\x82\\xAC'.decode('UTF-8'))\n",
    "print(int(3.14))  # All literals have similar ways to \"cast\" type\n",
    "# print(int('cat') why wouldn't this work"
   ]
  },
  {
   "cell_type": "markdown",
   "metadata": {},
   "source": [
    "Data Structure Literals"
   ]
  },
  {
   "cell_type": "code",
   "execution_count": 31,
   "metadata": {
    "scrolled": true
   },
   "outputs": [
    {
     "name": "stdout",
     "output_type": "stream",
     "text": [
      "['List', 'comprehensions', 'are', 'cool!']\n",
      "['List foo', 'comprehensions foo', 'are foo', 'cool! foo']\n"
     ]
    }
   ],
   "source": [
    "[6, 'a', 2.5]                  # List - ordered values\n",
    "('foo', 'bar', 3)              # Tuple - *immutable* ordered values\n",
    "{2, 17}                        # Set - collection of distinct values order doesn't matter, no dups NO DUPS\n",
    "{'a': 'Awesome', 'b': 'Best'}  # Dictionary - key, value pairs\n",
    "\n",
    "print([word for word in 'List comprehensions are cool!'.split()])\n",
    "print([word + ' foo' for word in 'List comprehensions are cool!'.split()])"
   ]
  },
  {
   "cell_type": "code",
   "execution_count": 4,
   "metadata": {},
   "outputs": [
    {
     "name": "stdout",
     "output_type": "stream",
     "text": [
      "(['Atlanta', 'Orlando', 'San Francisco', 'Denver'], 'Anchorage', 'Paris')\n",
      "['Zurich', 'Paris']\n"
     ]
    }
   ],
   "source": [
    "cities = ['Atlanta', 'Orlando', 'San Francisco', 'Denver', 'Zurich', 'Paris', 'Coos Bay', 'Anchorage']\n",
    "in_usa = cities[0:4], cities[-1], cities[-3]\n",
    "in_eu = cities[-4:-2]\n",
    "print(in_usa)\n",
    "print(in_eu)"
   ]
  },
  {
   "cell_type": "code",
   "execution_count": 5,
   "metadata": {},
   "outputs": [
    {
     "name": "stdout",
     "output_type": "stream",
     "text": [
      "1 a\n",
      "2 g\n",
      "3 ['a', 'b', 'c']\n",
      "4 ['e', 'f', 'g']\n",
      "5 ['d', 'e', 'f', 'g']\n",
      "6 ['a', 'b', 'c', 'd']\n",
      "7 ['b', 'd']\n",
      "8 ['g', 'f', 'e', 'd', 'c', 'b', 'a']\n"
     ]
    }
   ],
   "source": [
    "# Python list slicing for concise but clear sublists\n",
    "letters = ['a', 'b', 'c', 'd', 'e', 'f', 'g']\n",
    "print(1, letters[0])  # 1st thing (0-indexed)\n",
    "print(2, letters[-1]) # Last thing\n",
    "\n",
    "print(3, letters[:3])  # First three things\n",
    "print(4, letters[-3:]) # Last three things\n",
    "\n",
    "print(5, letters[3:])  # Everything *except* the first three\n",
    "print(6, letters[:-3]) # Everything *except* the last three\n",
    "\n",
    "# This isn't even my final form!\n",
    "\n",
    "start = 1  # inclusive\n",
    "end = 5    # exclusive\n",
    "interval = 2\n",
    "print(7, letters[start:end:interval])\n",
    "print(8, letters[::-1])  # Reversed"
   ]
  },
  {
   "cell_type": "markdown",
   "metadata": {},
   "source": [
    "True, Falsity, And Comparison"
   ]
  },
  {
   "cell_type": "code",
   "execution_count": 6,
   "metadata": {},
   "outputs": [
    {
     "name": "stdout",
     "output_type": "stream",
     "text": [
      "True\n",
      "False\n",
      "False\n",
      "True\n",
      "True\n",
      "False\n",
      "True\n",
      "2415012536112\n",
      "2415012535952\n",
      "True\n",
      "False\n",
      "1 True\n"
     ]
    }
   ],
   "source": [
    "print(True == True)\n",
    "print(True == False)\n",
    "print(False != False) #does not equal\n",
    "\n",
    "# \"is\" is true if they point to the same object\n",
    "print(True is True)  # True, because there's a single \"True\" object\n",
    "s1 = 'Lambda School rocks!'\n",
    "s2 = 'Lambda School rocks!'\n",
    "print(s1 == s2)  # True! They're the same string\n",
    "print(s1 is s2)  # False! But they live at different places in memory\n",
    "s3 = \"this is a good question\"\n",
    "s4 = s3\n",
    "print(s3 is s4) #this is true\n",
    "\n",
    "\n",
    "# Specifically\n",
    "print(id(s1))\n",
    "print(id(s2))\n",
    "\n",
    "# Other comparisons when you have a notion of order\n",
    "print(4 > 3)\n",
    "print(4 < 3)\n",
    "print(\"1\" ,  (5 >= -1.3))\n",
    "#print(4 > 2j) "
   ]
  },
  {
   "cell_type": "markdown",
   "metadata": {},
   "source": [
    "Iteration"
   ]
  },
  {
   "cell_type": "code",
   "execution_count": 2,
   "metadata": {},
   "outputs": [
    {
     "name": "stdout",
     "output_type": "stream",
     "text": [
      "Time to launch a rocket!\n",
      "\n",
      "Hire some scientists\n",
      "Build a launchpad\n",
      "Buy some fuel\n",
      "Put it in a tube?\n",
      "???\n",
      "🚀\n",
      "\n",
      "Countdown for launch:\n",
      "10...\n",
      "9...\n",
      "8...\n",
      "7...\n",
      "6...\n",
      "5...\n",
      "4...\n",
      "3...\n",
      "2...\n",
      "1...\n"
     ]
    }
   ],
   "source": [
    "print('Time to launch a rocket!\\n')\n",
    "\n",
    "# Let's build it\n",
    "steps = [\n",
    "    'Hire some scientists',\n",
    "    'Build a launchpad',\n",
    "    'Buy some fuel',\n",
    "    'Put it in a tube?',\n",
    "    '???',\n",
    "    '🚀'\n",
    "]\n",
    "for step in steps:\n",
    "  print(step)\n",
    "\n",
    "# And then launch it\n",
    "print('\\nCountdown for launch:')                 #\\n is just a line break\n",
    "for i in range(10, 0, -1):\n",
    "  print(str(i) + '...')"
   ]
  },
  {
   "cell_type": "markdown",
   "metadata": {},
   "source": [
    "Range and Comprehensions"
   ]
  },
  {
   "cell_type": "code",
   "execution_count": 12,
   "metadata": {},
   "outputs": [
    {
     "name": "stdout",
     "output_type": "stream",
     "text": [
      "range(0, 10)\n",
      "[0, 1, 2, 3, 4, 5, 6, 7, 8, 9]\n",
      "[0, 2, 4, 6, 8, 10, 12, 14, 16, 18]\n",
      "[0, 2, 4, 6, 8, 10, 12, 14, 16, 18]\n"
     ]
    }
   ],
   "source": [
    "print(range(10))\n",
    "print(list(range(10)))\n",
    "print([i * 2 for i in range(10)])\n",
    "\n",
    "l = []\n",
    "for i in range(10):\n",
    "  l.append(i * 2)\n",
    "print(l)"
   ]
  },
  {
   "cell_type": "markdown",
   "metadata": {},
   "source": [
    "Conditionals"
   ]
  },
  {
   "cell_type": "code",
   "execution_count": 7,
   "metadata": {},
   "outputs": [
    {
     "name": "stdout",
     "output_type": "stream",
     "text": [
      "Something didn't work...\n"
     ]
    }
   ],
   "source": [
    "# How'd our launch go?\n",
    "success = False\n",
    "if success:\n",
    "  print('Liftoff!')\n",
    "else:\n",
    "  print('Something didn\\'t work...')"
   ]
  },
  {
   "cell_type": "markdown",
   "metadata": {},
   "source": [
    "A few ways to do it"
   ]
  },
  {
   "cell_type": "code",
   "execution_count": 4,
   "metadata": {},
   "outputs": [
    {
     "name": "stdout",
     "output_type": "stream",
     "text": [
      "Nom nom nom\n",
      "Nom nom nom\n"
     ]
    }
   ],
   "source": [
    "cookies = 4                                                     #for loops are better, while can give infinite loops\n",
    "while cookies > 0:\n",
    "  print('Nom nom nom')\n",
    "  cookies -= 2  # cookies = coookies - 2"
   ]
  },
  {
   "cell_type": "code",
   "execution_count": 16,
   "metadata": {},
   "outputs": [
    {
     "name": "stdout",
     "output_type": "stream",
     "text": [
      "Interesting!\n"
     ]
    }
   ],
   "source": [
    "story = 'Once upon a time...'\n",
    "if len(story) > 20:\n",
    "  print('zzz...')\n",
    "elif len(story) > 10:\n",
    "  print('Interesting!')\n",
    "else:\n",
    "  print('That was short')"
   ]
  },
  {
   "cell_type": "markdown",
   "metadata": {},
   "source": [
    "Combining iteration and conditionals"
   ]
  },
  {
   "cell_type": "code",
   "execution_count": 17,
   "metadata": {
    "collapsed": true
   },
   "outputs": [
    {
     "name": "stdout",
     "output_type": "stream",
     "text": [
      "1\n",
      "2\n",
      "Fizz\n",
      "4\n",
      "Buzz\n",
      "Fizz\n",
      "7\n",
      "8\n",
      "Fizz\n",
      "Buzz\n",
      "11\n",
      "Fizz\n",
      "13\n",
      "14\n",
      "FizzBuzz\n",
      "16\n",
      "17\n",
      "Fizz\n",
      "19\n",
      "Buzz\n",
      "Fizz\n",
      "22\n",
      "23\n",
      "Fizz\n",
      "Buzz\n",
      "26\n",
      "Fizz\n",
      "28\n",
      "29\n",
      "FizzBuzz\n",
      "31\n",
      "32\n",
      "Fizz\n",
      "34\n",
      "Buzz\n",
      "Fizz\n",
      "37\n",
      "38\n",
      "Fizz\n",
      "Buzz\n",
      "41\n",
      "Fizz\n",
      "43\n",
      "44\n",
      "FizzBuzz\n",
      "46\n",
      "47\n",
      "Fizz\n",
      "49\n",
      "Buzz\n",
      "Fizz\n",
      "52\n",
      "53\n",
      "Fizz\n",
      "Buzz\n",
      "56\n",
      "Fizz\n",
      "58\n",
      "59\n",
      "FizzBuzz\n",
      "61\n",
      "62\n",
      "Fizz\n",
      "64\n",
      "Buzz\n",
      "Fizz\n",
      "67\n",
      "68\n",
      "Fizz\n",
      "Buzz\n",
      "71\n",
      "Fizz\n",
      "73\n",
      "74\n",
      "FizzBuzz\n",
      "76\n",
      "77\n",
      "Fizz\n",
      "79\n",
      "Buzz\n",
      "Fizz\n",
      "82\n",
      "83\n",
      "Fizz\n",
      "Buzz\n",
      "86\n",
      "Fizz\n",
      "88\n",
      "89\n",
      "FizzBuzz\n",
      "91\n",
      "92\n",
      "Fizz\n",
      "94\n",
      "Buzz\n",
      "Fizz\n",
      "97\n",
      "98\n",
      "Fizz\n",
      "Buzz\n"
     ]
    }
   ],
   "source": [
    "# http://wiki.c2.com/?FizzBuzzTest\n",
    "for i in range(1, 101):\n",
    "  if i % 3 == 0 and i % 5 == 0:\n",
    "    print('FizzBuzz')\n",
    "  elif i % 3 == 0:\n",
    "    print('Fizz')\n",
    "  elif i % 5 == 0:\n",
    "    print('Buzz')\n",
    "  else:\n",
    "    print(i)"
   ]
  },
  {
   "cell_type": "code",
   "execution_count": 5,
   "metadata": {},
   "outputs": [
    {
     "name": "stdout",
     "output_type": "stream",
     "text": [
      "[15, 30, 45, 60, 75, 90]\n",
      "['', '', 'Fizz', '', 'Buzz', 'Fizz', '', '', 'Fizz', 'Buzz', '', 'Fizz', '', '', 'FizzBuzz', '', '', 'Fizz', '', 'Buzz', 'Fizz', '', '', 'Fizz', 'Buzz', '', 'Fizz', '', '', 'FizzBuzz', '', '', 'Fizz', '', 'Buzz', 'Fizz', '', '', 'Fizz', 'Buzz', '', 'Fizz', '', '', 'FizzBuzz', '', '', 'Fizz', '', 'Buzz', 'Fizz', '', '', 'Fizz', 'Buzz', '', 'Fizz', '', '', 'FizzBuzz', '', '', 'Fizz', '', 'Buzz', 'Fizz', '', '', 'Fizz', 'Buzz', '', 'Fizz', '', '', 'FizzBuzz', '', '', 'Fizz', '', 'Buzz', 'Fizz', '', '', 'Fizz', 'Buzz', '', 'Fizz', '', '', 'FizzBuzz', '', '', 'Fizz', '', 'Buzz', 'Fizz', '', '', 'Fizz', 'Buzz']\n"
     ]
    }
   ],
   "source": [
    "only_fizzbuzz = [i for i in range(1, 101) if i % 3 == 0 and i % 5 == 0]\n",
    "print(only_fizzbuzz)\n",
    "# Being too clever\n",
    "print(['Fizz'*(i%3<1)+'Buzz'*(i%5<1) for i in range(1, 101)])"
   ]
  },
  {
   "cell_type": "markdown",
   "metadata": {},
   "source": [
    "Changing flow on the fly"
   ]
  },
  {
   "cell_type": "code",
   "execution_count": 6,
   "metadata": {},
   "outputs": [
    {
     "name": "stdout",
     "output_type": "stream",
     "text": [
      "2 is a prime number\n",
      "3 is a prime number\n",
      "4 equals 2 * 2\n",
      "5 is a prime number\n",
      "6 equals 2 * 3\n",
      "7 is a prime number\n",
      "8 equals 2 * 4\n",
      "9 equals 3 * 3\n",
      "10 equals 2 * 5\n",
      "11 is a prime number\n",
      "12 equals 2 * 6\n",
      "13 is a prime number\n",
      "14 equals 2 * 7\n",
      "15 equals 3 * 5\n",
      "16 equals 2 * 8\n",
      "17 is a prime number\n",
      "18 equals 2 * 9\n",
      "19 is a prime number\n"
     ]
    }
   ],
   "source": [
    "# https://docs.python.org/3/tutorial/controlflow.html#break-and-continue-statements-and-else-clauses-on-loops\n",
    "for n in range(2, 20):\n",
    "  for x in range(2, n):\n",
    "    if n % x == 0:\n",
    "      print(n, 'equals', x, '*', n // x)\n",
    "      break\n",
    "  else:\n",
    "    # Loop finished without finding a factor\n",
    "    print(n, 'is a prime number')"
   ]
  },
  {
   "cell_type": "code",
   "execution_count": 7,
   "metadata": {},
   "outputs": [
    {
     "name": "stdout",
     "output_type": "stream",
     "text": [
      "Twas brilig and th slithy tovs did gyr and gimbl in th wab\n"
     ]
    }
   ],
   "source": [
    "# https://www.poetryfoundation.org/poems/42916/jabberwocky\n",
    "poem = 'Twas brilig and the slithy toves did gyre and gimble in the wabe'\n",
    "poem_without_e = ''\n",
    "\n",
    "for letter in poem:\n",
    "  if letter == 'e':\n",
    "    continue\n",
    "  poem_without_e += letter\n",
    "\n",
    "print(poem_without_e)"
   ]
  },
  {
   "cell_type": "code",
   "execution_count": 8,
   "metadata": {},
   "outputs": [
    {
     "name": "stdout",
     "output_type": "stream",
     "text": [
      "Outside the conditional\n"
     ]
    }
   ],
   "source": [
    "x = 5\n",
    "if x > 0:\n",
    "  pass  # TODO: implement!\n",
    "\n",
    "print('Outside the conditional')"
   ]
  },
  {
   "cell_type": "markdown",
   "metadata": {},
   "source": [
    "Functions - the foundation of reusable code"
   ]
  },
  {
   "cell_type": "code",
   "execution_count": 22,
   "metadata": {
    "scrolled": true
   },
   "outputs": [
    {
     "name": "stdout",
     "output_type": "stream",
     "text": [
      "[4, 9, 3, 0]\n",
      "[5, 10, 4, 1]\n",
      "15\n",
      "13\n"
     ]
    }
   ],
   "source": [
    "def increment(x):\n",
    "  return x + 1\n",
    "\n",
    "numbers = [3, 8, 2, -1]\n",
    "print([increment(number) for number in numbers])\n",
    "print([increment(increment(number)) for number in numbers])\n",
    "\n",
    "\n",
    "def number_adder(x, y=5):\n",
    "  return x + y\n",
    "\n",
    "print(number_adder(10))\n",
    "print(number_adder(10, 3))"
   ]
  },
  {
   "cell_type": "markdown",
   "metadata": {},
   "source": [
    "Short function are \"Lambdas\""
   ]
  },
  {
   "cell_type": "code",
   "execution_count": 23,
   "metadata": {},
   "outputs": [
    {
     "name": "stdout",
     "output_type": "stream",
     "text": [
      "[10, 14, -6]\n",
      "[10, 14, -6]\n"
     ]
    }
   ],
   "source": [
    "more_numbers = [5, 7, -3]\n",
    "doubled_numbers = map(lambda x: x * 2, more_numbers)\n",
    "print(list(doubled_numbers))\n",
    "\n",
    "# Note - map and lambda are cool, but often a simple list comprehension is best\n",
    "print([number * 2 for number in more_numbers])"
   ]
  },
  {
   "cell_type": "markdown",
   "metadata": {},
   "source": [
    "Functions are \"first-class citizens\"\n",
    "In a nutshell - this means functions are proper things (objects) that can be passed around, manipulated, and reused, just the same as literals and data structures. You can even write functions that take functions as arguments and return customized, well, functions."
   ]
  },
  {
   "cell_type": "code",
   "execution_count": 30,
   "metadata": {},
   "outputs": [
    {
     "name": "stdout",
     "output_type": "stream",
     "text": [
      "Now running increment\n",
      "6\n"
     ]
    }
   ],
   "source": [
    "def function_announcer_maker(function):\n",
    "  def function_announcer(*args):\n",
    "    print('Now running', function.__name__)\n",
    "    return function(*args)\n",
    "  return function_announcer\n",
    "\n",
    "increment_announcer = function_announcer_maker(increment)\n",
    "incremented = increment_announcer(5)\n",
    "print(incremented)"
   ]
  },
  {
   "cell_type": "markdown",
   "metadata": {},
   "source": [
    "Gotchas"
   ]
  },
  {
   "cell_type": "code",
   "execution_count": 2,
   "metadata": {},
   "outputs": [
    {
     "name": "stdout",
     "output_type": "stream",
     "text": [
      "[10, 2, 3]\n",
      "[10, 2, 3]\n",
      "[10, 20, 3]\n",
      "[10, 2, 3]\n",
      "[10, 2, 30]\n",
      "[10, 2, 3]\n"
     ]
    }
   ],
   "source": [
    "list1 = [1, 2, 3]\n",
    "list2 = list1\n",
    "list2[0] = 10\n",
    "print(list1)\n",
    "print(list2)\n",
    "\n",
    "\n",
    "# Oops, that was pass by reference and we want by value (a real copy)\n",
    "\n",
    "# Method one, slice the list to force iteration and make a copy\n",
    "list3 = list1[:]\n",
    "list3[1] = 20\n",
    "print(list3)\n",
    "print(list1)\n",
    "\n",
    "# Method two, copy module from the standard library\n",
    "from copy import deepcopy\n",
    "list4 = deepcopy(list1)\n",
    "list4[2] = 30\n",
    "print(list4)\n",
    "print(list1)"
   ]
  },
  {
   "cell_type": "code",
   "execution_count": 27,
   "metadata": {},
   "outputs": [
    {
     "name": "stdout",
     "output_type": "stream",
     "text": [
      "{'a': 1}\n",
      "{'a': 1, 'b': 2}\n",
      "{'a': 1}\n",
      "{'b': 2}\n"
     ]
    }
   ],
   "source": [
    "# Relatedly, empty data structures as default arguments\n",
    "def hash_maker(key, value, hash={}):\n",
    "  hash[key] = value\n",
    "  return hash\n",
    "\n",
    "print(hash_maker('a', 1))\n",
    "print(hash_maker('b', 2))\n",
    "\n",
    "\n",
    "# The right way to do it - use None and a conditional to set up\n",
    "def hash_maker_fixed(key, value, hash=None):\n",
    "  hash = hash or {}\n",
    "  hash[key] = value\n",
    "  return hash\n",
    "\n",
    "print(hash_maker_fixed('a', 1))\n",
    "print(hash_maker_fixed('b', 2))"
   ]
  },
  {
   "cell_type": "markdown",
   "metadata": {},
   "source": [
    "What's next?\n",
    "Now (as part of required pre-course work) you should copy, complete, and submit the assignment notebook for this lecture. Since this is your first time doing this, here's an example of a worked-through problem:\n",
    "\n",
    "a) A full class\n",
    "George has the same number of male classmates as female classmates. His classmate Sandra has three-fourths as many female classmates as male classmates.\n",
    "\n",
    "How many students are in the class? Try to use loops to check plausible combinations, and stop when you found the answer."
   ]
  },
  {
   "cell_type": "code",
   "execution_count": 28,
   "metadata": {
    "scrolled": true
   },
   "outputs": [
    {
     "name": "stdout",
     "output_type": "stream",
     "text": [
      "Answer found!\n",
      "Female classmates: 7\n",
      "Male classmates: 8\n",
      "Total students in class: 15\n"
     ]
    }
   ],
   "source": [
    "# Let's think about what \"plausible\" means\n",
    "# For one thing, you can't have negative numbers of classmates\n",
    "# And there's at least one of each gender - George and Sandra\n",
    "# So, let's try looping from 1, and just go up to 9 as a first try\n",
    "\n",
    "# Note - this solution is by no means minimal, or even elegant\n",
    "# But it *is* clear, with informative variable names, which is a good goal\n",
    "\n",
    "for num_females in range(1, 10):\n",
    "  for num_males in range(1, 10):\n",
    "    # George has the same number of male classmates as female classmates\n",
    "    georges_female_classmates = num_females\n",
    "    georges_male_classmates = num_males - 1  # George isn't his own classmate\n",
    "    if georges_male_classmates != georges_female_classmates:\n",
    "      continue  # Continue looping, this isn't a solution\n",
    "    # Sandra has there-fourths as many female classmates as male classmates\n",
    "    sandra_female_classmates = num_females - 1\n",
    "    sandra_male_classmates = num_males\n",
    "    if sandra_female_classmates != (0.75 * sandra_male_classmates):\n",
    "      continue  # Again, not a solution\n",
    "    # We got this far - it must be an answer!\n",
    "    print('Answer found!')\n",
    "    print('Female classmates:', num_females)\n",
    "    print('Male classmates:', num_males)\n",
    "    print('Total students in class:', num_females + num_males)\n",
    "    break  # We found the solution, stop!\n",
    "  else:\n",
    "    continue  # Executed if the inner loop didn't break - keep going!\n",
    "  break  # Executed if the inner loop *did* break - want to break here too"
   ]
  },
  {
   "cell_type": "code",
   "execution_count": 2,
   "metadata": {},
   "outputs": [
    {
     "name": "stdout",
     "output_type": "stream",
     "text": [
      "7\n",
      "8\n"
     ]
    }
   ],
   "source": [
    "sandras_classmates_female_to_male = .75 or 3/4 \n",
    "ratio = False\n",
    "ratio_value = 0\n",
    "George = 1\n",
    "Sandra = 1\n",
    "Female_Classmates = 0 \n",
    "Male_Classmates = 0 + George\n",
    "while not ratio:\n",
    "    ratio_value = (Female_Classmates - Sandra) / Male_Classmates\n",
    "\n",
    "    if ratio_value == sandras_classmates_female_to_male:\n",
    "        ratio = True\n",
    "        break\n",
    "    else:\n",
    "        Female_Classmates += 1\n",
    "        Male_Classmates += 1\n",
    "print(Female_Classmates)\n",
    "print(Male_Classmates)"
   ]
  },
  {
   "cell_type": "code",
   "execution_count": null,
   "metadata": {},
   "outputs": [],
   "source": []
  }
 ],
 "metadata": {
  "kernelspec": {
   "display_name": "Python 3",
   "language": "python",
   "name": "python3"
  },
  "language_info": {
   "codemirror_mode": {
    "name": "ipython",
    "version": 3
   },
   "file_extension": ".py",
   "mimetype": "text/x-python",
   "name": "python",
   "nbconvert_exporter": "python",
   "pygments_lexer": "ipython3",
   "version": "3.8.8"
  }
 },
 "nbformat": 4,
 "nbformat_minor": 2
}
