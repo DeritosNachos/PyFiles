{
 "cells": [
  {
   "cell_type": "code",
   "execution_count": 19,
   "metadata": {},
   "outputs": [
    {
     "name": "stdout",
     "output_type": "stream",
     "text": [
      "101\n",
      "Enter rock paper or scissors: nk\n",
      "I don't understand that\n"
     ]
    }
   ],
   "source": [
    "from random import randint\n",
    "\n",
    "game = True\n",
    "\n",
    "while game:\n",
    "    decision = randint(0,101)\n",
    "    print(decision)\n",
    "    if decision <= 33:\n",
    "        bot = 'rock'\n",
    "    elif decision in range(34,67):\n",
    "        bot = 'paper'\n",
    "    else:\n",
    "        bot = 'scissors'\n",
    "\n",
    "    player = input('Enter rock paper or scissors: ').lower()\n",
    "    \n",
    "    \n",
    "    if player == 'rock':\n",
    "        if bot == 'rock':\n",
    "            print('Draw')\n",
    "        elif bot == 'paper':\n",
    "            print(f'Bot picks {bot}, you lose')\n",
    "        else:\n",
    "            print(f'Bot picks {bot}, you win')\n",
    "    elif player == 'paper':\n",
    "        if bot == 'rock':\n",
    "            print(f'Bot picks {bot}, you win')\n",
    "        elif bot == 'paper':\n",
    "            print('Draw')\n",
    "        else:\n",
    "            print(f'Bot picks {bot}, you lose')\n",
    "    elif player == 'scissors':\n",
    "        if bot == 'rock':\n",
    "            print(f'Bot picks {bot}, you lose')\n",
    "        elif bot == 'paper':\n",
    "            print(f'Bot picks {bot}, you win')\n",
    "        else:\n",
    "            print('Draw')\n",
    "    else:\n",
    "        print('''I don't understand that''')\n",
    "        \n",
    "    \n",
    "    \n",
    "    final = input('replay? ')\n",
    "    if final == 'no':\n",
    "        game = False\n",
    "    "
   ]
  },
  {
   "cell_type": "code",
   "execution_count": 1,
   "metadata": {},
   "outputs": [
    {
     "name": "stdout",
     "output_type": "stream",
     "text": [
      "Enter rock paper or scissors: rock\n",
      "you pick rock\n",
      "Draw\n",
      "replay? jfjf\n",
      "Enter rock paper or scissors: rock\n",
      "you pick rock\n",
      "Bot picks paper, you lose\n",
      "replay? no\n",
      "End\n"
     ]
    }
   ],
   "source": [
    "from random import randint\n",
    "\n",
    "def thefunc():\n",
    "    decision = randint(0,101)\n",
    "    if decision <= 33:\n",
    "        bot = 'rock'\n",
    "    elif decision in range(34,67):\n",
    "        bot = 'paper'\n",
    "    else:\n",
    "        bot = 'scissors'\n",
    "\n",
    "    player = input('Enter rock paper or scissors: ').lower()\n",
    "    print('you pick', player)\n",
    "    \n",
    "    if player == 'rock':\n",
    "        if bot == 'rock':\n",
    "            print('Draw')\n",
    "        elif bot == 'paper':\n",
    "            print(f'Bot picks {bot}, you lose')\n",
    "        else:\n",
    "            print(f'Bot picks {bot}, you win')\n",
    "    elif player == 'paper':\n",
    "        if bot == 'rock':\n",
    "            print(f'Bot picks {bot}, you win')\n",
    "        elif bot == 'paper':\n",
    "            print('Draw')\n",
    "        else:\n",
    "            print(f'Bot picks {bot}, you lose')\n",
    "    elif player == 'scissors':\n",
    "        if bot == 'rock':\n",
    "            print(f'Bot picks {bot}, you lose')\n",
    "        elif bot == 'paper':\n",
    "            print(f'Bot picks {bot}, you win')\n",
    "        else:\n",
    "            print('Draw')\n",
    "    else:\n",
    "        print('''I don't understand that''')\n",
    "        thefunc()\n",
    "        \n",
    "\n",
    "game = True\n",
    "while game:\n",
    "    thefunc()\n",
    "    \n",
    "    final = input('replay? ')\n",
    "    if final == 'no':\n",
    "        game = False\n",
    "print('End')"
   ]
  },
  {
   "cell_type": "code",
   "execution_count": null,
   "metadata": {},
   "outputs": [],
   "source": []
  }
 ],
 "metadata": {
  "kernelspec": {
   "display_name": "Python 3",
   "language": "python",
   "name": "python3"
  },
  "language_info": {
   "codemirror_mode": {
    "name": "ipython",
    "version": 3
   },
   "file_extension": ".py",
   "mimetype": "text/x-python",
   "name": "python",
   "nbconvert_exporter": "python",
   "pygments_lexer": "ipython3",
   "version": "3.7.3"
  }
 },
 "nbformat": 4,
 "nbformat_minor": 2
}
