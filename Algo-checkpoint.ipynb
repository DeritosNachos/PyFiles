{
 "cells": [
  {
   "cell_type": "code",
   "execution_count": 5,
   "metadata": {
    "collapsed": true
   },
   "outputs": [
    {
     "name": "stdout",
     "output_type": "stream",
     "text": [
      "[]\n"
     ]
    }
   ],
   "source": [
    "import requests\n",
    "import bs4\n",
    "DateList = []\n",
    "HighList = []\n",
    "LowList = []\n",
    "MarketCap = []\n",
    "Volume = []\n",
    "_52WeekLow = []\n",
    "_52WeekHigh = []\n",
    "EPS = []\n",
    "\n",
    "r = requests.get('https://coinmarketcap.com/currencies/bitcoin/historical-data/')\n",
    "\n",
    "soup = bs4.BeautifulSoup(r.text,'lxml')\n",
    "\n",
    "tr = soup.find_all('tr',{'class':'text-right'})\n",
    "for item in tr:\n",
    "    DateList.append(item.find('td',{'class':'text-left'}).text)\n",
    "    HighList.append(item.find_all('td')[2].text)\n",
    "    LowList.append(item.find_all('td')[3].text)\n",
    "    Volume.append(item.find_all('td')[5].text)\n",
    "    MarketCap.append(item.find_all('td')[6].text)\n",
    "print(tr)"
   ]
  },
  {
   "cell_type": "code",
   "execution_count": 5,
   "outputs": [],
   "source": [],
   "metadata": {
    "collapsed": false
   }
  }
 ],
 "metadata": {
  "kernelspec": {
   "display_name": "Python 3",
   "language": "python",
   "name": "python3"
  },
  "language_info": {
   "codemirror_mode": {
    "name": "ipython",
    "version": 3
   },
   "file_extension": ".py",
   "mimetype": "text/x-python",
   "name": "python",
   "nbconvert_exporter": "python",
   "pygments_lexer": "ipython3",
   "version": "3.7.3"
  }
 },
 "nbformat": 4,
 "nbformat_minor": 2
}
