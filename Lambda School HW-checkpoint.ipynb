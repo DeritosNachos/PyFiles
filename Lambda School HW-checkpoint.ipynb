{
 "cells": [
  {
   "cell_type": "raw",
   "metadata": {},
   "source": [
    "a) It's a gas\n",
    "A taxi driver is calculating their profit over two weeks by adding up the fares they charge and subtracting the cost of gas. The price of gas changes over time - it was $3.52/gallon the first week and $3.57/gallon this second week. Their car gets 20 miles per gallon.\n",
    "\n",
    "For the first week the driver had a total of 23 passengers with average $29 fare each, and drove a total of 160 miles. For the second week they had 17 passengers with average $30 fare each, and drove a total of 220 miles. Assume that for both weeks they purchase all the gas needed during that week (i.e. they refuel every week to maintain a constant level of gas in the tank).\n",
    "\n",
    "Based on the above, answer the following questions:\n",
    "\n",
    "What is their total profit over both weeks?\n",
    "During which week was their average (mean) profit per passenger higher?"
   ]
  },
  {
   "cell_type": "code",
   "execution_count": 1,
   "metadata": {},
   "outputs": [
    {
     "name": "stdout",
     "output_type": "stream",
     "text": [
      "first weeks net profit was higher on average at 638.84\n",
      "1109.5700000000002\n"
     ]
    }
   ],
   "source": [
    "# TODO your code here!\n",
    "def cost(gas,miles):\n",
    "  mpg = 20\n",
    "  cost = (miles / mpg) * gas\n",
    "  return cost\n",
    "\n",
    "def profit(passengers,fare):\n",
    "  profit = passengers * fare\n",
    "  return profit\n",
    "\n",
    "_1stweek = profit(23,29) - cost(3.52,160)\n",
    "_2ndweek = profit(17,30) - cost(3.57,220)\n",
    "\n",
    "if _1stweek > _2ndweek:\n",
    "  print(f'first weeks net profit was higher on average at {_1stweek}')\n",
    "else:\n",
    "  print(f'second weeks net profit was higher on average at {_2ndweek}')\n",
    "\n",
    "net = _1stweek + _2ndweek\n",
    "\n",
    "print(net)"
   ]
  },
  {
   "cell_type": "raw",
   "metadata": {},
   "source": [
    "b) Mo' money...\n",
    "A cash drawer contains 160 bills, all 10s and 50s. The total value of the 10s and 50s is $1,760.\n",
    "\n",
    "How many of each type of bill are in the drawer? You can figure this out by trial and error (or by doing algebra with pencil and paper), but try to use loops and conditionals to check a plausible possibilities and stop when you find the correct one."
   ]
  },
  {
   "cell_type": "code",
   "execution_count": 2,
   "metadata": {},
   "outputs": [
    {
     "name": "stdout",
     "output_type": "stream",
     "text": [
      "156 tens\n",
      "4 fifties\n"
     ]
    }
   ],
   "source": [
    "# TODO your code here!\n",
    "#iters = 0\n",
    "for fitys in range(0,161):\n",
    "  for tens in range(0,161):\n",
    "    #iters += 1\n",
    "    bills = tens + fitys\n",
    "    ten = tens * 10\n",
    "    fity = fitys * 50\n",
    "    total = ten + fity\n",
    "    if total == 1760 and bills == 160:\n",
    "        print(tens, 'tens')\n",
    "        print(fitys, 'fifties')\n",
    "        #print(iters)\n",
    "        break\n",
    "  \n",
    "#for i in range(0,10): 0-9\n",
    "#  print(i)"
   ]
  },
  {
   "cell_type": "raw",
   "metadata": {},
   "source": [
    "Use NumPy and Matplotlib to draw a scatterplot of uniform random (x, y) values all drawn from the [0, 1] interval. Helpful documentation:\n",
    "\n",
    "https://matplotlib.org/tutorials/index.html\n",
    "https://docs.scipy.org/doc/numpy/user/quickstart.html\n",
    "Stretch goal - draw more plots! You can refer to the Matplotlib gallery for inspiration, but don't just reproduce something - try to apply it to your own data.\n",
    "\n",
    "How to get data? There's many ways, but a good place to get started is with sklearn.datasets:\n",
    "\n",
    "from sklearn import datasets\n",
    "dir(datasets)"
   ]
  },
  {
   "cell_type": "code",
   "execution_count": null,
   "metadata": {},
   "outputs": [],
   "source": []
  },
  {
   "cell_type": "raw",
   "metadata": {},
   "source": [
    "Write a function that, given a list of numbers, calculates the mean, median, and mode of those numbers. Return a dictionary with properties for the mean, median and mode.\n",
    "\n",
    "For example:\n",
    "\n",
    "mmm_dict = meanMedianMode([1, 2, 6, 7, 8, 9, 3, 4, 5, 10, 10])\n",
    "print(mmm_dict)\n",
    "> {'mean': 5.909090909090909, 'median': 6, 'mode': 10}\n",
    "There are Python standard libraries that make calculating these numbers very easy, but first try your hand at implementing it using the reduce() function:"
   ]
  },
  {
   "cell_type": "code",
   "execution_count": 3,
   "metadata": {},
   "outputs": [
    {
     "name": "stdout",
     "output_type": "stream",
     "text": [
      "Help on built-in function reduce in module _functools:\n",
      "\n",
      "reduce(...)\n",
      "    reduce(function, sequence[, initial]) -> value\n",
      "    \n",
      "    Apply a function of two arguments cumulatively to the items of a sequence,\n",
      "    from left to right, so as to reduce the sequence to a single value.\n",
      "    For example, reduce(lambda x, y: x+y, [1, 2, 3, 4, 5]) calculates\n",
      "    ((((1+2)+3)+4)+5).  If initial is present, it is placed before the items\n",
      "    of the sequence in the calculation, and serves as a default when the\n",
      "    sequence is empty.\n",
      "\n"
     ]
    }
   ],
   "source": [
    "from functools import reduce\n",
    "help(reduce)\n",
    "\n",
    "def meanMedianMode(numbers):\n",
    "    # TODO your code here!\n",
    "    total = reduce()\n",
    "    return"
   ]
  },
  {
   "cell_type": "code",
   "execution_count": null,
   "metadata": {},
   "outputs": [],
   "source": []
  }
 ],
 "metadata": {
  "kernelspec": {
   "display_name": "Python 3",
   "language": "python",
   "name": "python3"
  },
  "language_info": {
   "codemirror_mode": {
    "name": "ipython",
    "version": 3
   },
   "file_extension": ".py",
   "mimetype": "text/x-python",
   "name": "python",
   "nbconvert_exporter": "python",
   "pygments_lexer": "ipython3",
   "version": "3.7.3"
  }
 },
 "nbformat": 4,
 "nbformat_minor": 2
}
