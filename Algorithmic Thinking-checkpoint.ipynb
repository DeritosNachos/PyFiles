{
 "cells": [
  {
   "cell_type": "code",
   "execution_count": 9,
   "metadata": {},
   "outputs": [
    {
     "name": "stdout",
     "output_type": "stream",
     "text": [
      "Enter the month of th year: 1\n",
      "Enter the day: 2\n",
      "days left till the end of the year: 363\n"
     ]
    }
   ],
   "source": [
    "#prompts two numbers, then calculates the number of days until the end of the year\n",
    "\n",
    "month1 = int(input('Enter the month of th year: '))\n",
    "day1 = int(input('Enter the day: '))\n",
    "days_left = 365 - (((month1-1)*30) + day1)\n",
    "if month1 >= 0 and day1 >= 0:\n",
    "    print(f'days left till the end of the year: {days_left}')\n"
   ]
  },
  {
   "cell_type": "code",
   "execution_count": 3,
   "metadata": {},
   "outputs": [
    {
     "name": "stdout",
     "output_type": "stream",
     "text": [
      "in m/sec^2: 45\n",
      "what was the time travelled25\n",
      "The distance travelled was 14062.5\n"
     ]
    }
   ],
   "source": [
    "acceleration = float(input('in m/sec^2: '))\n",
    "time_travelled = float(input('what was the time travelled: '))\n",
    "distance = .5 * acceleration * (time_travelled**2)\n",
    "print(f'The distance travelled was {distance}')"
   ]
  },
  {
   "cell_type": "code",
   "execution_count": null,
   "metadata": {},
   "outputs": [
    {
     "name": "stdout",
     "output_type": "stream",
     "text": [
      "Enter the charge for a meal: 50\n",
      "The total charge for a meal at $50.0, is $58.5\n",
      "Enter the charge for a meal: 59\n",
      "The total charge for a meal at $59.0, is $69.03\n"
     ]
    }
   ],
   "source": [
    "while True:\n",
    "    \n",
    "    charge = input('Enter the charge for a meal: ')\n",
    "    if charge == 'quit':\n",
    "        break\n",
    "    else:\n",
    "    \n",
    "        con = float(charge)\n",
    "        tip = con * .1\n",
    "        sales_tax = con * .07\n",
    "        total = con + tip + sales_tax\n",
    "        print(f'The total charge for a meal at ${con}, is ${total}')\n"
   ]
  },
  {
   "cell_type": "code",
   "execution_count": 3,
   "metadata": {},
   "outputs": [
    {
     "name": "stdout",
     "output_type": "stream",
     "text": [
      "Enter a value for the base of the triangle: 85.5\n",
      "Enter a value for the height of the triangle: 56.3\n",
      "The area of a triangle with a base of 85.5 and a height of 56.3 is 2406.825\n"
     ]
    }
   ],
   "source": [
    "base = float(input('Enter a value for the base of the triangle: '))\n",
    "height = float (input('Enter a value for the height of the triangle: '))\n",
    "area_triangle = 1 / 2 * (base * height)\n",
    "print(f'The area of a triangle with a base of {base} and a height of {height} is {area_triangle}')"
   ]
  },
  {
   "cell_type": "code",
   "execution_count": 5,
   "metadata": {},
   "outputs": [
    {
     "name": "stdout",
     "output_type": "stream",
     "text": [
      "Enter the first angle of a triagle: 108\n",
      "Enter the second angle of a triangle: 56\n",
      "\n",
      "If the first angle of a triangle is 108, and the second angle of a triangle is 56, then the \n",
      "third angle of a triangle must be 16!\n",
      "\n"
     ]
    }
   ],
   "source": [
    "_1st_angle = int(input('Enter the first angle of a triagle: '))\n",
    "_2nd_angle = int(input('Enter the second angle of a triangle: '))\n",
    "_3rd_angle = 180 - _1st_angle - _2nd_angle\n",
    "sentence = f'''\n",
    "If the first angle of a triangle is {_1st_angle}, and the second angle of a triangle is {_2nd_angle}, then the \n",
    "third angle of a triangle must be {_3rd_angle}!\n",
    "'''\n",
    "print(sentence)"
   ]
  },
  {
   "cell_type": "code",
   "execution_count": 9,
   "metadata": {},
   "outputs": [
    {
     "name": "stdout",
     "output_type": "stream",
     "text": [
      "Enter grade for first assignment: 100\n",
      "Enter grade for the second assignment: 100\n",
      "Enter grade for the third assignment: 100\n",
      "Enter grade for the fourth assignment: 100\n",
      "100.0\n"
     ]
    }
   ],
   "source": [
    "_1st_grade = float(input('Enter grade for first assignment: '))\n",
    "_2nd_grade = float(input('Enter grade for the second assignment: '))\n",
    "_3rd_grade = float(input('Enter grade for the third assignment: '))\n",
    "_4th_grade = float(input('Enter grade for the fourth assignment: '))\n",
    "\n",
    "average = (_1st_grade + _2nd_grade + _3rd_grade + _4th_grade ) / 4\n",
    "print(average)\n",
    "\n",
    "    "
   ]
  },
  {
   "cell_type": "code",
   "execution_count": 4,
   "metadata": {},
   "outputs": [
    {
     "name": "stdout",
     "output_type": "stream",
     "text": [
      "Number of assignments: 4\n",
      "Enter you grade for the assignment: 85\n",
      "Enter you grade for the assignment: 75\n",
      "Enter you grade for the assignment: 50\n",
      "Enter you grade for the assignment: 100\n",
      "77.5\n"
     ]
    }
   ],
   "source": [
    "iters = 0                                                                     #simple \n",
    "count = 0\n",
    "num_of_grades = int(input('Number of assignments: '))\n",
    "while num_of_grades != 0:\n",
    "    grade = float(input('Enter you grade for the assignment: '))\n",
    "    count += grade \n",
    "    iters += 1\n",
    "    num_of_grades -= 1\n",
    "  \n",
    "    average = count / iters \n",
    "print(average)\n",
    "    \n",
    "    \n",
    "    "
   ]
  },
  {
   "cell_type": "code",
   "execution_count": 6,
   "metadata": {},
   "outputs": [
    {
     "name": "stdout",
     "output_type": "stream",
     "text": [
      "Enter the radius of a circle: 45\n",
      "A circle with a radius of 45.0 has a circumference of 282.74309999999997!\n"
     ]
    }
   ],
   "source": [
    "radius = float(input('Enter the radius of a circle: '))\n",
    "circum = 2 * 3.14159 * radius \n",
    "print(f'A circle with a radius of {radius} has a circumference of {circum}!')\n"
   ]
  },
  {
   "cell_type": "code",
   "execution_count": null,
   "metadata": {},
   "outputs": [],
   "source": []
  }
 ],
 "metadata": {
  "kernelspec": {
   "display_name": "Python 3",
   "language": "python",
   "name": "python3"
  },
  "language_info": {
   "codemirror_mode": {
    "name": "ipython",
    "version": 3
   },
   "file_extension": ".py",
   "mimetype": "text/x-python",
   "name": "python",
   "nbconvert_exporter": "python",
   "pygments_lexer": "ipython3",
   "version": "3.7.3"
  }
 },
 "nbformat": 4,
 "nbformat_minor": 2
}
