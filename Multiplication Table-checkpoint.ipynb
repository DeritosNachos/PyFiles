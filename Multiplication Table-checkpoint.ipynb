{
 "cells": [
  {
   "cell_type": "raw",
   "metadata": {},
   "source": [
    "[Project] Multiplication Table\n",
    "You remember those multiplication tables from elementary school, right? The ones where you choose a number on the top row and one on the side and see where they meet on the chart? Good. It would be easy enough to just write it out, but let's try using Python to our advantage.\n",
    "\n",
    "Goal\n",
    "\n",
    "Create a program that prints out a multiplication table for the numbers 1 through 9. It should include the numbers 1 through 9 on the top and left axises, and it should be relatively easy to find the product of two numbers. Do not simply write out every line manually (ie print('7 14 21 28 35 49 56 63') ).\n",
    "\n",
    "Subgoals\n",
    "\n",
    "As your products get larger, your columns will start to get crooked from the number of characters on each line. Clean up your table by evenly spacing columns so it is very easy to find the product of two numbers.\n",
    "\n",
    "Allow the user to choose a number to change the size of the table (so if they type in 12, the table printed out should be a 12x12 multiplication table)."
   ]
  },
  {
   "cell_type": "code",
   "execution_count": 5,
   "metadata": {},
   "outputs": [
    {
     "name": "stdout",
     "output_type": "stream",
     "text": [
      "Enter a number here to get a multiplication table: 12\n",
      "12 24 36 48 60 72 84 96 108 120 132 144 \n",
      "11 22 33 44 55 66 77 88 99 110 121 132 \n",
      "10 20 30 40 50 60 70 80 90 100 110 120 \n",
      "9 18 27 36 45 54 63 72 81 90 99 108 \n",
      "8 16 24 32 40 48 56 64 72 80 88 96 \n",
      "7 14 21 28 35 42 49 56 63 70 77 84 \n",
      "6 12 18 24 30 36 42 48 54 60 66 72 \n",
      "5 10 15 20 25 30 35 40 45 50 55 60 \n",
      "4 8 12 16 20 24 28 32 36 40 44 48 \n",
      "3 6 9 12 15 18 21 24 27 30 33 36 \n",
      "2 4 6 8 10 12 14 16 18 20 22 24 \n",
      "1 2 3 4 5 6 7 8 9 10 11 12 \n",
      "\n"
     ]
    }
   ],
   "source": [
    "number = int(input('Enter a number here to get a multiplication table: '))\n",
    "if number < 0:\n",
    "    number = -number   #this line deals with neg integers put into input\n",
    "output = ''            #this variable is the one that gets populated\n",
    "count = number         #this is the count set outside the while loop\n",
    "while count > 0:\n",
    "    for i in range(1, 13):\n",
    "        result = i * count\n",
    "        string = str(result) + ' '  #composes the string to output\n",
    "        output += string        #populates output variable\n",
    "    output += '\\n' #this line creates rows for the multiplication table\n",
    "    count -= 1     #this closes the while loop\n",
    "print(output)"
   ]
  },
  {
   "cell_type": "code",
   "execution_count": 11,
   "metadata": {
    "collapsed": true
   },
   "outputs": [
    {
     "name": "stdout",
     "output_type": "stream",
     "text": [
      "Enter a number here to get a multiplication table: 5\n",
      "1\n",
      "2\n",
      "3\n",
      "4\n",
      "5\n",
      "6\n",
      "7\n",
      "8\n",
      "9\n",
      "10\n",
      "11\n",
      "12\n",
      "2\n",
      "4\n",
      "6\n",
      "8\n",
      "10\n",
      "12\n",
      "14\n",
      "16\n",
      "18\n",
      "20\n",
      "22\n",
      "24\n",
      "3\n",
      "6\n",
      "9\n",
      "12\n",
      "15\n",
      "18\n",
      "21\n",
      "24\n",
      "27\n",
      "30\n",
      "33\n",
      "36\n",
      "4\n",
      "8\n",
      "12\n",
      "16\n",
      "20\n",
      "24\n",
      "28\n",
      "32\n",
      "36\n",
      "40\n",
      "44\n",
      "48\n",
      "5\n",
      "10\n",
      "15\n",
      "20\n",
      "25\n",
      "30\n",
      "35\n",
      "40\n",
      "45\n",
      "50\n",
      "55\n",
      "60\n"
     ]
    }
   ],
   "source": [
    "number = int(input('Enter a number here to get a multiplication table: '))\n",
    "output = ''\n",
    "if number < 0:\n",
    "    number = -number\n",
    "for x in range(1, number+1):\n",
    "    for y in range(1, 13):\n",
    "        print(x * y)\n",
    "    "
   ]
  },
  {
   "cell_type": "code",
   "execution_count": 10,
   "metadata": {},
   "outputs": [
    {
     "name": "stdout",
     "output_type": "stream",
     "text": [
      "Enter a number here to get a multiplication table: 2\n",
      "2 4 6 8 10 12 14 16 18 20 22 24 \n"
     ]
    }
   ],
   "source": [
    "number = int(input('Enter a number here to get a multiplication table: '))\n",
    "output = ''\n",
    "if number < 0:\n",
    "    number = -number\n",
    "for i in range(1, 13):\n",
    "    result = i * number\n",
    "    string = str(result) + ' '\n",
    "    output += string\n",
    "print(output)"
   ]
  }
 ],
 "metadata": {
  "kernelspec": {
   "display_name": "Python 3",
   "language": "python",
   "name": "python3"
  },
  "language_info": {
   "codemirror_mode": {
    "name": "ipython",
    "version": 3
   },
   "file_extension": ".py",
   "mimetype": "text/x-python",
   "name": "python",
   "nbconvert_exporter": "python",
   "pygments_lexer": "ipython3",
   "version": "3.7.3"
  }
 },
 "nbformat": 4,
 "nbformat_minor": 2
}
