{
 "cells": [
  {
   "cell_type": "code",
   "execution_count": 5,
   "metadata": {},
   "outputs": [
    {
     "name": "stdout",
     "output_type": "stream",
     "text": [
      "Input an integer to add to the total, or \"Q\" to quit: 45.16\n",
      "45.16\n",
      "Input an integer to add to the total, or \"Q\" to quit: 15.45\n",
      "60.61\n",
      "Input an integer to add to the total, or \"Q\" to quit: 7884545\n",
      "7884605.61\n",
      "Input an integer to add to the total, or \"Q\" to quit: 45456\n",
      "7930061.61\n",
      "Input an integer to add to the total, or \"Q\" to quit: dff\n",
      "Does not compute\n",
      "Input an integer to add to the total, or \"Q\" to quit: Q\n"
     ]
    }
   ],
   "source": [
    "function = True\n",
    "total = 0\n",
    "while function:\n",
    "    add = input('Input an integer to add to the total, or \"Q\" to quit: ')\n",
    "    if '0' in add or '1' in add or '2' in add \\\n",
    "    or '3' in add or '4' in add or '5' in add \\\n",
    "    or '6' in add or '7' in add or '9' in add:\n",
    "        add = float(add)\n",
    "        total += add\n",
    "        print(total)\n",
    "    elif add == 'Q':\n",
    "        function = False\n",
    "    else:\n",
    "        print('Does not compute')\n",
    "    "
   ]
  },
  {
   "cell_type": "code",
   "execution_count": 5,
   "metadata": {
    "collapsed": true
   },
   "outputs": [
    {
     "name": "stdout",
     "output_type": "stream",
     "text": [
      "564l\n"
     ]
    },
    {
     "ename": "ValueError",
     "evalue": "invalid literal for int() with base 10: '564l'",
     "output_type": "error",
     "traceback": [
      "\u001b[1;31m---------------------------------------------------------------------------\u001b[0m",
      "\u001b[1;31mValueError\u001b[0m                                Traceback (most recent call last)",
      "\u001b[1;32m<ipython-input-5-1084fd6d094c>\u001b[0m in \u001b[0;36m<module>\u001b[1;34m\u001b[0m\n\u001b[0;32m      5\u001b[0m     \u001b[0madd\u001b[0m \u001b[1;33m=\u001b[0m \u001b[0minput\u001b[0m\u001b[1;33m(\u001b[0m\u001b[1;33m)\u001b[0m\u001b[1;33m\u001b[0m\u001b[1;33m\u001b[0m\u001b[0m\n\u001b[0;32m      6\u001b[0m     \u001b[1;32mif\u001b[0m \u001b[0madd\u001b[0m\u001b[1;33m[\u001b[0m\u001b[1;36m0\u001b[0m\u001b[1;33m]\u001b[0m \u001b[1;32min\u001b[0m \u001b[0mnumbers\u001b[0m\u001b[1;33m:\u001b[0m\u001b[1;33m\u001b[0m\u001b[1;33m\u001b[0m\u001b[0m\n\u001b[1;32m----> 7\u001b[1;33m         \u001b[0madd\u001b[0m \u001b[1;33m=\u001b[0m \u001b[0mint\u001b[0m\u001b[1;33m(\u001b[0m\u001b[0madd\u001b[0m\u001b[1;33m)\u001b[0m\u001b[1;33m\u001b[0m\u001b[1;33m\u001b[0m\u001b[0m\n\u001b[0m\u001b[0;32m      8\u001b[0m         \u001b[0mtotal\u001b[0m \u001b[1;33m+=\u001b[0m \u001b[0madd\u001b[0m\u001b[1;33m\u001b[0m\u001b[1;33m\u001b[0m\u001b[0m\n\u001b[0;32m      9\u001b[0m         \u001b[0mprint\u001b[0m\u001b[1;33m(\u001b[0m\u001b[0mtotal\u001b[0m\u001b[1;33m)\u001b[0m\u001b[1;33m\u001b[0m\u001b[1;33m\u001b[0m\u001b[0m\n",
      "\u001b[1;31mValueError\u001b[0m: invalid literal for int() with base 10: '564l'"
     ]
    }
   ],
   "source": [
    "total = 0\n",
    "numbers = '0123456789'\n",
    "function = True\n",
    "while function:\n",
    "    add = input()\n",
    "    if add[0] in numbers:\n",
    "        add = int(add)\n",
    "        total += add\n",
    "        print(total)\n",
    "    elif add == 'Q':\n",
    "        print(total)\n",
    "        function = False\n",
    "        break\n",
    "    else:\n",
    "        print('DNC')"
   ]
  },
  {
   "cell_type": "code",
   "execution_count": null,
   "metadata": {},
   "outputs": [],
   "source": []
  }
 ],
 "metadata": {
  "kernelspec": {
   "display_name": "Python 3",
   "language": "python",
   "name": "python3"
  },
  "language_info": {
   "codemirror_mode": {
    "name": "ipython",
    "version": 3
   },
   "file_extension": ".py",
   "mimetype": "text/x-python",
   "name": "python",
   "nbconvert_exporter": "python",
   "pygments_lexer": "ipython3",
   "version": "3.7.3"
  }
 },
 "nbformat": 4,
 "nbformat_minor": 2
}
