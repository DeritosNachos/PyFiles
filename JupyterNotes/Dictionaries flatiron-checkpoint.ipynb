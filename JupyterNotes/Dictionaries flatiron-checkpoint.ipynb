{
 "cells": [
  {
   "cell_type": "code",
   "execution_count": 3,
   "metadata": {},
   "outputs": [
    {
     "name": "stdout",
     "output_type": "stream",
     "text": [
      "David Crane\n",
      "Marta Kauffman\n"
     ]
    }
   ],
   "source": [
    "friends = {\n",
    "    'name': 'Friends',\n",
    "    'genre': 'sitcom',\n",
    "    'no_of_seasons': 10\n",
    "}\n",
    "seinfeld = {\n",
    "    'name': 'Seinfeld',\n",
    "    'creators': ['Larry David', 'Jerry Seinfeld'],\n",
    "    'genre': 'sitcom',\n",
    "    'no_of_seasons': 10,\n",
    "    'no_of_episodes': 180\n",
    "}\n",
    "\n",
    "friends['no_of_episodes'] = 236\n",
    "friends[14] = 'some value'\n",
    "del friends[14]\n",
    "creators = ['David Crane', 'Marta Kauffman']\n",
    "friends['creators'] = creators\n",
    "\n",
    "\n",
    "david_crane = friends['creators'][0]\n",
    "friends['creators']\n",
    "print(david_crane)\n",
    "\n",
    "tv_shows = [friends, seinfeld]\n",
    "\n",
    "jerry = tv_shows[1]['creators'][1]\n",
    "marta = tv_shows[0]['creators'][1]\n",
    "print(marta)"
   ]
  },
  {
   "cell_type": "code",
   "execution_count": null,
   "metadata": {},
   "outputs": [],
   "source": []
  }
 ],
 "metadata": {
  "kernelspec": {
   "display_name": "Python 3",
   "language": "python",
   "name": "python3"
  },
  "language_info": {
   "codemirror_mode": {
    "name": "ipython",
    "version": 3
   },
   "file_extension": ".py",
   "mimetype": "text/x-python",
   "name": "python",
   "nbconvert_exporter": "python",
   "pygments_lexer": "ipython3",
   "version": "3.7.3"
  }
 },
 "nbformat": 4,
 "nbformat_minor": 2
}
