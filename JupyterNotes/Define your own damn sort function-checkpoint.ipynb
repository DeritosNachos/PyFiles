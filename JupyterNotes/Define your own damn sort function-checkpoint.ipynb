{
 "cells": [
  {
   "cell_type": "code",
   "execution_count": 61,
   "metadata": {
    "collapsed": true
   },
   "outputs": [
    {
     "name": "stdout",
     "output_type": "stream",
     "text": [
      "[8, 3, 5, 7, 3, 10]\n",
      "3\n",
      "[2, 3]\n",
      "[8, 5, 7, 3, 10]\n",
      "3\n",
      "[2, 3, 3]\n",
      "[8, 5, 7, 10]\n",
      "5\n",
      "[2, 3, 3, 5]\n",
      "[8, 7, 10]\n",
      "7\n",
      "[2, 3, 3, 5, 7]\n",
      "[8, 10]\n",
      "8\n",
      "[2, 3, 3, 5, 7, 8]\n",
      "[10]\n",
      "10\n",
      "[2, 3, 3, 5, 7, 8, 10]\n",
      "[2, 3, 3, 5, 7, 8, 10]\n"
     ]
    }
   ],
   "source": [
    "the_list = [2,8,3,5,7,3,10]\n",
    "\n",
    "def findsmall(a_list):\n",
    "    small = a_list[0]\n",
    "    for num in a_list:\n",
    "        if num < small:\n",
    "            small = num\n",
    "    return small\n",
    "\n",
    "def sortt(a_list):\n",
    "    new_list = [findsmall(a_list)]\n",
    "    copy = a_list.copy()\n",
    "    remove = findsmall(copy)\n",
    "    while len(copy) > 1:\n",
    "        copy.remove(remove)\n",
    "        print(copy)\n",
    "        remove = findsmall(copy)\n",
    "        print(remove)\n",
    "        new_list.append(remove)\n",
    "        print(new_list)\n",
    "    return new_list\n",
    "\n",
    "print(sortt(the_list))\n"
   ]
  },
  {
   "cell_type": "code",
   "execution_count": null,
   "metadata": {},
   "outputs": [],
   "source": [
    "#duplicate code\n",
    "def findsmall(a_list):\n",
    "    small = a_list[0]\n",
    "    for num in a_list:\n",
    "        if num < small:\n",
    "            small = num\n",
    "    return small\n",
    "\n",
    "def sortt(a_list):\n",
    "    new_list = [findsmall(a_list)]\n",
    "    copy = a_list.copy()\n",
    "    remove = findsmall(copy)\n",
    "    while len(copy) > 1:\n",
    "        copy.remove(remove)\n",
    "        remove = findsmall(copy)\n",
    "        new_list.append(remove)\n",
    "    return new_list"
   ]
  }
 ],
 "metadata": {
  "kernelspec": {
   "display_name": "Python 3",
   "language": "python",
   "name": "python3"
  },
  "language_info": {
   "codemirror_mode": {
    "name": "ipython",
    "version": 3
   },
   "file_extension": ".py",
   "mimetype": "text/x-python",
   "name": "python",
   "nbconvert_exporter": "python",
   "pygments_lexer": "ipython3",
   "version": "3.7.3"
  }
 },
 "nbformat": 4,
 "nbformat_minor": 2
}
