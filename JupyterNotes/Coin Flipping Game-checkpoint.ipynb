{
 "cells": [
  {
   "cell_type": "code",
   "execution_count": 4,
   "metadata": {},
   "outputs": [
    {
     "name": "stdout",
     "output_type": "stream",
     "text": [
      "Enter name of player 1: Jake\n",
      "Enter name of player 2: Red\n",
      "Jake has randomly been chosen, Jake, heads or tails?: tails\n",
      "outcome is tails\n",
      "You Win\n"
     ]
    }
   ],
   "source": [
    "import random \n",
    "player1 = str(input('Enter name of player 1: '))\n",
    "player2 = str(input('Enter name of player 2: '))\n",
    "pick_player = random.randint(1,100)\n",
    "if pick_player > 50:\n",
    "    choice = str(input(f'{player1} has randomly been chosen, {player1}, heads or tails?: '))\n",
    "else:\n",
    "    choice = str(input(f'{player2} has randomly been chosen, {player2}, heads or tails?: '))\n",
    "coin_toss = random.randint(1,100)\n",
    "outcome = ''\n",
    "if coin_toss > 50:\n",
    "    outcome += 'heads'\n",
    "else:\n",
    "    outcome += 'tails'\n",
    "print(f'outcome is {outcome}!')\n",
    "\n",
    "if outcome in choice:\n",
    "    print('You Win')\n",
    "else:\n",
    "    print(\"You Lose\")\n",
    "    "
   ]
  },
  {
   "cell_type": "code",
   "execution_count": null,
   "metadata": {},
   "outputs": [],
   "source": []
  }
 ],
 "metadata": {
  "kernelspec": {
   "display_name": "Python 3",
   "language": "python",
   "name": "python3"
  },
  "language_info": {
   "codemirror_mode": {
    "name": "ipython",
    "version": 3
   },
   "file_extension": ".py",
   "mimetype": "text/x-python",
   "name": "python",
   "nbconvert_exporter": "python",
   "pygments_lexer": "ipython3",
   "version": "3.7.3"
  }
 },
 "nbformat": 4,
 "nbformat_minor": 2
}
