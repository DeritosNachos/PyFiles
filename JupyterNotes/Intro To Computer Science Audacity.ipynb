{
 "cells": [
  {
   "cell_type": "code",
   "execution_count": 1,
   "metadata": {},
   "outputs": [
    {
     "name": "stdout",
     "output_type": "stream",
     "text": [
      "True\n",
      "True\n",
      "any stringany \n",
      "20\n",
      "any stringany string\n"
     ]
    }
   ],
   "source": [
    "s = 'any string'\n",
    "\n",
    "a = s[3] == s[1 + 1 + 1]  #True\n",
    "print(a)\n",
    "\n",
    "b = s[0] == (s + s)[0]   # (s + s) = 'any stringany string' (it is concatinated) so s[0] is simply first value of new string\n",
    "print(b)                  #True\n",
    "\n",
    "print((s + s)[0:14])\n",
    "print(len(s + s))\n",
    "print(s + s)\n"
   ]
  },
  {
   "cell_type": "code",
   "execution_count": 6,
   "metadata": {},
   "outputs": [
    {
     "name": "stdout",
     "output_type": "stream",
     "text": [
      "Udacity\n"
     ]
    }
   ],
   "source": [
    "s = 'audacity'\n",
    "da = s[2:]\n",
    "print('U' + da)"
   ]
  },
  {
   "cell_type": "code",
   "execution_count": 20,
   "metadata": {},
   "outputs": [
    {
     "name": "stdout",
     "output_type": "stream",
     "text": [
      "any string\n",
      "any string\n",
      "any string\n",
      "any string\n",
      "any string\n",
      "any string\n"
     ]
    }
   ],
   "source": [
    "s = 'any string'\n",
    "\n",
    "print(s[:])\n",
    "print(s[0:])\n",
    "print(s + s[0:0])\n",
    "print(s +  s[0:-1+1])\n",
    "print(s[:3] + s[3:])\n",
    "print(s[:1] +s[ 1:])"
   ]
  },
  {
   "cell_type": "code",
   "execution_count": 22,
   "metadata": {},
   "outputs": [
    {
     "name": "stdout",
     "output_type": "stream",
     "text": [
      "0\n",
      "0\n",
      "0\n",
      "0\n"
     ]
    }
   ],
   "source": [
    "s = 'for any string, which of the following will have a value of 0?'\n",
    "\n",
    "print(s.find(s))\n",
    "print('s'.find('s'))\n",
    "print(s.find(''))\n",
    "print(s.find(s + '!!!')+ 1) #returns a -1 and adds 1 "
   ]
  },
  {
   "cell_type": "code",
   "execution_count": 32,
   "metadata": {},
   "outputs": [
    {
     "name": "stdout",
     "output_type": "stream",
     "text": [
      "6\n"
     ]
    },
    {
     "data": {
      "text/plain": [
       "6"
      ]
     },
     "execution_count": 32,
     "metadata": {},
     "output_type": "execute_result"
    }
   ],
   "source": [
    "s = 'for any variables s and t that are strings, and i that is a number' \n",
    "t = 'y variable'\n",
    "i = 4\n",
    "\n",
    "#which of these is equivalent to s.find(t,i) \n",
    "\n",
    "#s[i:]find.(t)\n",
    "#s.find(t)[:i]\n",
    "print(s[i:].find(t) + i)                #not equivalent in cases where t is not found\n",
    "s[i:].find(t[i:])"
   ]
  },
  {
   "cell_type": "code",
   "execution_count": 33,
   "metadata": {},
   "outputs": [
    {
     "name": "stdout",
     "output_type": "stream",
     "text": [
      "http://udacity.com\n"
     ]
    }
   ],
   "source": [
    "# Write Python code that assigns to the \n",
    "# variable url a string that is the value \n",
    "# of the first URL that appears in a link \n",
    "# tag in the string page.\n",
    "# Your code should print http://udacity.com\n",
    "# Make sure that if page were changed to\n",
    "\n",
    "# page = '<a href=\"http://udacity.com\">Hello world</a>'\n",
    "\n",
    "# that your code still assigns the same value to the variable 'url', \n",
    "# and therefore still prints the same thing.\n",
    "\n",
    "# page = contents of a web page\n",
    "page =('<div id=\"top_bin\"><div id=\"top_content\" class=\"width960\">'\n",
    "'<div class=\"udacity float-left\"><a href=\"http://udacity.com\">')\n",
    "start_link = page.find('<a href=')\n",
    "end = page.find('\">', start_link)   #finds '\">' after position of start_link\n",
    "\n",
    "\n",
    "url = page[start_link+9:end]\n",
    "print(url)"
   ]
  },
  {
   "cell_type": "code",
   "execution_count": null,
   "metadata": {},
   "outputs": [],
   "source": [
    "# Write Python code that prints out the number of hours in 7 weeks.\n",
    "\n",
    "\n",
    "\n",
    "hour = 1\n",
    "day = 24 \n",
    "week = 7 * day \n",
    "\n",
    "\n",
    "number_hours7weeks = week * 7 \n",
    "\n",
    "print(number_hours7weeks)"
   ]
  },
  {
   "cell_type": "code",
   "execution_count": 34,
   "metadata": {},
   "outputs": [
    {
     "name": "stdout",
     "output_type": "stream",
     "text": [
      "0.2998\n"
     ]
    }
   ],
   "source": [
    "# Write Python code that stores the distance \n",
    "# in meters that light travels in one \n",
    "# nanosecond in the variable, nanodistance. \n",
    "\n",
    "# These variables are defined for you:\n",
    "\n",
    "speed_of_light = 299800000. # meters per second\n",
    "nano_per_sec = 1000000000. # 1 billion\n",
    "nanodistance = speed_of_light / nano_per_sec\n",
    "# After your code, running the following:\n",
    "\n",
    "print(nanodistance)\n",
    "\n",
    "# should output: 0.2998\n",
    "\n",
    "# Note that nanodistance must be a decimal number.\n",
    "\n",
    "# ASSIGN nanodistance BELOW this line"
   ]
  },
  {
   "cell_type": "code",
   "execution_count": 36,
   "metadata": {},
   "outputs": [
    {
     "name": "stdout",
     "output_type": "stream",
     "text": [
      "18\n",
      "18\n"
     ]
    }
   ],
   "source": [
    "# Assume text is a variable that\n",
    "# holds a string. Write Python code\n",
    "# that prints out the position\n",
    "# of the second occurrence of 'zip'\n",
    "# in text, or -1 if it does not occur\n",
    "# at least twice.\n",
    "\n",
    "# The Python code should be general enough\n",
    "# to pass every possible case where 'zip' \n",
    "# can occur in a string\n",
    "\n",
    "# Here are two example test cases:\n",
    "#text = 'all zip files are zipped' \n",
    "# >>> 18\n",
    "# text = 'all zip files are compressed'\n",
    "# >>> -1\n",
    "\n",
    "text = \"all zip files are zipped\" \n",
    "print(text.find('zip',text.find('zip')+1 ))            #if its a number you can use it\n",
    "# ENTER CODE BELOW HERE\n",
    "\n",
    "find1 = text.find('zip')\n",
    "find2 = text.find('zip', find1+1)     # , provide a number to where the find function can execute after that position\n",
    "\n",
    "print(find2)\n",
    "\n",
    "# IMPORTANT BEFORE SUBMITTING: \n",
    "# You should only have one print command in your function"
   ]
  },
  {
   "cell_type": "code",
   "execution_count": 41,
   "metadata": {},
   "outputs": [
    {
     "name": "stdout",
     "output_type": "stream",
     "text": [
      "4\n",
      "\n",
      "3.56159\n",
      "\n",
      "4\n"
     ]
    }
   ],
   "source": [
    "# Given a variable, x, that stores the \n",
    "# value of any decimal number, write Python \n",
    "# code that prints out the nearest whole \n",
    "# number to x.\n",
    "# If x is exactly half way between two \n",
    "# whole numbers, round up, so\n",
    "# 3.5 rounds to 4 and 2.5 rounds to 3.\n",
    "# You may assume x is not negative.\n",
    "\n",
    "# Hint: The str function can convert any number into a string.\n",
    "# eg str(89) converts the number 89 to the string '89'\n",
    "\n",
    "# Along with the str function, this problem can be solved \n",
    "# using just the information introduced in unit 1.\n",
    "\n",
    "# x = 3.14159 \n",
    "# >>> 3 (not 3.0)\n",
    "# x = 27.63 \n",
    "# >>> 28 (not 28.0)\n",
    "# x = 3.5 \n",
    "# >>> 4 (not 4.0)\n",
    "\n",
    "x = 3.56159\n",
    "num = x + .5\n",
    "s = str(num)\n",
    "point = s.find('.')\n",
    "roundit = s[:point]\n",
    "print(roundit)\n",
    "\n",
    "\n",
    "print('')\n",
    "\n",
    "print(x)\n",
    "\n",
    "print('')\n",
    "\n",
    "\n",
    "x2 = x // 1\n",
    "if x < (x2+.5):\n",
    "    x = int(x2)\n",
    "    print(x)\n",
    "else:\n",
    "    x = int(x2) + 1\n",
    "    print(x)\n",
    "#ENTER CODE BELOW HERE"
   ]
  },
  {
   "cell_type": "code",
   "execution_count": 1,
   "metadata": {
    "collapsed": true
   },
   "outputs": [
    {
     "name": "stdout",
     "output_type": "stream",
     "text": [
      "Udacityd     WRONG\n",
      "Udacity     RIGHT\n",
      "Udacityda     WRONG\n",
      "Udacity      RIGHT\n",
      "UdaCity     Wrong\n",
      "Udacity     RIGHT\n"
     ]
    }
   ],
   "source": [
    "#given the string, s which of the following print 'Udacity'?\n",
    "\n",
    "s = 'CidatyUcityda'\n",
    "\n",
    "print(str(s[6]+ s[-2:] + s[7: 12])+ '     WRONG') \n",
    "print(str(s[6]+ s[-2:] + s[7: 11])+ '     RIGHT') \n",
    "print(str(s[6]+s[2:4]+s[7:13])+     '     WRONG')     \n",
    "print(str(s[-7]+ s[2:4] + s[7:11])+ '      RIGHT') \n",
    "print(str(s[6] + s[-2] + s[3] + s[:2] +s[4:6])+'     Wrong')\n",
    "print(str(s[6]+ s[2]+ s[3] + s[7:11])  + '     RIGHT')"
   ]
  },
  {
   "cell_type": "code",
   "execution_count": 71,
   "metadata": {},
   "outputs": [
    {
     "name": "stdout",
     "output_type": "stream",
     "text": [
      "The eruption of the volcano Eyjafjallajokull in 2010 disrupted air travel in Europe for 6 days.\n"
     ]
    }
   ],
   "source": [
    "###############################################\n",
    "#       Exercise by Websten from forums       #\n",
    "###############################################\n",
    "# To minimize errors when writing long texts with\n",
    "# complicated expressions you could replace \n",
    "# the tricky parts with a marker. \n",
    "# Write a program that takes a line of text and \n",
    "# finds the first occurrence of a certain marker \n",
    "# and replaces it with a replacement text. \n",
    "# The resulting line of text should be stored in a variable. \n",
    "# All input data will be given as variables.\n",
    "#\n",
    "# Replace the first occurrence of marker in the line below.\n",
    "# There will be at least one occurrence of the marker in the\n",
    "# line of text. Put the answer in the variable 'replaced'.\n",
    "# Hint: You can find out the length of a string by command\n",
    "# len(string). We might test your code with different markers!\n",
    "\n",
    "# Example 1\n",
    "marker = \"AFK\"\n",
    "replacement = \"away from keyboard\"\n",
    "line = \"I will now go to sleep and be AFK until lunch time tomorrow.\"\n",
    "# Example 2 # uncomment this to test with different input\n",
    "marker = \"EY\"\n",
    "replacement = \"Eyjafjallajokull\"\n",
    "line = \"The eruption of the volcano EY in 2010 disrupted air travel in Europe for 6 days.\"\n",
    "\n",
    "###\n",
    "# YOUR CODE BELOW. DO NOT DELETE THIS LINE\n",
    "###\n",
    "\n",
    "replaced = line.replace(marker, replacement)\n",
    "\n",
    "print (replaced)\n",
    "# Example 1 output should be:\n",
    "#>>> I will now go to sleep and be away from keyboard until lunch time tomorrow.\n",
    "# Example 2 output should be:\n",
    "#>>> The eruption of the volcano Eyjafjallajokull in 2010 disrupted air travel in Europe for 6 days."
   ]
  },
  {
   "cell_type": "code",
   "execution_count": 74,
   "metadata": {},
   "outputs": [
    {
     "data": {
      "text/plain": [
       "0.2"
      ]
     },
     "execution_count": 74,
     "metadata": {},
     "output_type": "execute_result"
    }
   ],
   "source": [
    "10/4\n",
    "10.0/4\n",
    "10/50"
   ]
  },
  {
   "cell_type": "code",
   "execution_count": 82,
   "metadata": {},
   "outputs": [
    {
     "name": "stdout",
     "output_type": "stream",
     "text": [
      "-1\n"
     ]
    }
   ],
   "source": [
    "###############################################\n",
    "#       Exercise by Websten from forums       #\n",
    "###############################################\n",
    "# A palindrome is a word or a phrase that reads \n",
    "# the same backwards as forwards. Make a program \n",
    "# that checks if a word is a palindrome. \n",
    "# If the word is a palindrome, print 0 to the terminal,\n",
    "# -1 otherwise. \n",
    "# The word contains lowercase letters a-z and \n",
    "# will be at least one character long.\n",
    "#\n",
    "### HINT! ###\n",
    "# You can read a string backwards with the following syntax:\n",
    "# string[::-1] - where the \"-1\" means one step back.\n",
    "# This exercise can be solved with only unit 1 knowledge\n",
    "# (no loops or conditions)\n",
    "\n",
    "word = \"madam\"\n",
    "\n",
    "# test case 2\n",
    "word = \"madman\" # uncomment this to test\n",
    "\n",
    "###\n",
    "# YOUR CODE HERE. DO NOT DELETE THIS LINE OR ADD A word DEFINITION BELOW IT.\n",
    "###\n",
    "backwards = word[::-1]\n",
    "if word == backwards:\n",
    "    is_palindrome = 0\n",
    "else:\n",
    "    is_palindrome = -1\n",
    "print(is_palindrome)\n",
    "\n",
    "# TESTING\n",
    "#print is_palindrome\n",
    "# >>> 0  # outcome if word == \"madam\"\n",
    "# >>> -1 # outcome if word == \"madman\""
   ]
  },
  {
   "cell_type": "raw",
   "metadata": {},
   "source": [
    "In python 2.x, if all values in a calculation are ints, then the value will be truncated"
   ]
  },
  {
   "cell_type": "code",
   "execution_count": 13,
   "metadata": {},
   "outputs": [
    {
     "name": "stdout",
     "output_type": "stream",
     "text": [
      "http://udacity.com\n",
      "http://udacty.com\n",
      "http://udaty.com\n",
      "http://udact.com\n",
      "\n"
     ]
    }
   ],
   "source": [
    "page =('<div id=\"top_bin\"><div id=\"top_content\" class=\"width960\">'\n",
    "'<div class=\"udacity float-left\"><a href=\"http://udacity.com\">'\n",
    "      '<a href=\"http://udacty.com\">'\n",
    "      '<div class=\"udacity float-left\"><a href=\"http://udaty.com\">'\n",
    "      '<a href=\"http://udact.com\">')\n",
    "\n",
    "start_link = page.find('<a href=')\n",
    "start = page.find('=\"', start_link)\n",
    "end = page.find('\">', start_link) \n",
    "url = (page[start+2:end] + '\\n')\n",
    "webcrawler = ''\n",
    "\n",
    "while url not in webcrawler:\n",
    "    \n",
    "    webcrawler += url\n",
    "    \n",
    "    page = page[end:]\n",
    "    \n",
    "    start_link = page.find('<a href=')\n",
    "    start = page.find('=\"', start_link)\n",
    "    end = page.find('\">', start_link) \n",
    "    url = (page[start+2:end] + '\\n')\n",
    "print(webcrawler)  "
   ]
  },
  {
   "cell_type": "code",
   "execution_count": 31,
   "metadata": {},
   "outputs": [
    {
     "data": {
      "text/plain": [
       "('http://udaty.com', 58)"
      ]
     },
     "execution_count": 31,
     "metadata": {},
     "output_type": "execute_result"
    }
   ],
   "source": [
    "page =('<div id=\"top_bin\"><div id=\"top_content\" class=\"width960\">'\n",
    "'<div class=\"udacity float-left\"><a href=\"http://udacity.com\">'\n",
    "      '<a href=\"http://udacty.com\">'\n",
    "      '<div class=\"udacity float-left\"><a href=\"http://udaty.com\">'\n",
    "      '<a href=\"http://udact.com\">')\n",
    "\n",
    "\n",
    "def get(page):\n",
    "    start_link = page.find('<a href=')\n",
    "    start = page.find('=\"', start_link)\n",
    "    end = page.find('\">', start_link) \n",
    "    url = page[start+2:end]\n",
    "    return (url, end)"
   ]
  },
  {
   "cell_type": "code",
   "execution_count": 19,
   "metadata": {},
   "outputs": [
    {
     "name": "stdout",
     "output_type": "stream",
     "text": [
      "udacity\n"
     ]
    }
   ],
   "source": [
    "#using functions\n",
    "\n",
    "\n",
    "def rest(s):\n",
    "    return s[1:]\n",
    "print(rest('audacity'))         #function was called here"
   ]
  },
  {
   "cell_type": "code",
   "execution_count": 8,
   "metadata": {},
   "outputs": [
    {
     "name": "stdout",
     "output_type": "stream",
     "text": [
      "stringthing\n",
      "string\n",
      "127\n",
      "4\n"
     ]
    }
   ],
   "source": [
    "\n",
    "def sum(a, b):\n",
    "    a += b\n",
    "    return a          #return is a function used inside functions\n",
    "a = 'string'          #can use strings or ints\n",
    "b = 'thing'\n",
    "print(sum(a, b))\n",
    "print(a)\n",
    "\n",
    "a = 4\n",
    "b = 123\n",
    "print(sum(a, b))\n",
    "print(a)"
   ]
  },
  {
   "cell_type": "code",
   "execution_count": null,
   "metadata": {},
   "outputs": [],
   "source": [
    "# Define a procedure, square, that takes one number \n",
    "# as its input, and returns the square of that \n",
    "# number (result of multiplying\n",
    "# the number by itself).\n",
    "# To help you out, the code for sum(a,b) is below.\n",
    "\n",
    "def sum(a,b):\n",
    "    c = a + b\n",
    "    return c\n",
    "# To test your procedure, uncomment the print \n",
    "# statement below, by removing the hash mark (#) \n",
    "# at the beginning of the line.\n",
    "\n",
    "# Do not remove the # from in front of the line \n",
    "# with the arrows (>>>). Lines which begin like \n",
    "# this (#>>>) are included to show the results\n",
    "# you should see when run your procedure.\n",
    "def square(num):\n",
    "    return num**2\n",
    "print square(5)\n",
    "#>>> 25"
   ]
  },
  {
   "cell_type": "code",
   "execution_count": null,
   "metadata": {},
   "outputs": [],
   "source": [
    "# Define a procedure, sum3, that takes three\n",
    "# inputs, and returns the sum of the three\n",
    "# input numbers.\n",
    "# To help you out, the code for sum(a,b) is below.\n",
    "\n",
    "def sum(a,b):\n",
    "    return a + b\n",
    "\n",
    "def sum3(a, b, c):\n",
    "    return a + b + c\n",
    "\n",
    "print sum3(1,2,3)\n",
    "#>>> 6\n",
    "\n",
    "print sum3(93,53,70)\n",
    "#>>> 216"
   ]
  },
  {
   "cell_type": "code",
   "execution_count": null,
   "metadata": {},
   "outputs": [],
   "source": [
    "# Define a procedure, abbaize, that takes\n",
    "# two strings as its inputs, and returns\n",
    "# a string that is the first input,\n",
    "# followed by two repetitions of the second input,\n",
    "# followed by the first input.\n",
    "\n",
    "\n",
    "def abbaize(a, b):\n",
    "    return a + (2* b) + a\n",
    "\n",
    "\n",
    "\n",
    "\n",
    "\n",
    "\n",
    "print abbaize('a','b')\n",
    "#>>> 'abba'\n",
    "\n",
    "print abbaize('dog','cat')\n",
    "#>>> 'dogcatcatdog'"
   ]
  },
  {
   "cell_type": "code",
   "execution_count": 14,
   "metadata": {},
   "outputs": [
    {
     "name": "stdout",
     "output_type": "stream",
     "text": [
      "(5, 25, 47)\n",
      "(0, 13, -1)\n"
     ]
    }
   ],
   "source": [
    "# Define a procedure, find_second, that takes\n",
    "# two strings as its inputs: a search string\n",
    "# and a target string. It should return a\n",
    "# number that is the position of the second\n",
    "# occurrence of the target string in the\n",
    "# search string.\n",
    "\n",
    "def find_second(search,target):\n",
    "    first = search.find(target)\n",
    "    sec = search.find(target, first+1)\n",
    "    third = search.find(target, sec+1)\n",
    "    return first, sec, third\n",
    "\n",
    "\n",
    "\n",
    "\n",
    "\n",
    "\n",
    "danton = \"De l'audace, encore de l'audace, toujours de l'audace\"\n",
    "print(find_second(danton, 'audace'))\n",
    "#>>> 25\n",
    "twister = \"she sells seashells by the seashore\"\n",
    "print(find_second(twister,'she'))            #third occurence DNE\n",
    "#>>> 13\n"
   ]
  },
  {
   "cell_type": "code",
   "execution_count": 3,
   "metadata": {},
   "outputs": [
    {
     "name": "stdout",
     "output_type": "stream",
     "text": [
      "7\n",
      "3\n",
      "3\n"
     ]
    }
   ],
   "source": [
    "# Define a procedure, bigger, that takes in\n",
    "# two numbers as inputs, and returns the\n",
    "# greater of the two inputs.\n",
    "def bigger(a,b):\n",
    "    if a < b:\n",
    "        a = b\n",
    "    return a\n",
    "\n",
    "print(bigger(2,7))\n",
    "#>>> 7\n",
    "\n",
    "print(bigger(3,2))\n",
    "#>>> 3\n",
    "\n",
    "print(bigger(3,3))\n",
    "#>>> 3"
   ]
  },
  {
   "cell_type": "code",
   "execution_count": 5,
   "metadata": {},
   "outputs": [
    {
     "name": "stdout",
     "output_type": "stream",
     "text": [
      "7\n",
      "3\n",
      "3\n"
     ]
    }
   ],
   "source": [
    "# Define a procedure, bigger, that takes in\n",
    "# two numbers as inputs, and returns the\n",
    "# greater of the two inputs.\n",
    "def bigger(a,b):\n",
    "    if a > b:\n",
    "        return a\n",
    "    else:\n",
    "        return b\n",
    "\n",
    "print(bigger(2,7))\n",
    "#>>> 7\n",
    "\n",
    "print(bigger(3,2))\n",
    "#>>> 3\n",
    "\n",
    "print(bigger(3,3))\n",
    "#>>> 3"
   ]
  },
  {
   "cell_type": "code",
   "execution_count": 6,
   "metadata": {},
   "outputs": [
    {
     "name": "stdout",
     "output_type": "stream",
     "text": [
      "7\n",
      "3\n",
      "3\n"
     ]
    }
   ],
   "source": [
    "# Define a procedure, bigger, that takes in\n",
    "# two numbers as inputs, and returns the\n",
    "# greater of the two inputs.\n",
    "def bigger(a,b):\n",
    "    if a > b:\n",
    "        return a\n",
    "    return b                 #notice return b is not executed if return a is executed\n",
    "\n",
    "print(bigger(2,7))\n",
    "#>>> 7\n",
    "\n",
    "print(bigger(3,2))\n",
    "#>>> 3\n",
    "\n",
    "print(bigger(3,3))\n",
    "#>>> 3"
   ]
  },
  {
   "cell_type": "code",
   "execution_count": 8,
   "metadata": {},
   "outputs": [
    {
     "name": "stdout",
     "output_type": "stream",
     "text": [
      "True\n",
      "False\n"
     ]
    }
   ],
   "source": [
    "# Define a procedure, is_friend, that\n",
    "# takes a string as its input, and\n",
    "# returns a Boolean indicating if\n",
    "# the input string is the name of\n",
    "# a friend. Assume I am friends with\n",
    "# everyone whose name starts with D\n",
    "# and no one else. You do not need to\n",
    "# check for the lower case 'd'\n",
    "\n",
    "def is_friend(string):\n",
    "    if 'd' in string[0].lower():\n",
    "        return True\n",
    "    else:\n",
    "        return False\n",
    "\n",
    "print(is_friend('Diane'))\n",
    "#>>> True\n",
    "\n",
    "print(is_friend('Fred'))\n",
    "#>>> False"
   ]
  },
  {
   "cell_type": "code",
   "execution_count": 7,
   "metadata": {
    "scrolled": true
   },
   "outputs": [
    {
     "name": "stdout",
     "output_type": "stream",
     "text": [
      "True\n",
      "False\n"
     ]
    }
   ],
   "source": [
    "def is_friend(string):\n",
    "    return 'D' == string[0]\n",
    "\n",
    "print(is_friend('Diane'))\n",
    "#>>> True\n",
    "\n",
    "print(is_friend('Fred'))\n",
    "#>>> False"
   ]
  },
  {
   "cell_type": "code",
   "execution_count": 17,
   "metadata": {},
   "outputs": [
    {
     "name": "stdout",
     "output_type": "stream",
     "text": [
      "True\n",
      "True\n",
      "False\n"
     ]
    }
   ],
   "source": [
    "def is_friend(string):\n",
    "    if 'D' == string[0] \\\n",
    "    or 'N' == string[0]:\n",
    "        return True\n",
    "    else:\n",
    "        return False\n",
    "\n",
    "\n",
    "print(is_friend('Diane'))\n",
    "#>>> True\n",
    "\n",
    "print(is_friend('Ned'))\n",
    "#>>> True\n",
    "\n",
    "print(is_friend('Moe'))\n",
    "#>>> False"
   ]
  },
  {
   "cell_type": "code",
   "execution_count": null,
   "metadata": {},
   "outputs": [],
   "source": [
    "def is_friend(string):\n",
    "    if 'd' in string[0].lower() \\\n",
    "    or 'n' in string[0].lower():\n",
    "        return True\n",
    "    else:\n",
    "        return False\n",
    "\n",
    "print is_friend('Diane')\n",
    "#>>> True\n",
    "\n",
    "print is_friend('Ned')\n",
    "#>>> True\n",
    "\n",
    "print is_friend('Moe')\n",
    "#>>> False"
   ]
  },
  {
   "cell_type": "raw",
   "metadata": {},
   "source": [
    "Dealing with or\n",
    "\n",
    "if the first expression evals to True, then the sec expression will not be evaluated\n",
    "\n",
    "if the first expression evals to False, then the sec expression will be the value"
   ]
  },
  {
   "cell_type": "code",
   "execution_count": 21,
   "metadata": {
    "collapsed": true
   },
   "outputs": [
    {
     "name": "stdout",
     "output_type": "stream",
     "text": [
      "9\n",
      "9\n",
      "9\n",
      "9\n",
      "9\n"
     ]
    }
   ],
   "source": [
    "# Define a procedure, biggest, that takes three\n",
    "# numbers as inputs and returns the largest of\n",
    "# those three numbers.\n",
    "\n",
    "def biggest(a,b,c):\n",
    "    list1 = [a, b, c] \n",
    "    big = list1[0]\n",
    "    for num in list1:\n",
    "        if big < num:\n",
    "            big = num\n",
    "    return big\n",
    "\n",
    "\n",
    "print(biggest(3, 6, 9))\n",
    "#>>> 9\n",
    "\n",
    "print(biggest(6, 9, 3))\n",
    "#>>> 9\n",
    "\n",
    "print(biggest(9, 3, 6))\n",
    "#>>> 9\n",
    "\n",
    "print(biggest(3, 3, 9))\n",
    "#>>> 9\n",
    "\n",
    "print(biggest(9, 3, 9))\n",
    "#>>> 9"
   ]
  },
  {
   "cell_type": "code",
   "execution_count": 22,
   "metadata": {
    "collapsed": true
   },
   "outputs": [
    {
     "name": "stdout",
     "output_type": "stream",
     "text": [
      "9\n",
      "9\n",
      "9\n",
      "9\n",
      "9\n"
     ]
    }
   ],
   "source": [
    "def bigger(a,b):\n",
    "    if a > b:\n",
    "        return a\n",
    "    else:\n",
    "        return b\n",
    "def biggest(a,b,c):\n",
    "    return bigger(bigger(a,b), c)  #a function within a function, funception\n",
    "\n",
    "\n",
    "print(biggest(3, 6, 9))\n",
    "#>>> 9\n",
    "\n",
    "print(biggest(6, 9, 3))\n",
    "#>>> 9\n",
    "\n",
    "print(biggest(9, 3, 6))\n",
    "#>>> 9\n",
    "\n",
    "print(biggest(3, 3, 9))\n",
    "#>>> 9\n",
    "\n",
    "print(biggest(9, 3, 9))\n",
    "#>>> 9"
   ]
  },
  {
   "cell_type": "code",
   "execution_count": 7,
   "metadata": {
    "collapsed": true
   },
   "outputs": [
    {
     "name": "stdout",
     "output_type": "stream",
     "text": [
      "1\n",
      "2\n",
      "3\n",
      "4\n",
      "5\n",
      "6\n",
      "7\n"
     ]
    }
   ],
   "source": [
    "# Define a procedure, print_numbers, that takes\n",
    "# as input a positive whole number, and prints \n",
    "# out all the whole numbers from 1 to the input\n",
    "# number.\n",
    "\n",
    "# Make sure your procedure prints \"upwards\", so\n",
    "# from 1 up to the input number.\n",
    "\n",
    "def print_numbers(positive_whole_number):\n",
    "    pnw = positive_whole_number\n",
    "    for i in range(1, pnw + 1):\n",
    "        print(i)\n",
    "   \n",
    "\n",
    "\n",
    "\n",
    "print_numbers(7)\n",
    "#>>> 1\n",
    "#>>> 2\n",
    "#>>> 3"
   ]
  },
  {
   "cell_type": "code",
   "execution_count": 6,
   "metadata": {
    "collapsed": true
   },
   "outputs": [
    {
     "name": "stdout",
     "output_type": "stream",
     "text": [
      "1\n",
      "2\n",
      "3\n",
      "4\n",
      "5\n",
      "6\n",
      "7\n"
     ]
    }
   ],
   "source": [
    "# Define a procedure, print_numbers, that takes\n",
    "# as input a positive whole number, and prints \n",
    "# out all the whole numbers from 1 to the input\n",
    "# number.\n",
    "\n",
    "# Make sure your procedure prints \"upwards\", so\n",
    "# from 1 up to the input number.\n",
    "\n",
    "def print_numbers(positive_whole_number):\n",
    "    pnw = positive_whole_number\n",
    "    i = 1\n",
    "    while i <= pnw:\n",
    "        print(i)\n",
    "        i += 1\n",
    "   \n",
    "\n",
    "\n",
    "\n",
    "print_numbers(7)\n",
    "#>>> 1\n",
    "#>>> 2\n",
    "#>>> 3"
   ]
  },
  {
   "cell_type": "code",
   "execution_count": 7,
   "metadata": {},
   "outputs": [
    {
     "name": "stdout",
     "output_type": "stream",
     "text": [
      "1\n",
      "120\n"
     ]
    }
   ],
   "source": [
    "# Define a procedure, factorial, that\n",
    "# takes one number as its input\n",
    "# and returns the factorial of\n",
    "# that number.\n",
    "\n",
    "def factorial(n):\n",
    "    if n == 0:                        #this accounts for a 0! which is 1?\n",
    "        return 1\n",
    "        \n",
    "    iters = n\n",
    "    ans = n\n",
    "    while iters > 1:\n",
    "        factorial = iters - 1\n",
    "        ans *= factorial\n",
    "        iters -= 1\n",
    "    return ans\n",
    "        \n",
    "\n",
    "\n",
    "\n",
    "\n",
    "print(factorial(0))\n",
    "#>>> 24\n",
    "print(factorial(5))\n",
    "#>>> 120\n",
    "#print factorial(6)\n",
    "#>>> 720\n"
   ]
  },
  {
   "cell_type": "code",
   "execution_count": 8,
   "metadata": {},
   "outputs": [
    {
     "name": "stdout",
     "output_type": "stream",
     "text": [
      "1\n"
     ]
    }
   ],
   "source": [
    "def factorial(num):\n",
    "    result = 1\n",
    "    while num >= 1:\n",
    "        result *= num\n",
    "        num -= 1\n",
    "    return result\n",
    "\n",
    "print(factorial(0))"
   ]
  },
  {
   "cell_type": "code",
   "execution_count": 9,
   "metadata": {},
   "outputs": [
    {
     "data": {
      "text/plain": [
       "('http://udacity.com', 116)"
      ]
     },
     "execution_count": 9,
     "metadata": {},
     "output_type": "execute_result"
    }
   ],
   "source": [
    "page =('<div id=\"top_bin\"><div id=\"top_content\" class=\"width960\">'\n",
    "'<div class=\"udacity float-left\"><a href=\"http://udacity.com\">'\n",
    "      '<a href=\"http://udacty.com\">'\n",
    "      '<div class=\"udacity float-left\"><a href=\"http://udaty.com\">'\n",
    "      '<a href=\"http://udact.com\">')\n",
    "\n",
    "\n",
    "def get(page):\n",
    "    start_link = page.find('<a href=')\n",
    "    start = page.find('=\"', start_link)\n",
    "    end = page.find('\">', start_link) \n",
    "    url = page[start+2:end]\n",
    "    return (url, end)\n",
    "\n",
    "url, end = get(page)\n"
   ]
  },
  {
   "cell_type": "code",
   "execution_count": 2,
   "metadata": {},
   "outputs": [
    {
     "name": "stdout",
     "output_type": "stream",
     "text": [
      "t = 9\n",
      "s = 6\n"
     ]
    }
   ],
   "source": [
    "#Using Multiple Assignment \n",
    "\n",
    "#swapping values\n",
    "t = 6 \n",
    "s = 9\n",
    "\n",
    "t, s = s, t\n",
    "\n",
    "print(f't = {t}')\n",
    "print(f's = {s}')"
   ]
  },
  {
   "cell_type": "code",
   "execution_count": 2,
   "metadata": {},
   "outputs": [
    {
     "data": {
      "text/plain": [
       "('http://udacity.com', 116)"
      ]
     },
     "execution_count": 2,
     "metadata": {},
     "output_type": "execute_result"
    }
   ],
   "source": [
    "# Modify the get_next_target procedure so that\n",
    "# if there is a link it behaves as before, but\n",
    "# if there is no link tag in the input string,\n",
    "# it returns None, 0.\n",
    "\n",
    "# Note that None is not a string and so should\n",
    "# not be enclosed in quotes.\n",
    "\n",
    "# Also note that your answer will appear in\n",
    "# parentheses if you print it.\n",
    "page =('<div id=\"top_bin\"><div id=\"top_content\" class=\"width960\">'\n",
    "'<div class=\"udacity float-left\"><a href=\"http://udacity.com\">'\n",
    "      '<a href=\"http://udacty.com\">'\n",
    "      '<div class=\"udacity float-left\"><a href=\"http://udaty.com\">'\n",
    "      '<a href=\"http://udact.com\">')\n",
    "def get_next_target(page):\n",
    "    start_link = page.find('<a href=')\n",
    "    \n",
    "    if start_link == -1:\n",
    "        return None, 0\n",
    "    \n",
    "    start_quote = page.find('\"', start_link)\n",
    "    end_quote = page.find('\"', start_quote + 1)\n",
    "    url = page[start_quote + 1:end_quote]\n",
    "    return url, end_quote\n",
    "\n",
    "\n",
    "get_next_target(page)\n"
   ]
  },
  {
   "cell_type": "code",
   "execution_count": 3,
   "metadata": {},
   "outputs": [
    {
     "name": "stdout",
     "output_type": "stream",
     "text": [
      "http://udacity.com\n",
      "http://udacty.com\n",
      "http://udaty.com\n",
      "http://udact.com\n"
     ]
    }
   ],
   "source": [
    "#needs to run with above code to properly function\n",
    "def print_all_links(page):\n",
    "    while True:\n",
    "        url, endpos = get_next_target(page)\n",
    "        if url:\n",
    "            print(url)\n",
    "            page = page[endpos:]\n",
    "        else:\n",
    "            break\n",
    "print_all_links(page)"
   ]
  },
  {
   "cell_type": "code",
   "execution_count": 4,
   "metadata": {},
   "outputs": [
    {
     "name": "stdout",
     "output_type": "stream",
     "text": [
      "http://udacity.com\n",
      "http://udacty.com\n",
      "http://udaty.com\n",
      "http://udact.com\n",
      "\n"
     ]
    }
   ],
   "source": [
    "page =('<div id=\"top_bin\"><div id=\"top_content\" class=\"width960\">'\n",
    "'<div class=\"udacity float-left\"><a href=\"http://udacity.com\">'\n",
    "      '<a href=\"http://udacty.com\">'\n",
    "      '<div class=\"udacity float-left\"><a href=\"http://udaty.com\">'\n",
    "      '<a href=\"http://udact.com\">')\n",
    "\n",
    "start_link = page.find('<a href=')\n",
    "start = page.find('=\"', start_link)\n",
    "end = page.find('\">', start_link) \n",
    "url = (page[start+2:end] + '\\n')\n",
    "webcrawler = ''\n",
    "\n",
    "while url not in webcrawler:\n",
    "    \n",
    "    webcrawler += url\n",
    "    \n",
    "    page = page[end:]\n",
    "    \n",
    "    start_link = page.find('<a href=')\n",
    "    start = page.find('=\"', start_link)\n",
    "    end = page.find('\">', start_link) \n",
    "    url = (page[start+2:end] + '\\n')\n",
    "print(webcrawler)  "
   ]
  },
  {
   "cell_type": "code",
   "execution_count": 2,
   "metadata": {},
   "outputs": [
    {
     "name": "stdout",
     "output_type": "stream",
     "text": [
      "Udacians\n"
     ]
    }
   ],
   "source": [
    "# Define a procedure, udacify, that takes as\n",
    "# input a string, and returns a string that\n",
    "# is an uppercase 'U' followed by the input string.\n",
    "# for example, when you enter\n",
    "\n",
    "# print udacify('dacians')\n",
    "\n",
    "# the output should be the string 'Udacians'\n",
    "\n",
    "def udacify(string):\n",
    "    return 'U' + string\n",
    "    \n",
    "# Remove the hash, #, from infront of print to test your code.\n",
    "\n",
    "print(udacify('dacians'))\n",
    "#>>> Udacians\n",
    "\n",
    "#print udacify('turn')\n",
    "#>>> Uturn\n",
    "\n",
    "#print udacify('boat')\n",
    "#>>> Uboat"
   ]
  },
  {
   "cell_type": "raw",
   "metadata": {},
   "source": [
    "# Define a procedure, udacify, that takes as\n",
    "# input a string, and returns a string that\n",
    "# is an uppercase 'U' followed by the input string.\n",
    "# for example, when you enter\n",
    "\n",
    "# print udacify('dacians')\n",
    "\n",
    "# the output should be the string 'Udacians'\n",
    "\n",
    "#def udacify(string):\n",
    "#    string.insert(0, 'U')                #strings are immutable and cannot be changed?\n",
    "#    return string\n",
    "\n",
    "\n",
    "\n",
    "# Remove the hash, #, from infront of print to test your code.\n",
    "\n",
    "#print(udacify('dacians'))\n",
    "#>>> Udacians\n",
    "\n",
    "#print udacify('turn')\n",
    "#>>> Uturn\n",
    "\n",
    "#print udacify('boat')\n",
    "#>>> Uboat"
   ]
  },
  {
   "cell_type": "raw",
   "metadata": {},
   "source": [
    "str.find returns -1 when it does not find the substring.           #difference between find and index built in functions\n",
    "\n",
    ">>> line = 'hi, this is ABC oh my god!!'\n",
    ">>> line.find('?')\n",
    "-1\n",
    "While str.index raises ValueError:\n",
    "\n",
    ">>> line.index('?')\n",
    "Traceback (most recent call last):\n",
    "  File \"<stdin>\", line 1, in <module>\n",
    "ValueError: substring not found\n",
    "Both the functions behave the same way if a sub-string is found."
   ]
  },
  {
   "cell_type": "code",
   "execution_count": 6,
   "metadata": {},
   "outputs": [
    {
     "name": "stdout",
     "output_type": "stream",
     "text": [
      "2\n",
      "6\n",
      "7\n"
     ]
    }
   ],
   "source": [
    "# Define a procedure, median, that takes three\n",
    "# numbers as its inputs, and returns the median\n",
    "# of the three numbers.\n",
    "\n",
    "# Make sure your procedure has a return statement.                 #NOT MY CODE\n",
    "\n",
    "def bigger(a,b):\n",
    "    if a > b:\n",
    "        return a\n",
    "    else:\n",
    "        return b\n",
    "\n",
    "def biggest(a,b,c):\n",
    "    return bigger(a,bigger(b,c))\n",
    "\n",
    "def median(a,b,c):\n",
    "    big = biggest(a,b,c)\n",
    "    if big == a:\n",
    "        return bigger(b,c)\n",
    "    if big == b:\n",
    "        return bigger(a,c)\n",
    "    else:\n",
    "        return bigger(a,b)\n",
    "\n",
    "print(median(1,2,3))\n",
    "#>>> 2\n",
    "\n",
    "print(median(9,3,6))\n",
    "#>>> 6\n",
    "\n",
    "print(median(7,8,7))\n",
    "#>>> 7"
   ]
  },
  {
   "cell_type": "code",
   "execution_count": 5,
   "metadata": {},
   "outputs": [
    {
     "name": "stdout",
     "output_type": "stream",
     "text": [
      "2\n",
      "6\n",
      "7\n"
     ]
    }
   ],
   "source": [
    "# Define a procedure, median, that takes three\n",
    "# numbers as its inputs, and returns the median\n",
    "# of the three numbers.\n",
    "\n",
    "# Make sure your procedure has a return statement.\n",
    "\n",
    "def bigger(a,b):\n",
    "    if a > b:\n",
    "        return a\n",
    "    else:\n",
    "        return b\n",
    "\n",
    "def biggest(a,b,c):\n",
    "    return bigger(a,bigger(b,c))\n",
    "\n",
    "def median(a,b,c):                          #an absolutely horrible way to solve\n",
    "    if biggest(a,b,c) > bigger(a,b):\n",
    "        return bigger(a,b)\n",
    "    if biggest(a,b,c) > bigger(a,c):\n",
    "        return bigger(a,c)\n",
    "    else:\n",
    "        return bigger(b,c)\n",
    "\n",
    "print(median(1,2,3))\n",
    "#>>> 2\n",
    "\n",
    "print(median(9,3,6))\n",
    "#>>> 6\n",
    "\n",
    "print(median(7,8,7))\n",
    "#>>> 7"
   ]
  },
  {
   "cell_type": "code",
   "execution_count": 10,
   "metadata": {},
   "outputs": [
    {
     "name": "stdout",
     "output_type": "stream",
     "text": [
      "3!\n",
      "2!\n",
      "1!\n",
      "Blastoff!\n"
     ]
    }
   ],
   "source": [
    "# Define a procedure, countdown, that takes a\n",
    "# positive whole number as its input, and prints\n",
    "# out a countdown from that number to 1,\n",
    "# followed by Blastoff!\n",
    "# The procedure should not return anything.\n",
    "# For this question, you just need to call \n",
    "# the procedure using the line\n",
    "# countdown(3)\n",
    "# instead of print countdown(3).\n",
    "def countdown(a_number):\n",
    "    if a_number < 0:\n",
    "        a_number = -a_number\n",
    "    while a_number > 0:\n",
    "        print(str(a_number)+'!')\n",
    "        a_number -= 1\n",
    "    print('Blastoff!')\n",
    "\n",
    "countdown(-3)\n",
    "#>>> 3\n",
    "#>>> 2\n",
    "#>>> 1\n",
    "#>>> Blastoff!"
   ]
  },
  {
   "cell_type": "code",
   "execution_count": 2,
   "metadata": {},
   "outputs": [
    {
     "name": "stdout",
     "output_type": "stream",
     "text": [
      "3\n",
      "3\n",
      "-1\n",
      "8\n",
      "9\n",
      "-1\n",
      "0\n"
     ]
    }
   ],
   "source": [
    "# Define a procedure, find_last, that takes as input\n",
    "# two strings, a search string and a target string,\n",
    "# and returns the last position in the search string\n",
    "# where the target string appears, or -1 if there\n",
    "# are no occurrences.\n",
    "#\n",
    "# Example: find_last('aaaa', 'a') returns 3\n",
    "\n",
    "# Make sure your procedure has a return statement.\n",
    "#WANT TO DOCUMENT MY FIRST ATTEMPT VS FINAL\n",
    "\n",
    "#def find_last(search,target):\n",
    "#    reverse = search[::-1]\n",
    "#    revtarget = target[::-1]\n",
    "#    if reverse.find(revtarget) != -1:\n",
    "#        return (len(search)-1) - reverse.find(revtarget)\n",
    "#    else:\n",
    "#        return reverse.find(revtarget)\n",
    "\n",
    "def find_last(search,target):\n",
    "    position = search.find(target)\n",
    "    ans = search.find(target)\n",
    "    while position != -1:\n",
    "        position = search.find(target, position+1)\n",
    "        if position > ans:\n",
    "            ans = position\n",
    "    return ans\n",
    "\n",
    "print(find_last('aaaa', 'a'))\n",
    "#>>> 3\n",
    "\n",
    "print(find_last('aaaaa', 'aa'))\n",
    "#>>> 3\n",
    "\n",
    "print(find_last('aaaa', 'b'))\n",
    "#>>> -1\n",
    "\n",
    "print(find_last(\"111111111\", \"1\"))\n",
    "#>>> 8\n",
    "\n",
    "print(find_last(\"222222222\", \"\"))\n",
    "#>>> 9\n",
    "\n",
    "print(find_last(\"\", \"3\"))\n",
    "#>>> -1\n",
    "\n",
    "print(find_last(\"\", \"\"))\n",
    "#>>> 0"
   ]
  },
  {
   "cell_type": "code",
   "execution_count": 1,
   "metadata": {},
   "outputs": [
    {
     "name": "stdout",
     "output_type": "stream",
     "text": [
      "3\n",
      "3\n",
      "-1\n",
      "8\n",
      "9\n",
      "-1\n",
      "0\n"
     ]
    }
   ],
   "source": [
    "#their example\n",
    "# Define a procedure, find_last, that takes as input\n",
    "# two strings, a search string and a target string,\n",
    "# and returns the last position in the search string\n",
    "# where the target string appears, or -1 if there\n",
    "# are no occurrences.\n",
    "#\n",
    "# Example: find_last('aaaa', 'a') returns 3\n",
    "\n",
    "# Make sure your procedure has a return statement.\n",
    "def find_last(search,target):\n",
    "    last_pos = -1\n",
    "    while True:\n",
    "        pos = search.find(target, last_pos+1)\n",
    "        if pos == -1:\n",
    "            return last_pos\n",
    "        last_pos = pos\n",
    "print(find_last('aaaa', 'a'))\n",
    "#>>> 3\n",
    "\n",
    "print(find_last('aaaaa', 'aa'))\n",
    "#>>> 3\n",
    "\n",
    "print(find_last('aaaa', 'b'))\n",
    "#>>> -1\n",
    "\n",
    "print(find_last(\"111111111\", \"1\"))\n",
    "#>>> 8\n",
    "\n",
    "print(find_last(\"222222222\", \"\"))\n",
    "#>>> 9\n",
    "\n",
    "print(find_last(\"\", \"3\"))\n",
    "#>>> -1\n",
    "\n",
    "print(find_last(\"\", \"\"))\n",
    "#>>> 0"
   ]
  },
  {
   "cell_type": "code",
   "execution_count": 1,
   "metadata": {},
   "outputs": [
    {
     "name": "stdout",
     "output_type": "stream",
     "text": [
      "3\n",
      "4\n",
      "-1\n",
      "8\n",
      "8\n",
      "-1\n",
      "-1\n"
     ]
    }
   ],
   "source": [
    "# Define a procedure, find_last, that takes as input\n",
    "# two strings, a search string and a target string,\n",
    "# and returns the last position in the search string\n",
    "# where the target string appears, or -1 if there\n",
    "# are no occurrences.\n",
    "#\n",
    "# Example: find_last('aaaa', 'a') returns 3\n",
    "\n",
    "# Make sure your procedure has a return statement.\n",
    "                                                                     #this function kind of works lol\n",
    "def find_last(search,target):\n",
    "    reverse = search[::-1]\n",
    "    revtarget = target[::-1]\n",
    "    if reverse.find(revtarget) != -1:\n",
    "        return (len(search)-1) - reverse.find(revtarget)\n",
    "    else:\n",
    "        return reverse.find(revtarget)\n",
    "    \n",
    "print(find_last('aaaa', 'a'))\n",
    "#>>> 3\n",
    "\n",
    "print(find_last('aaaaa', 'aa'))\n",
    "#>>> 3\n",
    "\n",
    "print(find_last('aaaa', 'b'))\n",
    "#>>> -1\n",
    "\n",
    "print(find_last(\"111111111\", \"1\"))\n",
    "#>>> 8\n",
    "\n",
    "print(find_last(\"222222222\", \"\"))\n",
    "#>>> 9\n",
    "\n",
    "print(find_last(\"\", \"3\"))\n",
    "#>>> -1\n",
    "\n",
    "print(find_last(\"\", \"\"))\n",
    "#>>> 0\n"
   ]
  },
  {
   "cell_type": "raw",
   "metadata": {},
   "source": [
    "page =('<div id=\"top_bin\"><div id=\"top_content\" class=\"width960\">'\n",
    "'<div class=\"udacity float-left\"><a href=\"http://udacity.com\">'\n",
    "      '<a href=\"http://udacty.com\">'\n",
    "      '<div class=\"udacity float-left\"><a href=\"http://udaty.com\">'\n",
    "      '<a href=\"http://udact.com\">')\n",
    "def get_next_target(page):\n",
    "    start_link = page.find('<a href=')\n",
    "    \n",
    "    if start_link == -1:\n",
    "        return None, 0\n",
    "    \n",
    "    start_quote = page.find('\"', start_link)\n",
    "    end_quote = page.find('\"', start_quote + 1)\n",
    "    url = page[start_quote + 1:end_quote]\n",
    "    return url, end_quote\n",
    "\n",
    "\n",
    "get_next_target(page)\n",
    "\n",
    "#needs to run with above code to properly function\n",
    "def print_all_links(page):\n",
    "    while True:\n",
    "        url, endpos = get_next_target(page)\n",
    "        if url:\n",
    "            print(url)\n",
    "            page = page[endpos:]\n",
    "        else:\n",
    "            break\n",
    "print_all_links(page)"
   ]
  },
  {
   "cell_type": "code",
   "execution_count": 5,
   "metadata": {},
   "outputs": [
    {
     "name": "stdout",
     "output_type": "stream",
     "text": [
      "False\n",
      "True\n",
      "False\n"
     ]
    }
   ],
   "source": [
    "# Define a procedure weekend which takes a string as its input, and\n",
    "# returns the boolean True if it's 'Saturday' or 'Sunday' and False otherwise.\n",
    "\n",
    "def weekend(day):\n",
    "    if day == 'Saturday' or day == 'Sunday':\n",
    "        return True\n",
    "    else:\n",
    "        return False\n",
    "    # your code here\n",
    "    \n",
    "print(weekend('Monday'))\n",
    "#>>> False\n",
    "\n",
    "print(weekend('Saturday'))\n",
    "#>>> True\n",
    "\n",
    "print(weekend('July'))\n",
    "#>>> False"
   ]
  },
  {
   "cell_type": "code",
   "execution_count": 4,
   "metadata": {},
   "outputs": [
    {
     "name": "stdout",
     "output_type": "stream",
     "text": [
      "No floats\n",
      "(1, 0, 0)\n",
      "(5, 2, 0)\n",
      "(0, 0, 0)\n"
     ]
    }
   ],
   "source": [
    "# Define a procedure, stamps, which takes as its input a positive integer in\n",
    "# pence and returns the number of 5p, 2p and 1p stamps (p is pence) required \n",
    "# to make up that value. The return value should be a tuple of three numbers \n",
    "# (that is, your return statement should be followed by the number of 5p,\n",
    "# the number of 2p, and the nuber of 1p stamps).\n",
    "#\n",
    "# Your answer should use as few total stamps as possible by first using as \n",
    "# many 5p stamps as possible, then 2 pence stamps and finally 1p stamps as \n",
    "# needed to make up the total.\n",
    "#\n",
    "# (No fair for USians to just say use a \"Forever\" stamp and be done with it!)\n",
    "#\n",
    "\n",
    "def stamps(num):\n",
    "    # Your code here\n",
    "    fives = 0\n",
    "    twos = 0\n",
    "    ones = 0\n",
    "    if '.' not in str(num):\n",
    "        while num > 0:\n",
    "            if num >= 5:\n",
    "                num -= 5\n",
    "                fives += 1\n",
    "            elif num >= 2:\n",
    "                num -= 2\n",
    "                twos += 1\n",
    "            elif num >= 1:\n",
    "                num -= 1\n",
    "                ones += 1\n",
    "                \n",
    "        return fives, twos, ones\n",
    "    else:\n",
    "        return 'No floats'\n",
    "        \n",
    "\n",
    "\n",
    "print(stamps(8.5))\n",
    "#>>> (1, 1, 1)  # one 5p stamp, one 2p stamp and one 1p stamp\n",
    "print(stamps(5))\n",
    "#>>> (1, 0, 0)  # one 5p stamp, no 2p stamps and no 1p stamps\n",
    "print(stamps(29))\n",
    "#>>> (5, 2, 0)  # five 5p stamps, two 2p stamps and no 1p stamps\n",
    "print(stamps(0))\n",
    "#>>> (0, 0, 0) # no 5p stamps, no 2p stamps and no 1p stamps"
   ]
  },
  {
   "cell_type": "code",
   "execution_count": 18,
   "metadata": {},
   "outputs": [
    {
     "name": "stdout",
     "output_type": "stream",
     "text": [
      "6\n",
      "17.599999999999998\n"
     ]
    }
   ],
   "source": [
    "# The range of a set of values is the maximum value minus the minimum\n",
    "# value. Define a procedure, set_range, which returns the range of three input\n",
    "# values.\n",
    "\n",
    "# Hint: the procedure, biggest which you coded in this unit\n",
    "# might help you with this question. You might also like to find a way to\n",
    "# code it using some built-in functions.\n",
    "def bigger(a,b):\n",
    "    if a > b:\n",
    "        return a\n",
    "    else:\n",
    "        return b\n",
    "def biggest(a,b,c):\n",
    "    return bigger(a,bigger(b,c))\n",
    "def smallest(a,b,c):\n",
    "    if a < biggest(a,b,c) and a < bigger(a,b):\n",
    "        return a\n",
    "    elif b < biggest(a,b,c) and b < bigger(a,b):\n",
    "        return b\n",
    "    else:\n",
    "        return c    \n",
    "\n",
    "def set_range(a,b,c):\n",
    "    # Your code here\n",
    "    return biggest(a,b,c) - smallest(a,b,c)\n",
    "    \n",
    "\n",
    "print(set_range(10, 4, 7))\n",
    "#>>> 6  # since 10 - 4 = 6\n",
    "\n",
    "print(set_range(1.1, 7.4, 18.7))\n",
    "#>>> 17.6 # since 18.7 - 1.1 = 17.6"
   ]
  },
  {
   "cell_type": "code",
   "execution_count": 14,
   "metadata": {},
   "outputs": [
    {
     "name": "stdout",
     "output_type": "stream",
     "text": [
      "Give me something that's not useless next time.\n",
      "Udacity\n",
      "Udacity\n",
      "t-shirt\n"
     ]
    }
   ],
   "source": [
    "# Write a Python procedure fix_machine to take 2 string inputs\n",
    "# and returns the 2nd input string as the output if all of its\n",
    "# characters can be found in the 1st input string and \"Give me\n",
    "# something that's not useless next time.\" if it's impossible.\n",
    "# Letters that are present in the 1st input string may be used\n",
    "# as many times as necessary to create the 2nd string (you\n",
    "# don't need to keep track of repeat usage).\n",
    "\n",
    "# NOTE: # If you are experiencing difficulties taking\n",
    "        # this problem seriously, please refer back to\n",
    "        # \"Superhero flyby\", the prequel, in Problem Set 11.\n",
    "\n",
    "# TOOLS: # if statement\n",
    "         # while loop\n",
    "         # string operations\n",
    "         # Unit 1 Basics\n",
    "\n",
    "# BONUS: # \n",
    "# 5***** #  If you've graduated from CS101,\n",
    "#  Gold  #  try solving this in one line.\n",
    "# Stars! #\n",
    "\n",
    "def fix_machine(debris, product):\n",
    "    fill = ''\n",
    "    for char in product:\n",
    "        if char in debris:\n",
    "            fill += char\n",
    "    if fill != product:\n",
    "        return \"Give me something that's not useless next time.\"\n",
    "    else:\n",
    "        return product\n",
    "    ### WRITE YOUR CODE HERE ###\n",
    "\n",
    "print(fix_machine('UdaciousUdacitee', 'Udacity'))                  #\"Give me something that's not useless next time.\"\n",
    "print(fix_machine('buy me dat Unicorn', 'Udacity'))                #'Udacity'\n",
    "print(fix_machine('AEIOU and sometimes y... c', 'Udacity'))        #'Udacity'\n",
    "print(fix_machine('wsx0-=mttrhix', 't-shirt'))                     #'t-shirt'\n"
   ]
  },
  {
   "cell_type": "code",
   "execution_count": 24,
   "metadata": {},
   "outputs": [
    {
     "name": "stdout",
     "output_type": "stream",
     "text": [
      "374\n",
      "9244\n",
      "9244\n",
      "8969\n",
      "9030\n"
     ]
    }
   ],
   "source": [
    "# By Websten from forums\n",
    "#\n",
    "# Given your birthday and the current date, calculate your age in days. \n",
    "# Account for leap days. \n",
    "#\n",
    "# Assume that the birthday and current date are correct dates (and no \n",
    "# time travel). \n",
    "#\n",
    "\n",
    "def daysBetweenDates(year1, month1, day1, year2, month2, day2):\n",
    "    if year1 < year2:           #this makes sure year1 is the newer year\n",
    "        year1, year2 = year2, year1\n",
    "        month1, month2 = month2, month1\n",
    "        day1, day2 = day2, day1\n",
    "\n",
    "\n",
    "    leaps1 = 0                #counts the leap years in the range of a given year not counting the year itself\n",
    "\n",
    "    for x in range(1,year1):\n",
    "        if x % 4 == 0 and not x % 100 == 0 or x % 400 == 0:\n",
    "            leaps1 += 1\n",
    "                \n",
    "    nonleaps1 = year1 - leaps1\n",
    "    totaldays1 = (nonleaps1*365) + (leaps1*366)\n",
    "\n",
    "\n",
    "    leaps2 = 0\n",
    "\n",
    "    for y in range(1,year2):\n",
    "        if y % 4 == 0 and not y % 100 == 0 or y % 400 == 0:\n",
    "            leaps2 += 1\n",
    "\n",
    "    nonleaps2 = year2 - leaps2\n",
    "    totaldays2 = (nonleaps2*365) + (leaps2*366)\n",
    "\n",
    "\n",
    "    jan, mar, may, jul, aug, octe, dec = 31, 31, 31, 31, 31, 31, 31\n",
    "    apr, jun, sep, nov = 30, 30, 30, 30\n",
    "    feb = 28\n",
    "\n",
    "    january = 0\n",
    "    february = jan\n",
    "    march = february + feb\n",
    "    april = march + mar\n",
    "    maiy = april + apr\n",
    "    june = maiy + may\n",
    "    july = june + jun\n",
    "    august = july + jul\n",
    "    september = august + aug\n",
    "    october = september + sep\n",
    "    november = october + octe\n",
    "    december = november + nov\n",
    "\n",
    "    if month1 == 1:\n",
    "        month1 = january\n",
    "    elif month1 == 2:\n",
    "        month1 = february\n",
    "    elif month1 == 3:\n",
    "        month1 = march\n",
    "    elif month1 == 4:\n",
    "        month1 = april\n",
    "    elif month1 == 5:\n",
    "        month1 = maiy\n",
    "    elif month1 == 6:\n",
    "        month1 = june\n",
    "    elif month1 == 7:\n",
    "        month1 = july\n",
    "    elif month1 == 8:\n",
    "        month1 = august\n",
    "    elif month1 == 9:\n",
    "        month1 = september\n",
    "    elif month1 == 10:\n",
    "        month1 = october\n",
    "    elif month1 == 11:\n",
    "        month1 = november\n",
    "    else:\n",
    "        month1 = december\n",
    "\n",
    "    \n",
    "    if month2 == 1:\n",
    "        month2 = january\n",
    "    elif month2 == 2:\n",
    "        month2 = february\n",
    "    elif month2 == 3:\n",
    "        month2 = march\n",
    "    elif month2 == 4:\n",
    "        month2 = april\n",
    "    elif month2 == 5:\n",
    "        month2 = maiy\n",
    "    elif month2 == 6:\n",
    "        month2 = june\n",
    "    elif month2 == 7:\n",
    "        month2 = july\n",
    "    elif month2 == 8:\n",
    "        month2 = august\n",
    "    elif month2 == 9:\n",
    "        month2 = september\n",
    "    elif month2 == 10:\n",
    "        month2 = october\n",
    "    elif month2 == 11:\n",
    "        month2 = november\n",
    "    else:\n",
    "        month2 = december\n",
    "\n",
    "    monthndays1 = month1 + day1\n",
    "    monthndays2 = month2 + day2\n",
    "    if year1 % 4 == 0 and not year1 % 100 == 0 or year1 % 400 == 0:\n",
    "        if monthndays1 > 59 and day1 != 29:\n",
    "            monthndays1 += 1\n",
    "    if year2 % 4 == 0 and not year2 % 100 == 0 or year2 % 400 == 0:\n",
    "        if monthndays2 > 59 and day2 != 29:\n",
    "            monthndays2 += 1\n",
    "\n",
    "\n",
    "    total1 = monthndays1 + totaldays1\n",
    "    total2 = monthndays2 + totaldays2\n",
    "\n",
    "    final = total1 - total2\n",
    "    if final < 0:\n",
    "        final = - final\n",
    "    return final\n",
    "print(daysBetweenDates(2016, 2, 29, 2017, 3,9))\n",
    "print(daysBetweenDates(1994, 8, 24, 2019, 12, 15))\n",
    "print(daysBetweenDates(2019, 12, 15, 1994, 8, 24))\n",
    "print(daysBetweenDates(2019, 5, 15, 1994, 10, 24)) \n",
    "print(daysBetweenDates(1994, 11, 24, 2019, 8, 15))"
   ]
  },
  {
   "cell_type": "code",
   "execution_count": 25,
   "metadata": {},
   "outputs": [
    {
     "name": "stdout",
     "output_type": "stream",
     "text": [
      "Test case passed!\n",
      "Test case passed!\n",
      "Test case passed!\n",
      "Test case passed!\n",
      "Test case passed!\n"
     ]
    }
   ],
   "source": [
    "def test():\n",
    "    test_cases = [((2012,1,1,2012,2,28), 58), \n",
    "                  ((2012,1,1,2012,3,1), 60),\n",
    "                  ((2011,6,30,2012,6,30), 366),\n",
    "                  ((2011,1,1,2012,8,8), 585 ),\n",
    "                  ((1900,1,1,1999,12,31), 36523)]\n",
    "    for (args, answer) in test_cases:\n",
    "        result = daysBetweenDates(*args)\n",
    "        if result != answer:\n",
    "            print(\"Test with data:\", args, \"failed\")\n",
    "        else:\n",
    "            print(\"Test case passed!\")\n",
    "\n",
    "test()\n"
   ]
  },
  {
   "cell_type": "code",
   "execution_count": 26,
   "metadata": {},
   "outputs": [
    {
     "name": "stdout",
     "output_type": "stream",
     "text": [
      "Test case passed!\n",
      "Test case passed!\n",
      "Test case passed!\n",
      "Test case passed!\n",
      "Test case passed!\n",
      "Test case passed!\n",
      "Test case passed!\n",
      "Test case passed!\n",
      "Test case passed!\n",
      "Test case passed!\n",
      "Test case passed!\n",
      "Test case passed!\n"
     ]
    }
   ],
   "source": [
    "def test():\n",
    "    test_cases = [((2012,1,1,2012,2,28), 58), \n",
    "                  ((2012,1,1,2012,3,1), 60),\n",
    "                  ((2011,6,30,2012,6,30), 366),\n",
    "                  ((2011,1,1,2012,8,8), 585 ),\n",
    "                  ((1994,5,15,2019,8,31), 9239),\n",
    "                  ((1999,3,24,2018,2,4), 6892),\n",
    "                  ((1999,6,24,2018,8,4),6981),\n",
    "                  ((1995,5,24,2018,12,15),8606),\n",
    "                  ((1994,8,24,2019,12,15),9244),\n",
    "                  ((2019,12,15,1994,8,24),9244),\n",
    "                  ((2019,5,15,1994,10,24),8969),\n",
    "                  ((1994,11,24,2019,8,15),9030)]\n",
    "\n",
    "    for (args, answer) in test_cases:\n",
    "        result = daysBetweenDates(*args)\n",
    "        if result != answer:\n",
    "            print(\"Test with data:\", args, \"failed\")\n",
    "        else:\n",
    "            print(\"Test case passed!\")\n",
    "\n",
    "test()"
   ]
  },
  {
   "cell_type": "code",
   "execution_count": 29,
   "metadata": {},
   "outputs": [
    {
     "name": "stdout",
     "output_type": "stream",
     "text": [
      "Stay calm and wait!\n",
      "Introduce yourself!\n",
      "Try to ride a zebra!\n"
     ]
    }
   ],
   "source": [
    "# By AnnaGajdova from forums\n",
    "# You are in the middle of a jungle. \n",
    "# Suddenly you see an animal coming to you. \n",
    "# Here is what you should do if the animal is:\n",
    "\n",
    "# zebra >> \"Try to ride a zebra!\"\n",
    "# cheetah >> If you are faster than a cheetah: \"Run!\" \n",
    "#            If you are not: \"Stay calm and wait!\". \n",
    "#            The speed of a cheetah is 115 km/h.\n",
    "# anything else >> \"Introduce yourself!\"\n",
    "\n",
    "# Define a procedure, jungle_animal, \n",
    "# that takes as input a string and a number, \n",
    "# an animal and your speed (in km/h), \n",
    "# and prints out what to do.\n",
    "\n",
    "def jungle_animal(animal, my_speed):\n",
    "    # YOUR CODE HERE\n",
    "    if animal == 'zebra':\n",
    "        print('Try to ride a zebra!')\n",
    "    elif animal == 'cheetah':\n",
    "        if my_speed > 115:\n",
    "            print('Run!')\n",
    "        else:\n",
    "            print('Stay calm and wait!')\n",
    "    else:\n",
    "        print('Introduce yourself!')\n",
    "\n",
    "jungle_animal('cheetah', 30)\n",
    "#>>> \"Stay calm and wait!\"\n",
    "\n",
    "jungle_animal('gorilla', 21)\n",
    "\n",
    "jungle_animal('zebra', 21)\n",
    "#>>> \"Introduce yourself!\""
   ]
  },
  {
   "cell_type": "code",
   "execution_count": 30,
   "metadata": {},
   "outputs": [
    {
     "name": "stdout",
     "output_type": "stream",
     "text": [
      "Calvin is one of an extremely rare species. He is a leap year baby!\n",
      "There's nothing special about Garfield's birthday. He is not a leap year baby!\n",
      "Hobbes is one of an extremely rare species. He is a leap year baby!\n",
      "There's nothing special about Charlie Brown's birthday. He is not a leap year baby!\n",
      "There's nothing special about Odie's birthday. He is not a leap year baby!\n"
     ]
    }
   ],
   "source": [
    "# By Ashwath from forums\n",
    "\n",
    "# A leap year baby is a baby born on Feb 29, which occurs only on a leap year.\n",
    "\n",
    "# Define a procedure is_leap_baby that takes 3 inputs: day, month and year\n",
    "# and returns True if the date is a leap day (Feb 29 in a valid leap year)\n",
    "# and False otherwise.\n",
    "\n",
    "# A year that is a multiple of 4 is a leap year unless the year is\n",
    "# divisible by 100 but not a multiple of 400 (so, 1900 is not a leap\n",
    "# year but 2000 and 2004 are).\n",
    "\n",
    "def is_leap_baby(day,month,year):\n",
    "    if year % 4 == 0 and year % 100 != 0 or year % 400 == 0:\n",
    "        if month == 2 and day == 29:\n",
    "            return True\n",
    "        else:\n",
    "            return False\n",
    "    else:\n",
    "        return False\n",
    "    # Write your code after this line.\n",
    "\n",
    "\n",
    "# The function 'output' prints one of two statements based on whether \n",
    "# the is_leap_baby function returned True or False.\n",
    "\n",
    "def output(status,name):\n",
    "    if status:\n",
    "        print(\"%s is one of an extremely rare species. He is a leap year baby!\" % name)\n",
    "    else:\n",
    "        print(\"There's nothing special about %s's birthday. He is not a leap year baby!\" % name)\n",
    "\n",
    "# Test Cases\n",
    "\n",
    "output(is_leap_baby(29, 2, 1996), 'Calvin')\n",
    "#>>>Calvin is one of an extremely rare species. He is a leap year baby!\n",
    "\n",
    "output(is_leap_baby(19, 6, 1978), 'Garfield')\n",
    "#>>>There's nothing special about Garfield's birthday. He is not a leap year baby!\n",
    "\n",
    "output(is_leap_baby(29, 2, 2000), 'Hobbes')\n",
    "#>>>Hobbes is one of an extremely rare species. He is a leap year baby!\n",
    "\n",
    "output(is_leap_baby(29, 2, 1900), 'Charlie Brown')\n",
    "#>>>There's nothing special about Charlie Brown's birthday. He is not a leap year baby!\n",
    "\n",
    "output(is_leap_baby(28, 2, 1976), 'Odie')\n",
    "#>>>There's nothing special about Odie's birthday. He is not a leap year baby!\n"
   ]
  },
  {
   "cell_type": "code",
   "execution_count": null,
   "metadata": {},
   "outputs": [],
   "source": []
  }
 ],
 "metadata": {
  "kernelspec": {
   "display_name": "Python 3",
   "language": "python",
   "name": "python3"
  },
  "language_info": {
   "codemirror_mode": {
    "name": "ipython",
    "version": 3
   },
   "file_extension": ".py",
   "mimetype": "text/x-python",
   "name": "python",
   "nbconvert_exporter": "python",
   "pygments_lexer": "ipython3",
   "version": "3.8.8"
  }
 },
 "nbformat": 4,
 "nbformat_minor": 2
}
