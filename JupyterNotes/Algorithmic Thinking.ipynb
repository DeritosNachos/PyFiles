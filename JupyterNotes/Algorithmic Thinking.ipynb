{
 "cells": [
  {
   "cell_type": "code",
   "execution_count": 4,
   "metadata": {},
   "outputs": [
    {
     "name": "stdout",
     "output_type": "stream",
     "text": [
      "days left till the end of the year: 5\n"
     ]
    }
   ],
   "source": [
    "#prompts two numbers, then calculates the number of days until the end of the year\n",
    "\n",
    "month1 = int(input('Enter the month of th year: '))\n",
    "day1 = int(input('Enter the day: '))\n",
    "days_left = 365 - (((month1-1)*30) + day1)\n",
    "if month1 >= 0 and day1 >= 0:\n",
    "    print(f'days left till the end of the year: {days_left}')\n"
   ]
  },
  {
   "cell_type": "code",
   "execution_count": 5,
   "metadata": {},
   "outputs": [
    {
     "name": "stdout",
     "output_type": "stream",
     "text": [
      "The distance travelled was 7157160.0\n"
     ]
    }
   ],
   "source": [
    "acceleration = float(input('in m/sec^2: '))\n",
    "time_travelled = float(input('what was the time travelled: '))\n",
    "distance = .5 * acceleration * (time_travelled**2)\n",
    "print(f'The distance travelled was {distance}')"
   ]
  },
  {
   "cell_type": "code",
   "execution_count": 7,
   "metadata": {},
   "outputs": [
    {
     "name": "stdout",
     "output_type": "stream",
     "text": [
      "The total charge for a meal at $45.56, is $53.3052\n",
      "The total charge for a meal at $89.65, is $104.8905\n"
     ]
    }
   ],
   "source": [
    "while True:\n",
    "    \n",
    "    charge = input('Enter the charge for a meal: ')\n",
    "    if charge == 'quit':\n",
    "        break\n",
    "    else:\n",
    "    \n",
    "        con = float(charge)\n",
    "        tip = con * .1\n",
    "        sales_tax = con * .07\n",
    "        total = con + tip + sales_tax\n",
    "        print(f'The total charge for a meal at ${con}, is ${total}')\n"
   ]
  },
  {
   "cell_type": "code",
   "execution_count": 8,
   "metadata": {},
   "outputs": [
    {
     "ename": "ValueError",
     "evalue": "could not convert string to float: ''",
     "output_type": "error",
     "traceback": [
      "\u001B[1;31m---------------------------------------------------------------------------\u001B[0m",
      "\u001B[1;31mValueError\u001B[0m                                Traceback (most recent call last)",
      "\u001B[1;32m<ipython-input-8-65fb891f566e>\u001B[0m in \u001B[0;36m<module>\u001B[1;34m\u001B[0m\n\u001B[1;32m----> 1\u001B[1;33m \u001B[0mbase\u001B[0m \u001B[1;33m=\u001B[0m \u001B[0mfloat\u001B[0m\u001B[1;33m(\u001B[0m\u001B[0minput\u001B[0m\u001B[1;33m(\u001B[0m\u001B[1;34m'Enter a value for the base of the triangle: '\u001B[0m\u001B[1;33m)\u001B[0m\u001B[1;33m)\u001B[0m\u001B[1;33m\u001B[0m\u001B[1;33m\u001B[0m\u001B[0m\n\u001B[0m\u001B[0;32m      2\u001B[0m \u001B[0mheight\u001B[0m \u001B[1;33m=\u001B[0m \u001B[0mfloat\u001B[0m \u001B[1;33m(\u001B[0m\u001B[0minput\u001B[0m\u001B[1;33m(\u001B[0m\u001B[1;34m'Enter a value for the height of the triangle: '\u001B[0m\u001B[1;33m)\u001B[0m\u001B[1;33m)\u001B[0m\u001B[1;33m\u001B[0m\u001B[1;33m\u001B[0m\u001B[0m\n\u001B[0;32m      3\u001B[0m \u001B[0marea_triangle\u001B[0m \u001B[1;33m=\u001B[0m \u001B[1;36m1\u001B[0m \u001B[1;33m/\u001B[0m \u001B[1;36m2\u001B[0m \u001B[1;33m*\u001B[0m \u001B[1;33m(\u001B[0m\u001B[0mbase\u001B[0m \u001B[1;33m*\u001B[0m \u001B[0mheight\u001B[0m\u001B[1;33m)\u001B[0m\u001B[1;33m\u001B[0m\u001B[1;33m\u001B[0m\u001B[0m\n\u001B[0;32m      4\u001B[0m \u001B[0mprint\u001B[0m\u001B[1;33m(\u001B[0m\u001B[1;34mf'The area of a triangle with a base of {base} and a height of {height} is {area_triangle}'\u001B[0m\u001B[1;33m)\u001B[0m\u001B[1;33m\u001B[0m\u001B[1;33m\u001B[0m\u001B[0m\n",
      "\u001B[1;31mValueError\u001B[0m: could not convert string to float: ''"
     ]
    }
   ],
   "source": [
    "base = float(input('Enter a value for the base of the triangle: '))\n",
    "height = float (input('Enter a value for the height of the triangle: '))\n",
    "area_triangle = 1 / 2 * (base * height)\n",
    "print(f'The area of a triangle with a base of {base} and a height of {height} is {area_triangle}')"
   ]
  },
  {
   "cell_type": "code",
   "execution_count": null,
   "metadata": {},
   "outputs": [],
   "source": [
    "_1st_angle = int(input('Enter the first angle of a triagle: '))\n",
    "_2nd_angle = int(input('Enter the second angle of a triangle: '))\n",
    "_3rd_angle = 180 - _1st_angle - _2nd_angle\n",
    "sentence = f'''\n",
    "If the first angle of a triangle is {_1st_angle}, and the second angle of a triangle is {_2nd_angle}, then the \n",
    "third angle of a triangle must be {_3rd_angle}!\n",
    "'''\n",
    "print(sentence)"
   ]
  },
  {
   "cell_type": "code",
   "execution_count": null,
   "metadata": {},
   "outputs": [],
   "source": [
    "_1st_grade = float(input('Enter grade for first assignment: '))\n",
    "_2nd_grade = float(input('Enter grade for the second assignment: '))\n",
    "_3rd_grade = float(input('Enter grade for the third assignment: '))\n",
    "_4th_grade = float(input('Enter grade for the fourth assignment: '))\n",
    "\n",
    "average = (_1st_grade + _2nd_grade + _3rd_grade + _4th_grade ) / 4\n",
    "print(average)\n",
    "\n",
    "    "
   ]
  },
  {
   "cell_type": "code",
   "execution_count": null,
   "metadata": {},
   "outputs": [],
   "source": [
    "iters = 0                                                                     #simple \n",
    "count = 0\n",
    "num_of_grades = int(input('Number of assignments: '))\n",
    "while num_of_grades != 0:\n",
    "    grade = float(input('Enter you grade for the assignment: '))\n",
    "    count += grade \n",
    "    iters += 1\n",
    "    num_of_grades -= 1\n",
    "  \n",
    "    average = count / iters \n",
    "print(average)\n",
    "    \n",
    "    \n",
    "    "
   ]
  },
  {
   "cell_type": "code",
   "execution_count": null,
   "metadata": {},
   "outputs": [],
   "source": [
    "radius = float(input('Enter the radius of a circle: '))\n",
    "circum = 2 * 3.14159 * radius \n",
    "print(f'A circle with a radius of {radius} has a circumference of {circum}!')\n"
   ]
  },
  {
   "cell_type": "code",
   "execution_count": null,
   "metadata": {},
   "outputs": [],
   "source": []
  }
 ],
 "metadata": {
  "kernelspec": {
   "display_name": "Python 3",
   "language": "python",
   "name": "python3"
  },
  "language_info": {
   "codemirror_mode": {
    "name": "ipython",
    "version": 3
   },
   "file_extension": ".py",
   "mimetype": "text/x-python",
   "name": "python",
   "nbconvert_exporter": "python",
   "pygments_lexer": "ipython3",
   "version": "3.7.3"
  }
 },
 "nbformat": 4,
 "nbformat_minor": 2
}
