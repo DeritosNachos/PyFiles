{
 "cells": [
  {
   "cell_type": "code",
   "execution_count": null,
   "metadata": {},
   "outputs": [],
   "source": []
  },
  {
   "cell_type": "code",
   "execution_count": null,
   "metadata": {},
   "outputs": [],
   "source": []
  },
  {
   "cell_type": "code",
   "execution_count": null,
   "metadata": {},
   "outputs": [],
   "source": []
  },
  {
   "cell_type": "code",
   "execution_count": null,
   "metadata": {},
   "outputs": [],
   "source": [
    "#dealling with exceptions\n",
    "try:\n",
    "    age = int(input('Age: '))\n",
    "    income = 20000\n",
    "    risk = income / age\n",
    "except ValueError:\n",
    "    print('Invalid Value')\n",
    "except ZeroDivisionError:\n",
    "    print('Age cannot be 0')"
   ]
  },
  {
   "cell_type": "raw",
   "metadata": {},
   "source": [
    "Program that outputs evens and odds"
   ]
  },
  {
   "cell_type": "code",
   "execution_count": null,
   "metadata": {},
   "outputs": [],
   "source": [
    "nums = [8, -3, 0, 7, -6, -3, 1, 8, 7, -2]\n",
    "even = []\n",
    "odd = []                          #append function is for lists\n",
    "for num in nums:\n",
    "    if (num % 2) == 0:\n",
    "        even.append(num)\n",
    "    else:\n",
    "        odd.append(num)\n",
    "print(even)\n",
    "print(odd)"
   ]
  },
  {
   "cell_type": "code",
   "execution_count": null,
   "metadata": {},
   "outputs": [],
   "source": [
    "#modules in python"
   ]
  },
  {
   "cell_type": "code",
   "execution_count": 56,
   "metadata": {},
   "outputs": [
    {
     "name": "stdout",
     "output_type": "stream",
     "text": [
      "walk\n",
      "Bark\n"
     ]
    }
   ],
   "source": [
    "class Mammal:\n",
    "    def walk(self):\n",
    "        print('walk')\n",
    "\n",
    "class Dog(Mammal):\n",
    "    def bark(self):\n",
    "        print('Bark')\n",
    "\n",
    "class Cat(Mammal):\n",
    "    pass\n",
    "\n",
    "dog1 = Dog()\n",
    "dog1.walk()\n",
    "dog1.bark()"
   ]
  },
  {
   "cell_type": "code",
   "execution_count": 54,
   "metadata": {},
   "outputs": [
    {
     "name": "stdout",
     "output_type": "stream",
     "text": [
      "Hi, I am John Smith\n",
      "Hi, I am Bob Smith\n"
     ]
    }
   ],
   "source": [
    "class Person:\n",
    "    def __init__(self, name):\n",
    "        self.name = name\n",
    "    def talk(self):\n",
    "        print(f'Hi, I am {self.name}')\n",
    "        \n",
    "\n",
    "john = Person('John Smith')\n",
    "john.talk()\n",
    "\n",
    "bob = Person('Bob Smith')\n",
    "bob.talk()"
   ]
  },
  {
   "cell_type": "code",
   "execution_count": 1,
   "metadata": {},
   "outputs": [
    {
     "name": "stdout",
     "output_type": "stream",
     "text": [
      "20\n"
     ]
    }
   ],
   "source": [
    "#constructors, wtf\n",
    "#data = attributes , functions = methods    in classes\n",
    "class Point:   #naming convention for classes, always capitalize the first letter of every word EmailClient #pascalnaming\n",
    "    def __init__(self, x, y):           #initializes and constructs an object, this is a constructor\n",
    "        self.x = x\n",
    "        self.y = y\n",
    "    def move(self):          #self is built-in keyword or reserved word\n",
    "        print('move')\n",
    "       \n",
    "    def draw(self):\n",
    "        print('draw')\n",
    "\n",
    "point = Point(10, 20)\n",
    "print(point.y)"
   ]
  },
  {
   "cell_type": "code",
   "execution_count": 2,
   "metadata": {},
   "outputs": [
    {
     "name": "stdout",
     "output_type": "stream",
     "text": [
      "1\n"
     ]
    }
   ],
   "source": [
    "#constructors, wtf\n",
    "#data = attributes , functions = methods    in classes\n",
    "class Point:   #naming convention for classes, always capitalize the first letter of every word EmailClient #pascalnaming\n",
    "    def move(self):          #self is built-in keyword or reserved word\n",
    "        print('move')\n",
    "       \n",
    "    def draw(self):\n",
    "        print('draw')\n",
    "\n",
    "point = Point()\n",
    "point.x = 10\n",
    "point2 = Point()\n",
    "point2.x = 1\n",
    "print(point2.x)"
   ]
  },
  {
   "cell_type": "raw",
   "metadata": {},
   "source": [
    "Basic Types\n",
    "Numbers\n",
    "Strings\n",
    "Booleans\n",
    "----\n",
    "Complex\n",
    "List \n",
    "Dictionaries\n",
    "Tuples\n",
    "----\n"
   ]
  },
  {
   "cell_type": "code",
   "execution_count": 44,
   "metadata": {},
   "outputs": [
    {
     "name": "stdout",
     "output_type": "stream",
     "text": [
      "draw\n",
      "1\n"
     ]
    }
   ],
   "source": [
    "class Point:             #pascal naming convention, just capitalize beginning or word or separate by _ underscores\n",
    "    def move(self):\n",
    "        print('move')\n",
    "       \n",
    "    def draw(self):\n",
    "        print('draw')\n",
    "point1 =  Point()\n",
    "point1.x = 10\n",
    "point1.y = 20\n",
    "point1.draw()\n",
    "\n",
    "point2 = Point()\n",
    "point2.x = 1\n",
    "print(point2.x)"
   ]
  },
  {
   "cell_type": "code",
   "execution_count": 41,
   "metadata": {},
   "outputs": [
    {
     "name": "stdout",
     "output_type": "stream",
     "text": [
      "Age: 0\n",
      "Age cannot be 0.\n"
     ]
    }
   ],
   "source": [
    "\n",
    "#using construct call try and except\n",
    "\n",
    "try:\n",
    "    age = int(input('Age: '))\n",
    "    income = 2.0 *(10**4)\n",
    "    risk = income / age\n",
    "    print(age)\n",
    "except ZeroDivisionError:\n",
    "    print('Age cannot be 0.')\n",
    "except ValueError:              #if you encounter this type of error, instead of crashing, print \"invalid value\"\n",
    "    print('Invalid value')"
   ]
  },
  {
   "cell_type": "code",
   "execution_count": 39,
   "metadata": {},
   "outputs": [
    {
     "name": "stdout",
     "output_type": "stream",
     "text": [
      ">sad\n",
      "None\n",
      "word \n"
     ]
    }
   ],
   "source": [
    "#windows + ; to call the emojis\n",
    "def emojifunc(message):\n",
    "    words = message.split(' ')\n",
    "    emojis = {\n",
    "        ':)' : '😊',\n",
    "        ':(' : '😒'\n",
    "    }\n",
    "    output= ''\n",
    "    for word in words:\n",
    "        output += emojis.get(word, word) + ' '           #study this\n",
    "    return output\n",
    "\n",
    "\n",
    "message = input('>')\n",
    "print(emojifunc(message))\n",
    "print(output)      #why does this print word???"
   ]
  },
  {
   "cell_type": "code",
   "execution_count": 30,
   "metadata": {},
   "outputs": [
    {
     "name": "stdout",
     "output_type": "stream",
     "text": [
      "9\n",
      "None\n"
     ]
    }
   ],
   "source": [
    "def square(number):\n",
    "    print(number * number)            #by default, functions have a return statement of None\n",
    "print(square(3))"
   ]
  },
  {
   "cell_type": "code",
   "execution_count": 29,
   "metadata": {},
   "outputs": [
    {
     "name": "stdout",
     "output_type": "stream",
     "text": [
      "9\n"
     ]
    }
   ],
   "source": [
    "#how to use the return function\n",
    "def square(number):\n",
    "    return number * number\n",
    "print(square(3))"
   ]
  },
  {
   "cell_type": "code",
   "execution_count": 27,
   "metadata": {},
   "outputs": [
    {
     "name": "stdout",
     "output_type": "stream",
     "text": [
      "Start\n",
      "Hi James Binghamton!\n",
      "Welcome aboard\n",
      "Finish\n",
      "Hi James Bing!\n",
      "Welcome aboard\n"
     ]
    }
   ],
   "source": [
    "#functions must be defined first before called \n",
    "def greet_user(name, last):            #will assign whatever value (whatever data type) to variable name \n",
    "    print(f'Hi {name} {last}!')\n",
    "    print('Welcome aboard')\n",
    "\n",
    "    \n",
    "print('Start')\n",
    "greet_user('James', 'Binghamton')      # James and Binghamton are positional arguments as there position or order matters\n",
    "#calc_cost(total = 50, shipping = 5, charge = 45) #this is an example of how keywords help readability\n",
    "print('Finish')\n",
    "greet_user(last = 'Bing', name = 'James')   #keyword arguments are not positional or their position does not matter\n",
    "                                            #keyword arguments should only be used AFTER positional arguments"
   ]
  },
  {
   "cell_type": "code",
   "execution_count": 15,
   "metadata": {},
   "outputs": [
    {
     "name": "stdout",
     "output_type": "stream",
     "text": [
      ">word\n",
      "word \n"
     ]
    }
   ],
   "source": [
    "#access emojis by windows button + '.' or ';'\n",
    "message = input('>')\n",
    "words = message.split(' ')\n",
    "emojis = {\n",
    "    ':)' : '😊',\n",
    "    ':(' : '😒'\n",
    "}\n",
    "output= ''\n",
    "for word in words:\n",
    "    output += emojis.get(word, word) + ' '           #study this\n",
    "print(output)"
   ]
  },
  {
   "cell_type": "raw",
   "metadata": {},
   "source": [
    "write a program that turns a set of numbers into words 1-->one"
   ]
  },
  {
   "cell_type": "code",
   "execution_count": 5,
   "metadata": {},
   "outputs": [
    {
     "name": "stdout",
     "output_type": "stream",
     "text": [
      "Phone: 1234p\n",
      "one two three four ! \n"
     ]
    }
   ],
   "source": [
    "phone = input('Phone: ')\n",
    "\n",
    "output = ''\n",
    "digits_mapping = {\n",
    "    '1' : 'one',\n",
    "    '2' : 'two',\n",
    "    '3' : 'three',\n",
    "    '4' : 'four',\n",
    "    '5' : 'five',\n",
    "    '6' : 'six',\n",
    "    '7' : 'seven',\n",
    "    '8' : 'eight',\n",
    "    '9' : 'nine',\n",
    "    '0' : 'zero'\n",
    "}\n",
    "for ch in phone:\n",
    "    output += digits_mapping.get(ch, '!') + ' '              #'!' is added so characters can be added like 'pldjf'\n",
    "print(output)"
   ]
  },
  {
   "cell_type": "code",
   "execution_count": null,
   "metadata": {},
   "outputs": [
    {
     "name": "stdout",
     "output_type": "stream",
     "text": [
      "Enter a number> 2\n",
      "one\n",
      "two\n",
      "three\n",
      "four\n",
      "five\n",
      "six\n",
      "seven\n",
      "eight\n",
      "nine\n",
      "zero\n"
     ]
    }
   ],
   "source": [
    "\n",
    "nums2 = {\n",
    "    '1' : 'one',\n",
    "    '2' : 'two',\n",
    "    '3' : 'three',\n",
    "    '4' : 'four',\n",
    "    '5' : 'five',\n",
    "    '6' : 'six',\n",
    "    '7' : 'seven',\n",
    "    '8' : 'eight',\n",
    "    '9' : 'nine',\n",
    "    '0' : 'zero'\n",
    "}\n",
    "while True:\n",
    "    enter = int(input('Enter a number> '))\n",
    "        \n",
    "    for num in nums2:\n",
    "        gif = nums2.get(num)\n",
    "        print(gif)\n",
    "\n",
    "        "
   ]
  },
  {
   "cell_type": "raw",
   "metadata": {},
   "source": [
    "dictionaries \n",
    "dictionaries are defined by {} as opposed to tupples () or lists []\n",
    "\n",
    "dictionaries are used to associate two variables together\n"
   ]
  },
  {
   "cell_type": "code",
   "execution_count": 84,
   "metadata": {},
   "outputs": [
    {
     "name": "stdout",
     "output_type": "stream",
     "text": [
      "John\n",
      "John\n",
      "Will replace with this\n",
      "32\n"
     ]
    }
   ],
   "source": [
    "customer = {                                    #the first value in an index is the key \n",
    "    'name' : 'John',\n",
    "    'age' : 31,\n",
    "    'is_verified' : True\n",
    "}\n",
    "print(customer['name'])                        #this calls the value associated with the key 'name'\n",
    "print(customer.get('name'))                    #will report None if key not in dictionary\n",
    "print(customer.get('DNE', 'Will replace with this'))\n",
    "#john just got older\n",
    "customer['age'] = 32\n",
    "print(customer['age'])"
   ]
  },
  {
   "cell_type": "raw",
   "metadata": {},
   "source": [
    "tuples are immutable\n",
    "you cannot change a tuple \n",
    "they are designated by () rather than []\n",
    "ex. \n",
    "nums = (1, 2, 3, 4)\n",
    "nums = ('1, 2, 3, 4')      difference from a string\n",
    "nums.count\n",
    "nums.index                 These are the only 2 functions built in for tuples\n",
    "\n",
    "REMEMBER A TUPLE IS IMMUTABLE\n",
    "use tuples when you never want to modify your values"
   ]
  },
  {
   "cell_type": "code",
   "execution_count": 75,
   "metadata": {},
   "outputs": [
    {
     "name": "stdout",
     "output_type": "stream",
     "text": [
      "1, 2, 3\n",
      "4, 5, 6\n"
     ]
    }
   ],
   "source": [
    "#unpacking\n",
    "coordinates = (1, 2, 3)\n",
    "x = coordinates[0]\n",
    "y = coordinates[1]\n",
    "z = coordinates[2]\n",
    "print(f'{x}, {y}, {z}')\n",
    "\n",
    "#this is unpacking\n",
    "#unpacking can be used with lists and tuples\n",
    "coordinates2 = (4, 5, 6)\n",
    "x, y, z = coordinates2\n",
    "\n",
    "print(f'{x}, {y}, {z}')"
   ]
  },
  {
   "cell_type": "raw",
   "metadata": {},
   "source": [
    "write a program to remove the duplicates in a list "
   ]
  },
  {
   "cell_type": "code",
   "execution_count": 8,
   "metadata": {},
   "outputs": [
    {
     "name": "stdout",
     "output_type": "stream",
     "text": [
      "[1, 2, 3, 4, 45]\n"
     ]
    }
   ],
   "source": [
    "thelist = [1, 2, 1, 2, 3, 4, 3, 4, 45, 2]\n",
    "uniques = []                 #better to create a new list and add to it based on conditions than to modify old list\n",
    "for number in thelist:\n",
    "    if number not in uniques:     #populates uniques with numbers from thelist that don't already exist in uniques\n",
    "        uniques.append(number)\n",
    "\n",
    "print(uniques)\n",
    "    \n",
    "    \n",
    "#    if thelist.count(1) > 1:\n",
    "#        thelist.remove(1)\n",
    "#    if thelist.count()\n",
    "\n",
    "\n",
    "\n"
   ]
  },
  {
   "cell_type": "raw",
   "metadata": {},
   "source": [
    "List Functions down below"
   ]
  },
  {
   "cell_type": "code",
   "execution_count": 44,
   "metadata": {},
   "outputs": [
    {
     "name": "stdout",
     "output_type": "stream",
     "text": [
      "[5, 2, 5, 7, 4, 13]\n",
      "[1, 5, 2, 5, 7, 4, 13]\n",
      "[1, 2, 5, 7, 4, 13]\n",
      "[1, 2, 4, 5, 7, 13]\n",
      "3\n",
      "False\n",
      "1\n",
      "None\n",
      "[13, 7, 5, 4, 2]\n",
      "[]\n"
     ]
    }
   ],
   "source": [
    "numbers = [5, 2, 5, 7, 4]\n",
    "numbers2 = numbers.copy()                  #makes an independent list\n",
    "numbers.append(13)                         #adds a value to the end of a list\n",
    "print(numbers)\n",
    "numbers.insert(0, 1)                       #inserts a value at the index position\n",
    "print(numbers)\n",
    "numbers.remove(5)                          #removes whatever value is given, will not remove repeats\n",
    "print(numbers)\n",
    "numbers.sort()                             #sorts values in list into numerical order\n",
    "print(numbers)\n",
    "print(numbers.index(5))                    #tells position of the value in list, will report the last instance of value\n",
    "\n",
    "print(50 in numbers)                       #creates boolean value \n",
    "print(numbers.count(5))                    #counts the occurances f a value \n",
    "print(numbers.reverse())\n",
    "\n",
    "numbers.pop()                              #removes last item on list\n",
    "print(numbers)\n",
    "numbers.clear()                            #removes all items in list\n",
    "print(numbers)"
   ]
  },
  {
   "cell_type": "raw",
   "metadata": {},
   "source": [
    "codewithmosh.com"
   ]
  },
  {
   "cell_type": "code",
   "execution_count": 7,
   "metadata": {},
   "outputs": [
    {
     "name": "stdout",
     "output_type": "stream",
     "text": [
      "2\n",
      "4\n",
      "9\n",
      "\n",
      "1\n",
      "2\n",
      "3\n",
      "4\n",
      "5\n",
      "6\n",
      "7\n",
      "8\n",
      "9\n"
     ]
    }
   ],
   "source": [
    "# 2d lists\n",
    "#[\n",
    "#    1 2 3 \n",
    "#    4 5 6\n",
    "#    7 8 9\n",
    "#]\n",
    "matrix = [\n",
    "    [1, 2, 3],\n",
    "    [4, 5, 6],\n",
    "    [7, 8, 9]\n",
    "]                                       #RETRIEVAL of number in matrix\n",
    "print(matrix[0][1])                      # = 2 (first list, second item in list)\n",
    "print(matrix[1][0])                      # = 4 (second list, first item in list)\n",
    "print(matrix[2][2])                      # = 9 (third list, third item in list)\n",
    "print('')\n",
    "for row in matrix:\n",
    "    for item in row:\n",
    "        print(item)"
   ]
  },
  {
   "cell_type": "code",
   "execution_count": 5,
   "metadata": {},
   "outputs": [
    {
     "name": "stdout",
     "output_type": "stream",
     "text": [
      "Sarah\n",
      "Bob\n",
      "['Mosh', 'Sarah']\n",
      "100\n",
      "100\n"
     ]
    }
   ],
   "source": [
    "# lists\n",
    "\n",
    "names = ['John', 'Bob', 'Mosh', 'Sarah', 'Mary']\n",
    "print(names[-2])\n",
    "print(names[1])\n",
    "print(names[2:4])              #4 or 5th element is not returned\n",
    "\n",
    "#find the largest number in a list\n",
    "list1 = [1, 3, 5, 100, 91, 5]\n",
    "max_ = list1[0]                           #starts from beginning of list\n",
    "\n",
    "for nums in list1:\n",
    "    if nums > max_:\n",
    "        max_ = nums\n",
    "print(max_)\n",
    "        \n",
    "\n",
    "print(max(list1))\n",
    "    \n",
    "\n",
    "    "
   ]
  },
  {
   "cell_type": "raw",
   "metadata": {},
   "source": [
    "For loops \n",
    "\n",
    "for item in 'Python':                             \n",
    "\n",
    "\n",
    "# item becomes a sort of variable for the values or characters in string 'Python'\n",
    "# item can be named anything like a variable "
   ]
  },
  {
   "cell_type": "code",
   "execution_count": 18,
   "metadata": {
    "collapsed": true
   },
   "outputs": [
    {
     "name": "stdout",
     "output_type": "stream",
     "text": [
      "xxxxx\n",
      "xx\n",
      "xxxxx\n",
      "xx\n",
      "xx\n",
      "\n",
      "xxxxx\n",
      "xx\n",
      "xxxxx\n",
      "xx\n",
      "xxxxx\n",
      "\n",
      "xxxxx\n",
      "xx\n",
      "xx\n",
      "xx\n",
      "xxxxx\n",
      "\n",
      "xxxxx\n",
      "xx\n",
      "xx\n",
      "xx\n",
      "xxxxx\n"
     ]
    }
   ],
   "source": [
    "nums = [5, 2, 5, 2, 2]\n",
    "\n",
    "\n",
    "for num in nums:\n",
    "    if num == 5:\n",
    "        print('xxxxx')\n",
    "    elif num == 2:\n",
    "        print('xx')\n",
    "    else:\n",
    "        None\n",
    "\n",
    "nums = [5, 2, 5, 2, 5]\n",
    "print('')                                                                      #first and second implementation\n",
    "\n",
    "for num in nums:\n",
    "    print(num * 'x')        \n",
    "\n",
    "nums = [5, 2, 2, 2, 5]\n",
    "print('')                                                                    #this is what he wanted!!\n",
    "\n",
    "for num in nums:\n",
    "    iters = num\n",
    "    x = ''                 #this is the reason the code works, x is reset for each num in nums lol\n",
    "    while iters != 0:\n",
    "        iters -= 1\n",
    "        x += 'x'\n",
    "    print(x)\n",
    "    \n",
    "print('')                                  #Mosh's solution\n",
    "\n",
    "\n",
    "for num in nums:\n",
    "    output = ''\n",
    "    for count in range(num):\n",
    "        output += 'x'\n",
    "    print(output)"
   ]
  },
  {
   "cell_type": "code",
   "execution_count": 1,
   "metadata": {},
   "outputs": [
    {
     "name": "stdout",
     "output_type": "stream",
     "text": [
      "xxxxx\n",
      "xxxxxxx\n",
      "xxxxxxxxxxxx\n",
      "xxxxxxxxxxxxxx\n",
      "xxxxxxxxxxxxxxxx\n",
      "\n",
      "string\n",
      "strstrstr\n"
     ]
    }
   ],
   "source": [
    "nums = [5, 2, 5, 2, 2]\n",
    "x = ''                                                  # variable x is not associated with for num in nums\n",
    "for num in nums:\n",
    "    i = num\n",
    "\n",
    "    while i != 0:\n",
    "        i -= 1\n",
    "        x += 'x'\n",
    "    print(x)\n",
    "    \n",
    "\n",
    "        \n",
    "print('')\n",
    "\n",
    "    \n",
    "print('str' + 'ing')\n",
    "print(3 * 'str')\n",
    "#static semantics ex. print(3 + 'hi')                        "
   ]
  },
  {
   "cell_type": "code",
   "execution_count": 3,
   "metadata": {},
   "outputs": [
    {
     "name": "stdout",
     "output_type": "stream",
     "text": [
      "0 0\n",
      "0 1\n",
      "1 0\n",
      "1 1\n",
      "2 0\n",
      "2 1\n",
      "3 0\n",
      "3 1\n"
     ]
    }
   ],
   "source": [
    "#nested loops\n",
    "for x in range(4):\n",
    "    for y in range(2):                       #the inner loop must complete first before the outer loop\n",
    "        print(x, y)"
   ]
  },
  {
   "cell_type": "code",
   "execution_count": 9,
   "metadata": {
    "collapsed": true
   },
   "outputs": [
    {
     "name": "stdout",
     "output_type": "stream",
     "text": [
      "174.89\n",
      "174.89\n"
     ]
    }
   ],
   "source": [
    "prices = [2.25, 3.65, 79.99, 80.0, 9]\n",
    "total = prices[0] + prices[1] + prices[2] + prices[3] + prices[4]\n",
    "print(total)\n",
    "\n",
    "total = 0                                                                           #this is how you add values in a list\n",
    "for i in prices:\n",
    "    total += i\n",
    "    \n",
    "print(total)\n"
   ]
  },
  {
   "cell_type": "code",
   "execution_count": 2,
   "metadata": {
    "collapsed": true
   },
   "outputs": [
    {
     "name": "stdout",
     "output_type": "stream",
     "text": [
      "P\n",
      "y\n",
      "t\n",
      "h\n",
      "o\n",
      "n\n",
      "Derik\n",
      "Mosh\n",
      "Josh\n",
      "Bailey\n",
      "10\n",
      "9\n",
      "8\n",
      "7\n",
      "6\n",
      "5\n",
      "4\n",
      "3\n",
      "2\n",
      "1\n",
      "0\n",
      "1\n",
      "2\n",
      "3\n",
      "4\n",
      "5\n",
      "6\n",
      "7\n",
      "8\n",
      "9\n"
     ]
    }
   ],
   "source": [
    "for i in 'Python':\n",
    "    print(i)\n",
    "    \n",
    "for item in ['Derik', 'Mosh', 'Josh', 'Bailey']:\n",
    "    print(item)\n",
    "    \n",
    "for nums in range(10, 0, -1):\n",
    "    print(nums)\n",
    "for nums in range(0, 10):\n",
    "    print(nums)"
   ]
  },
  {
   "cell_type": "code",
   "execution_count": 3,
   "metadata": {
    "collapsed": true
   },
   "outputs": [
    {
     "name": "stdout",
     "output_type": "stream",
     "text": [
      "> stop\n",
      "Car already stopped\n",
      "> quit\n"
     ]
    }
   ],
   "source": [
    "started = False\n",
    "\n",
    "a = 'Car is started!'\n",
    "b = 'Car is stopped!'\n",
    "\n",
    "while True:\n",
    "    command = input('> ').lower()\n",
    "    \n",
    "    if command == 'start':\n",
    "        if started:\n",
    "            print('Car is already started')\n",
    "        else:\n",
    "            started = True\n",
    "            print(a)\n",
    "        \n",
    "    \n",
    "    elif command == 'stop':\n",
    "        if not started:\n",
    "            print('Car already stopped')\n",
    "        else:\n",
    "            started = False\n",
    "            print(b)\n",
    "    \n",
    "    elif command == 'help':\n",
    "        print('start - to start the car \\nstop - to stop the car \\nquit - to exit')\n",
    "        started = False\n",
    "    elif command == 'quit':\n",
    "        break\n",
    "        \n",
    "    else:\n",
    "        print('I do not understand')"
   ]
  },
  {
   "cell_type": "code",
   "execution_count": null,
   "metadata": {
    "collapsed": true
   },
   "outputs": [
    {
     "name": "stdout",
     "output_type": "stream",
     "text": [
      ">stop\n",
      "Car stopped...\n",
      ">stop\n",
      "Car already stopped\n"
     ]
    }
   ],
   "source": [
    "a = 'Car started...'\n",
    "b = \"Car stopped...\"\n",
    "\n",
    "start = 0\n",
    "stop = 0\n",
    "while True:\n",
    "    imp = input('>').lower()\n",
    "    if imp == 'help':\n",
    "        print('start - to start the car \\nstop - to stop the car \\nquit - to exit')\n",
    "        start = 0\n",
    "        stop = 0\n",
    "    elif imp == 'start' and start == 0:\n",
    "        \n",
    "        start = 1\n",
    "        stop = 0\n",
    "        print(a)\n",
    "        \n",
    "    elif imp == 'start':\n",
    "        print('Car already started')\n",
    "        \n",
    "    elif imp == 'stop' and stop == 0:\n",
    "        \n",
    "        start = 0\n",
    "        stop = 1\n",
    "        print(b)\n",
    "    elif imp == 'stop':\n",
    "        print('Car already stopped')\n",
    "\n",
    "    elif imp == 'quit':\n",
    "        break\n",
    "    else:\n",
    "        print(\"I don't understand that...\")"
   ]
  },
  {
   "cell_type": "code",
   "execution_count": 1,
   "metadata": {
    "collapsed": true
   },
   "outputs": [
    {
     "name": "stdout",
     "output_type": "stream",
     "text": [
      ">help\n",
      "\n",
      "start - to start the car\n",
      "stop - to stop the car\n",
      "quit - to exit\n",
      "        \n",
      ">start\n",
      "Car started..\n",
      ">quit\n"
     ]
    }
   ],
   "source": [
    "command = ''\n",
    "while True:\n",
    "    command = input('>')\n",
    "    if command == 'start':\n",
    "        print('Car started..')\n",
    "    elif command == 'stop':\n",
    "        print('Car stopped')\n",
    "    elif command == 'help':\n",
    "        print('''\n",
    "start - to start the car\n",
    "stop - to stop the car\n",
    "quit - to exit\n",
    "        ''')\n",
    "    elif command == 'quit':\n",
    "        break\n",
    "    else:\n",
    "        print(\"I don't understand that...\")"
   ]
  },
  {
   "cell_type": "code",
   "execution_count": 8,
   "metadata": {
    "collapsed": true
   },
   "outputs": [
    {
     "name": "stdout",
     "output_type": "stream",
     "text": [
      ">wtf\n",
      "I don't understand that...\n",
      ">stop\n",
      "Car stopped\n",
      ">start\n",
      "Car started...Ready to go!\n",
      ">ok\n",
      "I don't understand that...\n",
      ">ok\n",
      "I don't understand that...\n",
      ">ok\n",
      "I don't understand that...\n",
      ">ok\\\n",
      "I don't understand that...\n",
      ">k\n",
      "I don't understand that...\n",
      ">ok\n",
      "I don't understand that...\n"
     ]
    }
   ],
   "source": [
    "i = 10\n",
    "while i > 1:\n",
    "    imp = input('>').lower()\n",
    "    i -= 1\n",
    "    if imp == 'help':\n",
    "        print('start - to start the car \\nstop - to stop the car \\nquit - to exit')\n",
    "    elif imp == 'start':\n",
    "        print('Car started...Ready to go!')\n",
    "    elif imp == 'stop':\n",
    "        print('Car stopped')\n",
    "    elif imp == 'quit':\n",
    "        break\n",
    "    else:\n",
    "        print(\"I don't understand that...\")"
   ]
  },
  {
   "cell_type": "code",
   "execution_count": null,
   "metadata": {},
   "outputs": [],
   "source": [
    "secret_num = 9\n",
    "guess_count = 0\n",
    "guess_limit = 3\n",
    "while guess_count < guess_limit:\n",
    "    guess = int(input(\"num: \"))\n",
    "    guess_count += 1\n",
    "    if guess == secret_num:\n",
    "        print('you won')\n",
    "        break                                               #or use break\n",
    "    if guess_count == 3:\n",
    "        print('you lose')"
   ]
  },
  {
   "cell_type": "code",
   "execution_count": null,
   "metadata": {},
   "outputs": [],
   "source": [
    "secret_num = 9\n",
    "guess_count = 0\n",
    "guess_limit = 3\n",
    "while guess_count < guess_limit:\n",
    "    guess = int(input(\"num: \"))\n",
    "    guess_count += 1\n",
    "    if guess == secret_num:\n",
    "        print('you won')\n",
    "        guess_count = 4                                                #or raise the value to end while loop\n",
    "if guess_count == 3:\n",
    "    print('you lose')"
   ]
  },
  {
   "cell_type": "code",
   "execution_count": 5,
   "metadata": {
    "collapsed": true
   },
   "outputs": [
    {
     "name": "stdout",
     "output_type": "stream",
     "text": [
      "1     1\n",
      "2     4\n",
      "3     9\n",
      "4     16\n",
      "5     25\n",
      "6     36\n",
      "7     49\n",
      "8     64\n",
      "9     81\n",
      "10     100\n",
      "*\n",
      "**\n",
      "***\n",
      "****\n",
      "*****\n",
      "******\n",
      "*******\n",
      "********\n",
      "*********\n",
      "**********\n",
      "Done\n"
     ]
    }
   ],
   "source": [
    "i = 1\n",
    "while i <= 10:\n",
    "    print(i, '   ', i**2)\n",
    "    i += 1\n",
    "    \n",
    "i = 1\n",
    "while i <= 10:\n",
    "    print('*' * i)                                       #creates a bunch of asterisks\n",
    "    i += 1\n",
    "print('Done')\n"
   ]
  },
  {
   "cell_type": "code",
   "execution_count": null,
   "metadata": {},
   "outputs": [],
   "source": [
    "a = int(input())\n",
    "b = int(input())\n",
    "sum = a**2 + b**2\n",
    "c_ans = float(sum**(1/2))\n",
    "c = int(input())\n",
    "if a**2 + b**2 == c**2:\n",
    "    print('Success')\n",
    "    print(f'c is = {c_ans}')\n",
    "else:\n",
    "    print('Failure')\n",
    "    print(f'c is = {c_ans}')"
   ]
  },
  {
   "cell_type": "code",
   "execution_count": null,
   "metadata": {},
   "outputs": [],
   "source": [
    "temp = int(input('What is the temperature in Celsius: '))\n",
    "if temp > 30:\n",
    "    print(\"It's a hot day\")\n",
    "elif temp < 10:\n",
    "    print(\"It's a cold day\")\n",
    "else:\n",
    "    print(\"It's neither hot nor cold\")"
   ]
  },
  {
   "cell_type": "markdown",
   "metadata": {},
   "source": [
    "New Problem: \n",
    "if name is less than 3 char. \n",
    "print name must at least 3 char.\n",
    "otherwise if it's more than 50 char. \n",
    "print name can be a maximum of 50 char.\n",
    "otherwise \n",
    "print name looks good"
   ]
  },
  {
   "cell_type": "code",
   "execution_count": null,
   "metadata": {},
   "outputs": [],
   "source": [
    "user = input('Please type in a username: ')\n",
    "a = len(user)\n",
    "if a < 3:\n",
    "    print('Error: name must be at least 3 characters')\n",
    "elif a > 18:\n",
    "    print('Error: name can be a maximum of 18 characters')\n",
    "else:\n",
    "    print('Name looks good')"
   ]
  },
  {
   "cell_type": "code",
   "execution_count": null,
   "metadata": {},
   "outputs": [],
   "source": [
    "has_high_income = input('Do you have a high income? yes or no: ')\n",
    "has_good_credit = input('ok, what about good credit? yes or no: ')\n",
    "has_criminal_record = input('ever been arrested? yes or no: ')\n",
    "\n",
    "a = 'yes' in has_high_income                                      #a way to create bool \n",
    "b = 'yes' in has_good_credit                                      #one is more elegant than the other\n",
    "c = 'yes' in has_criminal_record\n",
    "\n",
    "if a or b:\n",
    "    d = True\n",
    "else:\n",
    "    d = False\n",
    "if d and not c:\n",
    "    print(\"Congrats, you're eligible for a loan\")\n",
    "else:\n",
    "    print(\"Sorry, but you're shit outta luck...\")"
   ]
  },
  {
   "cell_type": "code",
   "execution_count": 4,
   "metadata": {},
   "outputs": [
    {
     "name": "stdout",
     "output_type": "stream",
     "text": [
      "Do you have a high income? yes or no: Yes\n",
      "ok, what about good credit? yes or no: YES\n",
      "ever been arrested? yes or no: YES\n",
      "Sorry, but you're shit outta luck...\n"
     ]
    }
   ],
   "source": [
    "has_high_income = input('Do you have a high income? yes or no: ').lower()\n",
    "has_good_credit = input('ok, what about good credit? yes or no: ').lower()\n",
    "has_criminal_record = input('ever been arrested? yes or no: ').lower()\n",
    "if has_high_income == 'yes':\n",
    "    has_high_income = True\n",
    "else:\n",
    "    has_high_income = False\n",
    "if has_good_credit == 'yes':\n",
    "    has_good_credit = True\n",
    "else:\n",
    "    has_good_credit = False    \n",
    "if has_criminal_record == 'yes':\n",
    "    has_criminal_record = True\n",
    "else:\n",
    "    has_criminal_record = False\n",
    "    \n",
    "if has_high_income or has_good_credit:\n",
    "    part1 = True\n",
    "else:\n",
    "    part1 = False\n",
    "if part1 and not has_criminal_record:\n",
    "    print(\"Congrats, you're eligible for a loan\")\n",
    "else:\n",
    "    print(\"Sorry, but you're shit outta luck...\")"
   ]
  },
  {
   "cell_type": "markdown",
   "metadata": {},
   "source": [
    "if, then"
   ]
  },
  {
   "cell_type": "markdown",
   "metadata": {},
   "source": [
    "Problem 1;\n",
    "Price of house 1 million\n",
    "if buyer has good credit\n",
    "needs to put 10% down\n",
    "otherwise 20% down\n",
    "print down payment"
   ]
  },
  {
   "cell_type": "code",
   "execution_count": 2,
   "metadata": {},
   "outputs": [
    {
     "name": "stdout",
     "output_type": "stream",
     "text": [
      "How is your credit? good or bad: Good\n",
      "You will need to pay $100000, with your current credit rating\n",
      "True\n"
     ]
    }
   ],
   "source": [
    "price = 1e6                     # e+x is = 10^x \n",
    "gc = price * .1\n",
    "bc = price * .2\n",
    "choice = input('How is your credit? good or bad: ').lower()\n",
    "if choice == 'good':\n",
    "    choice = True\n",
    "else:\n",
    "    choice = False\n",
    "\n",
    "buyer_credit = choice              #changing from good to bad changes outcome\n",
    "if buyer_credit:\n",
    "    print(f'You will need to pay ${int(gc)}, with your current credit rating')\n",
    "else:\n",
    "    print(f'You will need to pay ${int(bc)}, with your current credit rating')\n",
    "print(choice)                                                                         #choice is still True for bad?"
   ]
  },
  {
   "cell_type": "markdown",
   "metadata": {},
   "source": [
    "if it's hot\n",
    "    It's a hot day\n",
    "    Drink plenty of water\n",
    "otherwise if it's cold \n",
    "    It's a cold day\n",
    "    Wear warm clothes\n",
    "otherwise\n",
    "    It's a lovely day"
   ]
  },
  {
   "cell_type": "code",
   "execution_count": null,
   "metadata": {},
   "outputs": [],
   "source": [
    "is_hot = False\n",
    "is_cold = True\n",
    "\n",
    "if is_hot:\n",
    "    print(\"It's a hot day\")\n",
    "    print('Drink plenty of water')\n",
    "elif is_cold:\n",
    "    print(\"It's a cold day\")\n",
    "    print('Wear warm clothes')\n",
    "else:\n",
    "    print(\"It's a beautiful day!\")\n",
    "print('Enjoy your day')"
   ]
  },
  {
   "cell_type": "markdown",
   "metadata": {},
   "source": [
    "Fun with Functions"
   ]
  },
  {
   "cell_type": "code",
   "execution_count": null,
   "metadata": {},
   "outputs": [],
   "source": [
    "import math                                    #imports the math module use import to import modules\n",
    "x = 2.9\n",
    "print(round(x))\n",
    "print(abs(x))\n",
    "print(math.ceil(2.9))\n",
    "math.fabs(x)                                  # math.abs\n",
    "math.factorial(x)\n",
    "math.floor(x)\n",
    "etc."
   ]
  },
  {
   "cell_type": "code",
   "execution_count": null,
   "metadata": {
    "scrolled": true
   },
   "outputs": [],
   "source": [
    "#a = a + 1 == a += 1\n",
    "#a = a - 1 == a -+ 1\n",
    "#a = a * 1 == a *= 1\n",
    "#a = a / 1 == a /= 1\n",
    "#a = a // 1 == a //= 1\n",
    "#a = a ** 1 == a **= 1\n",
    "#a = a % 1 == a %= 1"
   ]
  },
  {
   "cell_type": "markdown",
   "metadata": {},
   "source": [
    "Formatted Strings vs curly braces {}"
   ]
  },
  {
   "cell_type": "code",
   "execution_count": null,
   "metadata": {
    "scrolled": true
   },
   "outputs": [],
   "source": [
    "lbs = float(input('What is your weight in lbs: '))                 #use float better than int\n",
    "convert = lbs * .453592\n",
    "print('According to that information, your weight in kg is', str(convert) + '!', '\\nHave a nice day!')\n",
    "print(f'According to that information, your weight in kg is {convert}! \\nHave a nice day!' )  #use formatted string"
   ]
  },
  {
   "cell_type": "code",
   "execution_count": null,
   "metadata": {},
   "outputs": [],
   "source": [
    "first = 'John'\n",
    "last = 'Smith'\n",
    "message = first + ' [' + last + '] is a coder'\n",
    "print(message)\n",
    "msg = f'{first} [{last}] is a coder'                         #ex1\n",
    "print(msg)"
   ]
  },
  {
   "cell_type": "code",
   "execution_count": null,
   "metadata": {
    "scrolled": true
   },
   "outputs": [],
   "source": [
    "a = ('''Python's course for \"beginners\"''')\n",
    "py = (a[17:20])\n",
    "beginner = (a[20:])                  #will assume end as end\n",
    "start = (a[:17])                     #will assume 0 as start \n",
    "how_attach_list = (start + py + beginner)      #a way to attach portions of a list while excluding others\n",
    "print(how_attach_list)\n",
    "\n",
    "print(a[:])                   #will assume 0 as start and end as end\n",
    "print(a.find('b'))            #finds the value of a character for length of string"
   ]
  },
  {
   "cell_type": "markdown",
   "metadata": {},
   "source": [
    "More strings"
   ]
  },
  {
   "cell_type": "code",
   "execution_count": 3,
   "metadata": {},
   "outputs": [
    {
     "name": "stdout",
     "output_type": "stream",
     "text": [
      "20\n",
      "python for beginners\n",
      "Python for Absolute Beginners\n",
      "Python for Beginners\n",
      "11\n",
      "True\n",
      "Nasty for Beginners\n",
      "Python for Beginners\n"
     ]
    }
   ],
   "source": [
    "course = 'Python for Beginners'\n",
    "print(len(course))                                          #used for general purpose counting\n",
    "print(course.lower())                                       #does not modidy old string\n",
    "print(course.replace('Beginners', 'Absolute Beginners'))    # .replace can be very useful \n",
    "print(course)\n",
    "print(course.find('B'))                                     #finds the value of a character for length of string\n",
    "print('for' in course)                                      #returns bool statement\n",
    "\n",
    "course.upper()\n",
    "course.lower()\n",
    "course.title()\n",
    "course.find('s')\n",
    "print(course.replace('Python', 'Nasty'))                #does not replace original string, just generates a new one\n",
    "'...' in course\n",
    "print(course)"
   ]
  },
  {
   "cell_type": "code",
   "execution_count": null,
   "metadata": {},
   "outputs": [],
   "source": []
  }
 ],
 "metadata": {
  "kernelspec": {
   "display_name": "Python 3",
   "language": "python",
   "name": "python3"
  },
  "language_info": {
   "codemirror_mode": {
    "name": "ipython",
    "version": 3
   },
   "file_extension": ".py",
   "mimetype": "text/x-python",
   "name": "python",
   "nbconvert_exporter": "python",
   "pygments_lexer": "ipython3",
   "version": "3.7.3"
  }
 },
 "nbformat": 4,
 "nbformat_minor": 2
}
