{
 "cells": [
  {
   "cell_type": "raw",
   "metadata": {},
   "source": [
    "BASIC GOAL Create a simple game where the computer randomly selects a number between 1 and 100 and the user has to guess what the number is. After every guess, the computer should tell the user if the guess is higher or lower than the answer. When the user guesses the correct number, print out a congratulatory message.\n",
    "\n",
    "SUB GOALS\n",
    "\n",
    "Add an introduction message that explains to the user how to play your game.\n",
    "\n",
    "In addition to the congratulatory message at the end of the game, also print out how many guesses were taken before the user arrived at the correct answer.\n",
    "\n",
    "At the end of the game, allow the user to decide if they want to play again (without having to restart the program)."
   ]
  },
  {
   "cell_type": "code",
   "execution_count": 2,
   "metadata": {},
   "outputs": [
    {
     "name": "stdout",
     "output_type": "stream",
     "text": [
      "5\n",
      "Guess a random number between 1 and 100: 4\n",
      "Your guess is too low, try again\n",
      "Guess a random number between 1 and 100: 6\n",
      "Your guess is too high, try again\n",
      "Guess a random number between 1 and 100: 1\n",
      "Your guess is too low, try again\n",
      "Guess a random number between 1 and 100: 5\n",
      "You got it right\n",
      "4 is the number of guesses you took!\n",
      "Would you like to play again? yes or no: YES\n",
      "63\n",
      "Guess a random number between 1 and 100: 63\n",
      "You got it right\n",
      "1 is the number of guesses you took!\n",
      "Would you like to play again? yes or no: noooo\n",
      "I do not undertand that...\n",
      "Would you like to play again? yes or no: jdhf\n",
      "I do not undertand that...\n",
      "Would you like to play again? yes or no: hfj\n",
      "I do not undertand that...\n",
      "Would you like to play again? yes or no: no\n",
      "Thanks for playing\n"
     ]
    }
   ],
   "source": [
    "import random \n",
    "\n",
    "def again():\n",
    "    replay = str(input('Would you like to play again? yes or no: ').lower())\n",
    "    if replay == 'yes':\n",
    "        THEGAME()\n",
    "    else:\n",
    "        if replay == 'no':\n",
    "            print('Thanks for playing')\n",
    "        else:\n",
    "            print('I do not undertand that...')\n",
    "            again()\n",
    "\n",
    "def THEGAME():\n",
    "    select = random.randint(1,100)\n",
    "    print(select)\n",
    "    game = True\n",
    "    guess = 0\n",
    "    while game == True:\n",
    "        playerinput = int(input('Guess a random number between 1 and 100: '))\n",
    "        if playerinput > select:\n",
    "            print('Your guess is too high, try again')\n",
    "            guess += 1\n",
    "        elif playerinput < select:\n",
    "            print('Your guess is too low, try again')\n",
    "            guess += 1\n",
    "        else:\n",
    "            print('You got it right')\n",
    "            guess += 1\n",
    "            game = False\n",
    "    print(f'{guess} is the number of guesses you took!')\n",
    "    again()\n",
    "\n",
    "pickles = THEGAME()     #can assign a variable to a function, then calling variable will initiate function\n",
    "\n",
    "pickles\n"
   ]
  },
  {
   "cell_type": "code",
   "execution_count": null,
   "metadata": {},
   "outputs": [],
   "source": []
  }
 ],
 "metadata": {
  "kernelspec": {
   "display_name": "Python 3",
   "language": "python",
   "name": "python3"
  },
  "language_info": {
   "codemirror_mode": {
    "name": "ipython",
    "version": 3
   },
   "file_extension": ".py",
   "mimetype": "text/x-python",
   "name": "python",
   "nbconvert_exporter": "python",
   "pygments_lexer": "ipython3",
   "version": "3.7.3"
  }
 },
 "nbformat": 4,
 "nbformat_minor": 2
}
