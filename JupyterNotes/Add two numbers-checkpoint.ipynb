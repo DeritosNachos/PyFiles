{
 "cells": [
  {
   "cell_type": "raw",
   "metadata": {},
   "source": [
    "You are given two non-empty linked lists representing two non-negative integers. The digits are stored in reverse order and each of their nodes contain a single digit. Add the two numbers and return it as a linked list.\n",
    "\n",
    "You may assume the two numbers do not contain any leading zero, except the number 0 itself.\n",
    "\n",
    "Example:\n",
    "\n",
    "Input: (2 -> 4 -> 3) + (5 -> 6 -> 4)\n",
    "Output: 7 -> 0 -> 8\n",
    "Explanation: 342 + 465 = 807."
   ]
  },
  {
   "cell_type": "code",
   "execution_count": 1,
   "metadata": {},
   "outputs": [
    {
     "name": "stdout",
     "output_type": "stream",
     "text": [
      "807\n"
     ]
    }
   ],
   "source": [
    "list1 = [2, 4, 3]\n",
    "list2 = [5, 6, 4]\n",
    "list1.reverse()\n",
    "list2.reverse()\n",
    "strlist1 = ''\n",
    "strlist2 = ''\n",
    "for num in list1:\n",
    "    strlist1 += str(num)\n",
    "for num in list2:\n",
    "    strlist2 += str(num)\n",
    "print(int(strlist1) + int(strlist2))"
   ]
  },
  {
   "cell_type": "code",
   "execution_count": 1,
   "metadata": {},
   "outputs": [],
   "source": []
  }
 ],
 "metadata": {
  "kernelspec": {
   "display_name": "Python 3",
   "language": "python",
   "name": "python3"
  },
  "language_info": {
   "codemirror_mode": {
    "name": "ipython",
    "version": 3
   },
   "file_extension": ".py",
   "mimetype": "text/x-python",
   "name": "python",
   "nbconvert_exporter": "python",
   "pygments_lexer": "ipython3",
   "version": "3.7.3"
  }
 },
 "nbformat": 4,
 "nbformat_minor": 2
}
