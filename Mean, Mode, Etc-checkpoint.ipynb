{
 "cells": [
  {
   "cell_type": "code",
   "execution_count": 1,
   "metadata": {},
   "outputs": [
    {
     "name": "stdout",
     "output_type": "stream",
     "text": [
      "6.230769230769231\n",
      "7.0\n",
      "8\n"
     ]
    }
   ],
   "source": [
    "#mode doesnt work well\n",
    "list1 = [1,2,3,4,5,6,7,8,8,8,9,10,10]\n",
    "\n",
    "def findsmall(a_list):\n",
    "    small = a_list[0]\n",
    "    for num in a_list:\n",
    "        if num < small:\n",
    "            small = num\n",
    "    return small\n",
    "#mine own creation muahahahaha\n",
    "def sortt(a_list):\n",
    "    new_list = [findsmall(a_list)]\n",
    "    copy = a_list.copy()\n",
    "    remove = findsmall(copy)\n",
    "    while len(copy) > 1:\n",
    "        copy.remove(remove)\n",
    "        remove = findsmall(copy)\n",
    "        new_list.append(remove)\n",
    "    return new_list\n",
    "list1 = sortt(list1)\n",
    "\n",
    "def summ(list1):\n",
    "    summ = 0\n",
    "    for num in list1:\n",
    "        summ += num\n",
    "    return summ\n",
    "\n",
    "\n",
    "def mean(list1):\n",
    "    mean = summ(list1) / len(list1)\n",
    "    return(mean)\n",
    "\n",
    "def median(list1):\n",
    "    if len(list1) % 2 == 0:\n",
    "        num1 = len(list1) / 2 \n",
    "        num2 = num1 - 1\n",
    "        median = (list1[int(num1)] + list1[int(num2)]) / 2\n",
    "    else:\n",
    "        median = list1[len(list1) // 2]\n",
    "    return float(median)\n",
    "\n",
    "def mode(list1):\n",
    "    uniques = []\n",
    "    highest_count = 0\n",
    "    number = 0\n",
    "    for num in list1:\n",
    "        if num not in uniques:\n",
    "            uniques.append(num)\n",
    "    for num in uniques:\n",
    "        if list1.count(num) > highest_count:\n",
    "            highest_count = list1.count(num)\n",
    "            number = num\n",
    "    return number\n",
    "            \n",
    "print(mean(list1))\n",
    "print(median(list1))\n",
    "print(mode(list1))\n"
   ]
  },
  {
   "cell_type": "code",
   "execution_count": 1,
   "metadata": {},
   "outputs": [
    {
     "name": "stdout",
     "output_type": "stream",
     "text": [
      "6.230769230769231\n",
      "7.0\n",
      "8\n"
     ]
    }
   ],
   "source": [
    "#mode doesnt work well\n",
    "list1 = [1,2,3,4,5,6,7,8,8,8,9,10,10]\n",
    "\n",
    "list1.sort()      #I made my own sort function and it works!\n",
    "\n",
    "\n",
    "\n",
    "def mean(list1):\n",
    "    mean = sum(list1) / len(list1)   #sum is a nice built in method for lists\n",
    "    return(mean)\n",
    "\n",
    "def median(list1):\n",
    "    if len(list1) % 2 == 0:\n",
    "        num1 = len(list1) / 2 \n",
    "        num2 = num1 - 1\n",
    "        median = (list1[int(num1)] + list1[int(num2)]) / 2\n",
    "    else:\n",
    "        median = list1[len(list1) // 2]\n",
    "    return float(median)\n",
    "\n",
    "def mode(list1):\n",
    "    uniques = []\n",
    "    highest_count = 0\n",
    "    number = 0\n",
    "    for num in list1:\n",
    "        if num not in uniques:\n",
    "            uniques.append(num)\n",
    "    for num in uniques:\n",
    "        if list1.count(num) > highest_count:\n",
    "            highest_count = list1.count(num)\n",
    "            number = num\n",
    "    return number\n",
    "            \n",
    "print(mean(list1))\n",
    "print(median(list1))\n",
    "print(mode(list1))"
   ]
  },
  {
   "cell_type": "raw",
   "metadata": {},
   "source": [
    "listvariable.sort()\n",
    "reverse\tOptional. reverse=True will sort the list descending. Default is reverse=False\n",
    "key\tOptional. A function to specify the sorting criteria(s)\n",
    "\n",
    "cars = ['Ford', 'BMW', 'Volvo']\n",
    "cars.sort(reverse=True)\n",
    "\n",
    "# A function that returns the length of the value:\n",
    "def myFunc(e):\n",
    "  return len(e)\n",
    "cars = ['Ford', 'Mitsubishi', 'BMW', 'VW']\n",
    "cars.sort(key=myFunc)\n",
    "\n",
    "\n",
    "\n",
    "Magic Method of Modes\n",
    "#find mode function\n",
    "You can use the max function and a key. Have a look at python max function using 'key' and lambda expression.\n",
    "\n",
    "max(set(list), key=list.count)"
   ]
  }
 ],
 "metadata": {
  "kernelspec": {
   "display_name": "Python 3",
   "language": "python",
   "name": "python3"
  },
  "language_info": {
   "codemirror_mode": {
    "name": "ipython",
    "version": 3
   },
   "file_extension": ".py",
   "mimetype": "text/x-python",
   "name": "python",
   "nbconvert_exporter": "python",
   "pygments_lexer": "ipython3",
   "version": "3.7.3"
  }
 },
 "nbformat": 4,
 "nbformat_minor": 2
}
