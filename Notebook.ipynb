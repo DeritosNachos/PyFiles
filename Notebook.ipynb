{
 "cells": [
  {
   "cell_type": "code",
   "execution_count": 3,
   "metadata": {},
   "outputs": [
    {
     "name": "stdout",
     "output_type": "stream",
     "text": [
      "Hi, my name is Mosh\n",
      "False\n",
      "False\n",
      "John [Smith] is a coder\n",
      "John [Smith] is a coder\n"
     ]
    }
   ],
   "source": [
    "name = 'Mosh'\n",
    "message = f'Hi, my name is {name}'                 #f is a formatted string use curly braces {} to insert etc.\n",
    "print(message)\n",
    "\n",
    "contains = 'Python' in message                  #returns bool\n",
    "print(contains)\n",
    "print('Python' in message)\n",
    "\n",
    "first = 'John'\n",
    "last = 'Smith'\n",
    "message = first + ' [' + last + '] is a coder'\n",
    "print(message)\n",
    "msg = f'{first} [{last}] is a coder'                         #ex2\n",
    "print(msg)"
   ]
  },
  {
   "cell_type": "code",
   "execution_count": 2,
   "metadata": {},
   "outputs": [
    {
     "name": "stdout",
     "output_type": "stream",
     "text": [
      "['Zurich', 'Paris']\n"
     ]
    }
   ],
   "source": [
    "cities = ['Atlanta', 'Orlando', 'San Francisco', 'Denver', 'Zurich', 'Paris', 'Coos Bay', 'Anchorage']\n",
    "in_usa = cities [0:4], cities [-1] \n",
    "in_eu = cities [-4:-2]\n"
   ]
  },
  {
   "cell_type": "markdown",
   "metadata": {},
   "source": [
    "A taxi driver is calculating their profit over two weeks by adding up the fares they charge and subtracting the cost of gas. The price of gas changes over time - it was $3.52/gallon the first week and $3.57/gallon this second week. Their car gets 20 miles per gallon.\n",
    "\n",
    "For the first week the driver had a total of 23 passengers with average $29 fare each, and drove a total of 160 miles. For the second week they had 17 passengers with average $30 fare each, and drove a total of 220 miles. Assume that for both weeks they purchase all the gas needed during that week (i.e. they refuel every week to maintain a constant level of gas in the tank).\n",
    "\n",
    "Based on the above, answer the following questions:\n",
    "\n",
    "What is their total profit over both weeks?\n",
    "During which week was their average (mean) profit per passenger higher?"
   ]
  },
  {
   "cell_type": "code",
   "execution_count": 7,
   "metadata": {},
   "outputs": [
    {
     "name": "stdout",
     "output_type": "stream",
     "text": [
      "1109.57\n",
      "True\n",
      "Average profit per passenger was higher in week 1\n"
     ]
    }
   ],
   "source": [
    "cost_gal1 = 3.52\n",
    "cost_gal2 = 3.57\n",
    "cost_week1 = cost_gal1 * (160/20)\n",
    "cost_week2 = cost_gal2 * (220/20)\n",
    "total_cost = cost_week1 + cost_week2\n",
    "profit_week1 = 29 * 23\n",
    "profit_week2 = 30 * 17\n",
    "total_profit = profit_week1 + profit_week2\n",
    "net = total_profit-total_cost\n",
    "print (net)\n",
    "profit_week1 < profit_week2\n",
    "print(profit_week1 > profit_week2)\n",
    "print(\"Average profit per passenger was higher in week 1\")"
   ]
  },
  {
   "cell_type": "code",
   "execution_count": null,
   "metadata": {},
   "outputs": [],
   "source": [
    "cities = ['Solta', 'Greenvile', 'Buenos Aires', 'Los Cabos', 'Walla Walla Valley', 'Marakesh', 'Albuquerque', 'Archipelago Sea', \\\n",
    "'Iguaza Falls', 'Salina Island', 'Toronto', 'Pyeongchang']\n",
    "cities [1:3] #0 is 1st position, last position is not included in list"
   ]
  },
  {
   "cell_type": "code",
   "execution_count": 72,
   "metadata": {},
   "outputs": [
    {
     "name": "stdout",
     "output_type": "stream",
     "text": [
      "['Solta', 'Greenvile', 'Buenos Aires', 'Los Cabos', 'Walla Walla Valley', 'Marakesh', 'Albuquerque', 'Archipelago Sea', 'Iguaza Falls', 'Salina Island', 'Toronto', 'Pyeongchang']\n",
      "<class 'list'>\n",
      "12\n",
      "12\n",
      "0\n"
     ]
    }
   ],
   "source": [
    "cities = ['Solta', 'Greenvile', 'Buenos Aires', 'Los Cabos', 'Walla Walla Valley', 'Marakesh', 'Albuquerque', 'Archipelago Sea', \\\n",
    "'Iguaza Falls', 'Salina Island', 'Toronto', 'Pyeongchang']\n",
    "print(cities)                     #prints in order of list\n",
    "top_5 = cities [0:5]\n",
    "cities [-2] = 4\n",
    "cities [-3] = 'Milwalkee'\n",
    "toronto = cities [-2]\n",
    "toronto = False\n",
    "type(toronto)\n",
    "bool(toronto)\n",
    "print(type(cities))\n",
    "type(top_5)\n",
    "cities.append('Antonio')             #append adds Antonio to list of cities, pop removes the last item added to list\n",
    "cities.pop()\n",
    "cities\n",
    "individual_cities = set(cities)     #not in order of list (alphabetical), element only appears once\n",
    "individual_cities = list(individual_cities)            #converts set back into a list\n",
    "individual_cities [2]\n",
    "print(len(individual_cities))\n",
    "print(len(cities))\n",
    "repeats = len(individual_cities) - len(cities)\n",
    "print (repeats)\n",
    "\n",
    "\n",
    "\n"
   ]
  },
  {
   "cell_type": "code",
   "execution_count": 6,
   "metadata": {},
   "outputs": [
    {
     "data": {
      "text/plain": [
       "1"
      ]
     },
     "execution_count": 6,
     "metadata": {},
     "output_type": "execute_result"
    }
   ],
   "source": [
    "\n",
    "kilo = None \n",
    "kilo\n",
    "alpha = 1\n",
    "alpha"
   ]
  },
  {
   "cell_type": "code",
   "execution_count": 4,
   "metadata": {},
   "outputs": [
    {
     "name": "stdout",
     "output_type": "stream",
     "text": [
      "<class 'str'>\n",
      "Python's Course for \"beginners\"\n",
      "25 \n",
      "0.1 \n",
      "Derik Nguyen \n",
      "True\n",
      "Let'S Get This Started Yeah\n",
      "False \n",
      "True\n",
      "27\n",
      "Work Hard Play Hard\n",
      "Work Hard \n",
      "Play Hard\n",
      "Work Hard \n",
      " Play Hard\n",
      "John Smith\n",
      "20\n",
      "Existing Patient:False\n",
      "Existing Patient: False\n",
      "What is your name? Derik Nguyen\n",
      "Ok, now tell me your favorite color punk! Enter Here:pink\n",
      "Hi, Derik Nguyen(TM) you punk ass little bitch I know your favorite color is pink\n",
      "Derik Nguyen likes pink\n",
      "Do you like fish sticks? yes\n",
      "Derik Nguyen, guess what? You're a gay fish!\n",
      "How much do you weigh in lbs?: 250\n",
      "According to that information, you weigh:  113.398 kg\n",
      "damn bro you work out?\n"
     ]
    }
   ],
   "source": [
    "\n",
    "type(3.141596)    #float\n",
    "print(type('''\"A String, yes a string of things\", \"for thee?\", \"for me\"''')) #string\n",
    "type('astringofthings4me') #string\n",
    "type(800869) #integer\n",
    "type(True)    #bool\n",
    "\n",
    "a = '''Python's Course for \"beginners\"'''\n",
    "\n",
    "\n",
    "print(a)\n",
    "\n",
    "\n",
    "#Assigning variables\n",
    "price = 25 #int \n",
    "rating = 0.1 #float\n",
    "name = 'Derik Nguyen' # string  only strings need '' \"\" '''''' \"\"\"\"\"\"\n",
    "is_published = True #bool\n",
    "                                                        # \\n can only be used with str, so we turn things into strings\n",
    "print(str(price), \"\\n\" + str(rating), \"\\n\" + (name),  \"\\n\" + str(is_published))\n",
    "\n",
    "hello_world = \"Let's get this started yeah\".title()\n",
    "print(hello_world)\n",
    "simpson = 'Homer Simpson'.upper()\n",
    "a = simpson.endswith('Simpson')\n",
    "b = simpson.endswith('SIMPSON')\n",
    "print(a, \"\\n\"+str(b))            #not the best fix for line break and fixing the space \n",
    "print(len(hello_world))          #len can be used to count numbers in lists\n",
    "\n",
    "print(\"Work Hard\",           \"Play Hard\")          # , comma_are_spaces_when_combining_strings\n",
    "print(\"Work Hard\", \"\\n\"\"Play Hard\"  )\n",
    "print(\"Work Hard\", \"\\n\", \"Play Hard\"  )\n",
    "\n",
    "#EX\n",
    "name = \"John Smith\"\n",
    "age = 20 \n",
    "existing_patient = False                                    #how_are_commas_used_in_syntax? Can you see?\n",
    "print(name + \"\\n\" + str(age) + \"\\n\" + \"Existing Patient:\"+ str(existing_patient))\n",
    "print(\"Existing Patient:\", str(existing_patient))\n",
    "\n",
    "#EX2\n",
    "name = input('What is your name? ')\n",
    "color = input('Ok, now tell me your favorite color punk! Enter Here:')\n",
    "print (\"Hi,\", name+\"(TM)\", \"you punk ass little bitch\", \"I know your favorite color is\", color)\n",
    "print (name + \" likes \" + color )\n",
    "fish_sticks = input ('Do you like fish sticks? ')\n",
    "if fish_sticks == 'yes':\n",
    "    print(name+',', \"guess what? You're a gay fish!\")\n",
    "else:\n",
    "    print('ok')\n",
    "#print (name, \"is a gay fish\") if fish_sticks = input(yes) #this is no longer a work in progress\n",
    "\n",
    "#EX3\n",
    "user_weight = input(\"How much do you weigh in lbs?: \")\n",
    "ratio_lbs_to_kg = .453592\n",
    "kg = int(user_weight) * float(ratio_lbs_to_kg)   #int can be used with float \n",
    "print(\"According to that information, you weigh: \", str(kg), \"kg\")\n",
    "if kg < 70:\n",
    "    print('boy you need to hit the weights')\n",
    "elif kg > 80:\n",
    "    print('damn bro you work out?')\n",
    "else:\n",
    "    print(\"meh I've seen bigger\")\n"
   ]
  },
  {
   "cell_type": "code",
   "execution_count": 1,
   "metadata": {},
   "outputs": [
    {
     "name": "stdout",
     "output_type": "stream",
     "text": [
      "Birth year: 1993\n",
      "26\n"
     ]
    }
   ],
   "source": [
    "#conversions\n",
    "#int()\n",
    "#float()\n",
    "#str()\n",
    "#bool()\n",
    "\n",
    "\n",
    "birth_year = input('Birth year: ')\n",
    "age = 2019 - int(birth_year)  #birth_year is treated as a str unless int is stated\n",
    "print(age)"
   ]
  },
  {
   "cell_type": "code",
   "execution_count": 2,
   "metadata": {},
   "outputs": [
    {
     "name": "stdout",
     "output_type": "stream",
     "text": [
      "Hello World\n",
      "HOMER SIMPSON\n",
      "hello world\n",
      "Derik B Nguyen\n",
      "hello\n",
      "DERIK B NGUYEN\n",
      "Derik B Nguyen\n",
      "CEO\n",
      "False\n",
      "www.vandelay.com\n",
      "(1)728-555-3334\n",
      "7285553336\n",
      "34th Street\n"
     ]
    }
   ],
   "source": [
    "#[INSTANCE OF A DATATYPE] [DOT] [METHOD NAME] [PARENTHESES] EX\n",
    "\n",
    "print(\"hello world\".title())\n",
    "print('Homer Simpson'.upper())\n",
    "\"Homer Simpson\".endswith('Simpson')\n",
    "\"Charles Montgomery Burns\".endswith('Simpson')\n",
    "'Homer Simpson'.startswith('Homer')\n",
    "'Charles Xavier'.lower()\n",
    "'Charler Xavier'.split()\n",
    "'He sells sea shells down by the sea shore sherbet kils ??,,,lodlp'.split()\n",
    "print(\"hello world\")\n",
    "\n",
    "print(\"Derik B Nguyen\") #This_is_a_string\n",
    "print('hello') ### another_string_and_look_at_the_hashes\n",
    "print(\"Derik B Nguyen\".upper()) #DERIK B NGUYEN\n",
    "print(\"Derik B Nguyen\".title()) # 'Derik B Nguyen\n",
    "print(\"Ceo\".upper()) # 'CEO'\n",
    "print(\"art.vandelay@vandelay.co\".endswith(\".com\"))   #bool \n",
    "print('www.'+'vandelay.com') # 'www.vandelay.com'\n",
    "print(str(\"(1)\") + str(\"728-555-3334\")) # 7285553335\n",
    "print(int(\"7285553334\") + 2) # 7285553336\n",
    "\n",
    "\"Homer Simpson\".endswith(\"Simpson\")       #bool\n",
    "'Homer Simpson'.endswith('Homer')         #bool\n",
    "3 * 5 < 16                                #bool\n",
    "32 < 12                                   #bool\n",
    "###       \"34th street\" < 45 #TypeError: '<' not supported between instances of 'str' and 'int'\n",
    "int('34') < 45            #uses the string 34 and converts to int\n",
    "int(34) < 45              #uses int 34 an converts to int\n",
    "print(str(34) + 'th Street')    #converts the int 34 into a str"
   ]
  },
  {
   "cell_type": "code",
   "execution_count": 4,
   "metadata": {},
   "outputs": [
    {
     "name": "stdout",
     "output_type": "stream",
     "text": [
      "True True True False True\n"
     ]
    }
   ],
   "source": [
    "a = bool(100)\n",
    "b = bool(50)\n",
    "c = bool(10)\n",
    "d = bool(0)\n",
    "e = bool(.01)\n",
    "print(a, b, c, d, e)"
   ]
  },
  {
   "cell_type": "code",
   "execution_count": 103,
   "metadata": {},
   "outputs": [
    {
     "name": "stdout",
     "output_type": "stream",
     "text": [
      "41.25\n"
     ]
    }
   ],
   "source": [
    "#Practice Trace Tables\n",
    "a = 3\n",
    "b = a + 10\n",
    "a = b * (a-3)\n",
    "c = 3 * b / 6 \n",
    "d = c * c \n",
    "d-= 1 \n",
    "print (d)"
   ]
  },
  {
   "cell_type": "code",
   "execution_count": 8,
   "metadata": {},
   "outputs": [],
   "source": [
    "#help(str)\n",
    "#help(int)\n",
    "#help(float)"
   ]
  },
  {
   "cell_type": "code",
   "execution_count": null,
   "metadata": {},
   "outputs": [],
   "source": [
    "# \"Bad programmers worry about the code. Good programmers worry about data structures and their relationships.\" - Linus Torvald"
   ]
  },
  {
   "cell_type": "code",
   "execution_count": 26,
   "metadata": {},
   "outputs": [
    {
     "name": "stdout",
     "output_type": "stream",
     "text": [
      "0.0\n",
      "0.9998999999999999\n",
      "\n",
      "\n",
      "0.0\n",
      "1.0\n",
      "17\n",
      "\n",
      "\n",
      "0\n",
      "0\n",
      "\n",
      "\n",
      "3.142857142857143\n",
      "3\n"
     ]
    }
   ],
   "source": [
    "#truncated_division\n",
    "print(99.99//100)\n",
    "print(99.99/100) \n",
    "print('\\n')\n",
    "print(.8//1)\n",
    "print(.99999999999999999//1)                   #will change value after 17 decimal spaces\n",
    "print(len('99999999999999999'))\n",
    "print('\\n')\n",
    "print(9//10)\n",
    "print(2//3)\n",
    "print('\\n')\n",
    "print(22/7)\n",
    "print(22//7)"
   ]
  },
  {
   "cell_type": "code",
   "execution_count": 104,
   "metadata": {},
   "outputs": [
    {
     "name": "stdout",
     "output_type": "stream",
     "text": [
      "What's up, dude?\n"
     ]
    }
   ],
   "source": [
    "a = \"What's\"\n",
    "b = \" up, \"\n",
    "c = a +  b \n",
    "c += \"dude?\"\n",
    "print (c)"
   ]
  },
  {
   "cell_type": "code",
   "execution_count": 12,
   "metadata": {
    "scrolled": true
   },
   "outputs": [
    {
     "name": "stdout",
     "output_type": "stream",
     "text": [
      "Homer Simpson\n"
     ]
    }
   ],
   "source": [
    "'Homer Simpson' #input\n",
    "type(3.141596)\n",
    "type('Homer Simpson')\n",
    "print('Homer Simpson')"
   ]
  },
  {
   "cell_type": "code",
   "execution_count": 2,
   "metadata": {},
   "outputs": [
    {
     "name": "stdout",
     "output_type": "stream",
     "text": [
      "['Ah,', 'Ba', 'Ba', 'Ba', 'Ba', 'Barbara', 'Ann', 'Ba', 'Ba', 'Ba', 'Ba', 'Barbara', 'Ann', 'Oh', 'Barbara', 'Ann', 'Take', 'My', 'Hand', 'Barbara', 'Ann', 'You', 'Got', 'Me', \"Rockin'\", 'And', \"A-Rollin'\", \"Rockin'\", 'And', \"A-Reelin'\", 'Barbara', 'Ann', 'Ba', 'Ba', 'Ba', 'Barbara', 'Ann', '...More', 'Lyrics...', 'Ba', 'Ba', 'Ba', 'Ba', 'Barbara', 'Ann', 'Ba', 'Ba', 'Ba', 'Ba', 'Barbara', 'Ann']\n",
      "51\n",
      "{'Ba', 'And', 'Hand', 'My', \"A-Reelin'\", \"Rockin'\", 'Got', 'Ann', 'Take', \"A-Rollin'\", '...More', 'Lyrics...', 'Barbara', 'Ah,', 'You', 'Me', 'Oh'}\n",
      "{'Ba': 19, 'And': 2, 'Hand': 1, 'My': 1, \"A-Reelin'\": 1, \"Rockin'\": 2, 'Got': 1, 'Ann': 8, 'Take': 1, \"A-Rollin'\": 1, '...More': 1, 'Lyrics...': 1, 'Barbara': 8, 'Ah,': 1, 'You': 1, 'Me': 1, 'Oh': 1}\n",
      "8\n"
     ]
    }
   ],
   "source": [
    "lyrics = \"Ah, Ba Ba Ba Ba Barbara Ann Ba Ba Ba Ba Barbara Ann Oh Barbara Ann Take My Hand \"  \\\n",
    "\"Barbara Ann You Got Me Rockin' And A-Rollin' Rockin' And A-Reelin' Barbara Ann Ba Ba Ba Barbara\"  \\\n",
    "\" Ann ...More Lyrics... Ba Ba Ba Ba Barbara Ann Ba Ba Ba Ba Barbara Ann\" \n",
    "lyrics0 = \"Ah, Ba Ba Ba Ba Barbara Ann Ba Ba Ba Ba Barbara\" \\\n",
    "\" Ann Oh Barbara Ann Take My Hand Barbara Ann You Got Me Rockin'\" \\\n",
    "\" And A-Rollin' Rockin' And A-Reelin' Barbara Ann Ba Ba Ba Barbara Ann\" \\\n",
    "\" ...More Lyrics... Ba Ba Ba Ba Barbara Ann Ba Ba Ba Ba Barbara Ann\"\n",
    "lyrics1 = \"\"\" \n",
    "Ah, Ba Ba Ba Ba Barbara Ann Ba Ba Ba Ba Barbara Ann Oh Barbara Ann Take My Hand Barbara Ann You Got Me Rockin'\n",
    "And A-Rollin' Rockin' And A-Reelin' Barbara Ann Ba Ba Ba Barbara Ann ...More Lyrics... Ba Ba Ba Ba Barbara \n",
    "Ann Ba Ba Ba Ba Barbara Ann \n",
    "\"\"\"\n",
    "list_of_lyrics= lyrics.split(' ')\n",
    "print(list_of_lyrics)\n",
    "\n",
    "print(len(list_of_lyrics))\n",
    "\n",
    "unique_words = set(list_of_lyrics)\n",
    "print(unique_words)\n",
    "\n",
    "word_histogram = dict.fromkeys(unique_words, 0)\n",
    "for word in list_of_lyrics:\n",
    "    word_histogram[word] = word_histogram[word]+ 1\n",
    "\n",
    "print(word_histogram)\n",
    "\n",
    "print(word_histogram[\"Ann\"])"
   ]
  }
 ],
 "metadata": {
  "kernelspec": {
   "display_name": "Python 3",
   "language": "python",
   "name": "python3"
  },
  "language_info": {
   "codemirror_mode": {
    "name": "ipython",
    "version": 3
   },
   "file_extension": ".py",
   "mimetype": "text/x-python",
   "name": "python",
   "nbconvert_exporter": "python",
   "pygments_lexer": "ipython3",
   "version": "3.7.3"
  }
 },
 "nbformat": 4,
 "nbformat_minor": 2
}
