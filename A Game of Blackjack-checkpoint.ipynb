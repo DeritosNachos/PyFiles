{
 "cells": [
  {
   "cell_type": "code",
   "execution_count": 1,
   "metadata": {},
   "outputs": [
    {
     "name": "stdout",
     "output_type": "stream",
     "text": [
      "10\n",
      "17\n",
      "24\n",
      "you bust\n"
     ]
    }
   ],
   "source": [
    "from random import randint\n",
    "blackjack = 0\n",
    "while blackjack <= 21:\n",
    "    decide = input('Hit or pass: H or P').upper()\n",
    "    if decide == 'H':\n",
    "        blackjack += randint(1,11)\n",
    "        print(blackjack)\n",
    "        if blackjack == 21:\n",
    "            print('you win')\n",
    "            break\n",
    "print('you bust')"
   ]
  }
 ],
 "metadata": {
  "kernelspec": {
   "display_name": "Python 3",
   "language": "python",
   "name": "python3"
  },
  "language_info": {
   "codemirror_mode": {
    "name": "ipython",
    "version": 3
   },
   "file_extension": ".py",
   "mimetype": "text/x-python",
   "name": "python",
   "nbconvert_exporter": "python",
   "pygments_lexer": "ipython3",
   "version": "3.7.3"
  }
 },
 "nbformat": 4,
 "nbformat_minor": 2
}
