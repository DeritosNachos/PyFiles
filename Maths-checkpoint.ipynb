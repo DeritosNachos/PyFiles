{
 "cells": [
  {
   "cell_type": "markdown",
   "metadata": {},
   "source": [
    "Maths "
   ]
  },
  {
   "cell_type": "code",
   "execution_count": 2,
   "metadata": {
    "scrolled": true
   },
   "outputs": [
    {
     "name": "stdout",
     "output_type": "stream",
     "text": [
      "Enter a number: 8\n",
      "The square of 8.0 is 64.0\n"
     ]
    }
   ],
   "source": [
    "def sq():\n",
    "    a = float(input('Enter a number: '))\n",
    "    b = a ** 2 \n",
    "    print(f'The square of {a} is {b}')\n",
    "\n",
    "sq()"
   ]
  },
  {
   "cell_type": "code",
   "execution_count": 22,
   "metadata": {},
   "outputs": [
    {
     "name": "stdout",
     "output_type": "stream",
     "text": [
      "Enter length of base: 50\n",
      "Enter the length of Height: 15\n",
      "The area of the parallelogram is 750.0\n",
      "The area of the parallelogram is 750.0\n"
     ]
    }
   ],
   "source": [
    "def areapar():\n",
    "    base = float(input('Enter length of base: '))\n",
    "    height = float(input('Enter the length of Height: '))\n",
    "\n",
    "    area = base * height \n",
    "\n",
    "    print('The area of the parallelogram is', area)\n",
    "    print(f'The area of the parallelogram is {area}')\n",
    "\n",
    "areapar()"
   ]
  },
  {
   "cell_type": "code",
   "execution_count": 20,
   "metadata": {
    "scrolled": true
   },
   "outputs": [],
   "source": [
    "def areacir():\n",
    "    radius = float(input('Enter the radius of a square: '))\n",
    "\n",
    "    area = 3.14159265359 * (radius**2)\n",
    "\n",
    "    print(f'The area of a circle with a radius of {radius} is {area}')"
   ]
  },
  {
   "cell_type": "code",
   "execution_count": 21,
   "metadata": {},
   "outputs": [],
   "source": [
    "def mpgfunc():\n",
    "    miles = float(input('Enter miles driven: '))\n",
    "    gallons = float(input('Enter gallons used: '))\n",
    "\n",
    "    mpg = miles / gallons\n",
    "\n",
    "    print(f'''Your car's MPG is: {mpg}''')"
   ]
  },
  {
   "cell_type": "code",
   "execution_count": 27,
   "metadata": {},
   "outputs": [
    {
     "name": "stdout",
     "output_type": "stream",
     "text": [
      "initial velocity: 0\n",
      "time: 5\n",
      "acceleration: 60\n",
      "The distance travelled is 750.0\n"
     ]
    }
   ],
   "source": [
    "\n",
    "u0 = float(input('initial velocity: ')) \n",
    "t = float(input('time: '))\n",
    "a = float(input('acceleration: '))\n",
    "\n",
    "S = u0 + (.5*a) * (t**2)\n",
    "\n",
    "print(f'The distance travelled is {S}')\n"
   ]
  },
  {
   "cell_type": "code",
   "execution_count": null,
   "metadata": {},
   "outputs": [],
   "source": []
  },
  {
   "cell_type": "code",
   "execution_count": null,
   "metadata": {},
   "outputs": [],
   "source": []
  },
  {
   "cell_type": "code",
   "execution_count": null,
   "metadata": {},
   "outputs": [],
   "source": []
  },
  {
   "cell_type": "code",
   "execution_count": 1,
   "metadata": {
    "scrolled": true
   },
   "outputs": [
    {
     "ename": "NameError",
     "evalue": "name 'sq' is not defined",
     "output_type": "error",
     "traceback": [
      "\u001b[1;31m---------------------------------------------------------------------------\u001b[0m",
      "\u001b[1;31mNameError\u001b[0m                                 Traceback (most recent call last)",
      "\u001b[1;32m<ipython-input-1-ddc53f281846>\u001b[0m in \u001b[0;36m<module>\u001b[1;34m\u001b[0m\n\u001b[1;32m----> 1\u001b[1;33m \u001b[0msq\u001b[0m\u001b[1;33m(\u001b[0m\u001b[1;33m)\u001b[0m\u001b[1;33m\u001b[0m\u001b[1;33m\u001b[0m\u001b[0m\n\u001b[0m\u001b[0;32m      2\u001b[0m \u001b[0mareapar\u001b[0m\u001b[1;33m(\u001b[0m\u001b[1;33m)\u001b[0m\u001b[1;33m\u001b[0m\u001b[1;33m\u001b[0m\u001b[0m\n\u001b[0;32m      3\u001b[0m \u001b[0mareacir\u001b[0m\u001b[1;33m(\u001b[0m\u001b[1;33m)\u001b[0m\u001b[1;33m\u001b[0m\u001b[1;33m\u001b[0m\u001b[0m\n\u001b[0;32m      4\u001b[0m \u001b[0mmpgfunc\u001b[0m\u001b[1;33m(\u001b[0m\u001b[1;33m)\u001b[0m\u001b[1;33m\u001b[0m\u001b[1;33m\u001b[0m\u001b[0m\n",
      "\u001b[1;31mNameError\u001b[0m: name 'sq' is not defined"
     ]
    }
   ],
   "source": [
    "sq()\n",
    "areapar()\n",
    "areacir()\n",
    "mpgfunc()"
   ]
  }
 ],
 "metadata": {
  "kernelspec": {
   "display_name": "Python 3",
   "language": "python",
   "name": "python3"
  },
  "language_info": {
   "codemirror_mode": {
    "name": "ipython",
    "version": 3
   },
   "file_extension": ".py",
   "mimetype": "text/x-python",
   "name": "python",
   "nbconvert_exporter": "python",
   "pygments_lexer": "ipython3",
   "version": "3.7.3"
  }
 },
 "nbformat": 4,
 "nbformat_minor": 2
}
